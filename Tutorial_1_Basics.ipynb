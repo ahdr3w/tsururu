{
 "cells": [
  {
   "cell_type": "code",
   "execution_count": 1,
   "metadata": {},
   "outputs": [],
   "source": [
    "import warnings\n",
    "warnings.filterwarnings(\"ignore\")\n",
    "\n",
    "from typing import Optional, List, Union\n",
    "from numpy.typing import NDArray\n",
    "\n",
    "import numpy as np\n",
    "import pandas as pd\n",
    "\n",
    "from tsururu.strategies import StrategiesFactory\n",
    "from tsururu.dataset import TSDataset"
   ]
  },
  {
   "cell_type": "code",
   "execution_count": 3,
   "metadata": {},
   "outputs": [],
   "source": [
    "def get_results(\n",
    "    cv: int,\n",
    "    regime: str,\n",
    "    y_true: Optional[List[NDArray[np.floating]]] = None,\n",
    "    y_pred: Optional[List[NDArray[np.floating]]] = None,\n",
    "    ids: Optional[List[Union[float, str]]] = None,\n",
    ") -> pd.DataFrame:\n",
    "    def _get_fold_value(\n",
    "        value: Optional[Union[float, NDArray[np.floating]]], idx: int\n",
    "    ) -> List[Optional[Union[float, NDArray[np.floating]]]]:\n",
    "        if value is None:\n",
    "            return [None]\n",
    "        if isinstance(value[idx], float):\n",
    "            return value[idx]\n",
    "        if isinstance(value[idx], np.ndarray):\n",
    "            return value[idx].reshape(-1)\n",
    "        raise TypeError(f\"Unexpected value type. Value: {value}\")\n",
    "\n",
    "    df_res_dict = {}\n",
    "\n",
    "    for idx_fold in range(cv):\n",
    "        # Fill df_res_dict\n",
    "        for name, value in [(\"y_true\", y_true), (\"y_pred\", y_pred)]:\n",
    "            df_res_dict[f\"{name}_{idx_fold+1}\"] = _get_fold_value(\n",
    "                value, idx_fold\n",
    "            )\n",
    "        if regime != \"local\":\n",
    "            df_res_dict[f\"id_{idx_fold+1}\"] = _get_fold_value(ids, idx_fold)\n",
    "\n",
    "    # Save datasets to specified directory\n",
    "    df_res = pd.DataFrame(df_res_dict)\n",
    "    return df_res"
   ]
  },
  {
   "cell_type": "markdown",
   "metadata": {},
   "source": [
    "## Pipeline setup"
   ]
  },
  {
   "cell_type": "markdown",
   "metadata": {},
   "source": [
    "There are four main objects in total:\n",
    "1) `TSDataset`.\n",
    "2) `Strategy`\n",
    "3) `Model`: it is a part of Strategy\n",
    "4) `Transformers`."
   ]
  },
  {
   "cell_type": "markdown",
   "metadata": {},
   "source": [
    "Special attention should be paid to the `Transformer` class: the elements of the pipeline that are responsible for transforming the values of a series and generating features. \n",
    "\n",
    "There are several types of transformers: \n",
    "- `SeriesToSeries` (take as input train, test in the form of the original series (id, datetime, features) and output train, test in the same structure).\n",
    "- `SeriesToFeatures` (takes as input train, test as a source series (id, datetime, features) and outputs tables with features).\n",
    "- `FeaturesToFeatures` (take as input TABLE data in pd.DataFrame format, make transformations and output pd.DataFrame).\n",
    "\n",
    "Below is a list of available Transformers: \n",
    "- `StandardScaler` - SeriesToSeries\n",
    "- `LastKnownNormalizer` - FeaturesToFeatures (after building features we normalize all lags by the last known one: divide by it or subtract).\n",
    "- `DifferenceNormalizer` - SeriesToSeries (subtract the previous value or divide by it)\n",
    "- `TimeToNumGenerator`, `DateSeasonsGenerator` - SeriesToFeatures (generate seasonal fixtures by dates)\n",
    "- `LagTransformer` - SeriesToFeatures\n",
    "\n",
    "Now only one of [`StandardScalerTransformer`, `DifferenceNormalizer` and `LastKnownNormalizer`] can be used at a time, and the first two must be before LagTransformer and the last one after. "
   ]
  },
  {
   "cell_type": "code",
   "execution_count": 4,
   "metadata": {},
   "outputs": [],
   "source": [
    "# for global and multivariate all time seires should be in one .csv file, divided by id \n",
    "# for local each time serie should be in its own .csv file also with id column \n",
    "df_path = \"datasets/global/simulated_data_to_check.csv\"\n",
    "\n",
    "# Configure the features settings\n",
    "columns_and_features_params = {\n",
    "    \"target\": {\n",
    "        \"column\": [\"value\"],\n",
    "        \"type\": \"continious\",\n",
    "        \"features\": {\n",
    "            \"LagTransformer\": {\"lags\": 30},\n",
    "            \"LastKnownNormalizer\": {\n",
    "                \"regime\": \"ratio\",\n",
    "                \"transform_train\": True,\n",
    "                \"transform_target\": True\n",
    "            } \n",
    "        },\n",
    "        \"drop_raw_feature\": False,\n",
    "    },\n",
    "    \"date\": {\n",
    "        \"column\": [\"date\"],\n",
    "        \"type\": \"datetime\",\n",
    "        \"features\": {\n",
    "            \"DateSeasonsGenerator\": {\n",
    "                # Use seasonality features from the date column as features with datetime lags\n",
    "                # Possible values: [\n",
    "                #    \"y\": year, \"m\": month, \"d\": day, \n",
    "                #    \"wd\": weekday, \"doy\": dayofyear,\n",
    "                #    \"hour\": hour, \"min\": minute, \"sec\": second, \n",
    "                #    \"ms\": microsecond,  \"ns\": nanosecond\n",
    "                # ]\n",
    "                \"seasonalities\": ['doy', 'm', 'wd'], \n",
    "                # Use date from target point to make datetime features\n",
    "                \"from_target_date\": True,\n",
    "            },\n",
    "            \"LagTransformer\": {\"lags\": 7}\n",
    "        },\n",
    "        \"drop_raw_feature\": True,\n",
    "    },\n",
    "    \"id\": {\n",
    "        \"column\": [\"id\"],\n",
    "        \"type\": \"categorical\",\n",
    "        \"drop_raw_feature\": False,\n",
    "    }\n",
    "}\n",
    "\n",
    "# Configure the model parameters\n",
    "model_params = {\n",
    "    \"loss_function\": \"MultiRMSE\",\n",
    "    \"early_stopping_rounds\": 100,\n",
    "    \"verbose\": 500,\n",
    "}\n",
    "\n",
    "# Configure the validation parameters\n",
    "validation_params = {\n",
    "    \"type\": 'KFold',\n",
    "    \"n_splits\": 3,\n",
    "}\n",
    "\n",
    "# Configure the strategies parameters\n",
    "strategy_params = {\n",
    "    \"is_multivariate\": False, \n",
    "    # possible values: \n",
    "    # [\n",
    "    #     'RecursiveStrategy', \n",
    "    #     'DirectStrategy', \n",
    "    #     'DirRecStrategy', \n",
    "    #     'MIMOStrategy', \n",
    "    #     'FlatWideMIMOStrategy', \n",
    "    # ]\n",
    "    \"strategy_name\": \"RecursiveStrategy\",\n",
    "    \"strategy_params\": {\n",
    "        \"horizon\": 7,\n",
    "        \"model_name\": \"CatBoostRegressor_CV\",\n",
    "        \"model_params\": model_params,\n",
    "        \"validation_params\": validation_params,\n",
    "        \"k\": 1,\n",
    "    }\n",
    "}"
   ]
  },
  {
   "cell_type": "code",
   "execution_count": 5,
   "metadata": {},
   "outputs": [],
   "source": [
    "strategies_factory = StrategiesFactory()"
   ]
  },
  {
   "cell_type": "code",
   "execution_count": 6,
   "metadata": {},
   "outputs": [
    {
     "name": "stdout",
     "output_type": "stream",
     "text": [
      "freq: Day; period: 1\n"
     ]
    }
   ],
   "source": [
    "dataset = TSDataset(\n",
    "    data=pd.read_csv(df_path),\n",
    "    columns_and_features_params=columns_and_features_params,\n",
    "    history=30,\n",
    ")\n",
    "\n",
    "strategy = strategies_factory[strategy_params]"
   ]
  },
  {
   "cell_type": "markdown",
   "metadata": {},
   "source": [
    "## Backtest validation of pipeline"
   ]
  },
  {
   "cell_type": "code",
   "execution_count": 7,
   "metadata": {},
   "outputs": [
    {
     "name": "stdout",
     "output_type": "stream",
     "text": [
      "freq: Day; period: 1\n",
      "0:\tlearn: 0.0001731\ttest: 0.0001793\tbest: 0.0001793 (0)\ttotal: 63.7ms\tremaining: 1m 3s\n",
      "500:\tlearn: 0.0000015\ttest: 0.0000015\tbest: 0.0000015 (500)\ttotal: 1.29s\tremaining: 1.29s\n",
      "999:\tlearn: 0.0000011\ttest: 0.0000011\tbest: 0.0000011 (999)\ttotal: 2.48s\tremaining: 0us\n",
      "\n",
      "bestTest = 1.110360723e-06\n",
      "bestIteration = 999\n",
      "\n",
      "Fold 0:\n",
      "MultiRMSE: 1.110360722708484e-06\n",
      "0:\tlearn: 0.0001756\ttest: 0.0001744\tbest: 0.0001744 (0)\ttotal: 6.77ms\tremaining: 6.77s\n",
      "500:\tlearn: 0.0000015\ttest: 0.0000016\tbest: 0.0000016 (500)\ttotal: 1.31s\tremaining: 1.31s\n",
      "999:\tlearn: 0.0000011\ttest: 0.0000012\tbest: 0.0000012 (999)\ttotal: 2.51s\tremaining: 0us\n",
      "\n",
      "bestTest = 1.164605569e-06\n",
      "bestIteration = 999\n",
      "\n",
      "Fold 1:\n",
      "MultiRMSE: 1.1646055692725877e-06\n",
      "0:\tlearn: 0.0001767\ttest: 0.0001718\tbest: 0.0001718 (0)\ttotal: 4.55ms\tremaining: 4.54s\n",
      "500:\tlearn: 0.0000015\ttest: 0.0000015\tbest: 0.0000015 (500)\ttotal: 1.37s\tremaining: 1.37s\n",
      "999:\tlearn: 0.0000011\ttest: 0.0000012\tbest: 0.0000012 (999)\ttotal: 2.94s\tremaining: 0us\n",
      "\n",
      "bestTest = 1.166647188e-06\n",
      "bestIteration = 999\n",
      "\n",
      "Fold 2:\n",
      "MultiRMSE: 1.166647188462339e-06\n",
      "Mean MultiRMSE: 0.0\n",
      "Std: 0.0\n"
     ]
    }
   ],
   "source": [
    "ids, test, pred, fit_time, forecast_time, num_iterations = strategy.back_test(dataset, cv=1)"
   ]
  },
  {
   "cell_type": "code",
   "execution_count": 8,
   "metadata": {},
   "outputs": [
    {
     "data": {
      "text/html": [
       "<div>\n",
       "<style scoped>\n",
       "    .dataframe tbody tr th:only-of-type {\n",
       "        vertical-align: middle;\n",
       "    }\n",
       "\n",
       "    .dataframe tbody tr th {\n",
       "        vertical-align: top;\n",
       "    }\n",
       "\n",
       "    .dataframe thead th {\n",
       "        text-align: right;\n",
       "    }\n",
       "</style>\n",
       "<table border=\"1\" class=\"dataframe\">\n",
       "  <thead>\n",
       "    <tr style=\"text-align: right;\">\n",
       "      <th></th>\n",
       "      <th>y_true_1</th>\n",
       "      <th>y_pred_1</th>\n",
       "      <th>id_1</th>\n",
       "    </tr>\n",
       "  </thead>\n",
       "  <tbody>\n",
       "    <tr>\n",
       "      <th>0</th>\n",
       "      <td>1993.0</td>\n",
       "      <td>1993.001848</td>\n",
       "      <td>0</td>\n",
       "    </tr>\n",
       "    <tr>\n",
       "      <th>1</th>\n",
       "      <td>1994.0</td>\n",
       "      <td>1994.003998</td>\n",
       "      <td>0</td>\n",
       "    </tr>\n",
       "    <tr>\n",
       "      <th>2</th>\n",
       "      <td>1995.0</td>\n",
       "      <td>1995.006528</td>\n",
       "      <td>0</td>\n",
       "    </tr>\n",
       "    <tr>\n",
       "      <th>3</th>\n",
       "      <td>1996.0</td>\n",
       "      <td>1996.009711</td>\n",
       "      <td>0</td>\n",
       "    </tr>\n",
       "    <tr>\n",
       "      <th>4</th>\n",
       "      <td>1997.0</td>\n",
       "      <td>1997.013492</td>\n",
       "      <td>0</td>\n",
       "    </tr>\n",
       "    <tr>\n",
       "      <th>...</th>\n",
       "      <td>...</td>\n",
       "      <td>...</td>\n",
       "      <td>...</td>\n",
       "    </tr>\n",
       "    <tr>\n",
       "      <th>65</th>\n",
       "      <td>10995.0</td>\n",
       "      <td>10995.02394</td>\n",
       "      <td>9</td>\n",
       "    </tr>\n",
       "    <tr>\n",
       "      <th>66</th>\n",
       "      <td>10996.0</td>\n",
       "      <td>10996.033025</td>\n",
       "      <td>9</td>\n",
       "    </tr>\n",
       "    <tr>\n",
       "      <th>67</th>\n",
       "      <td>10997.0</td>\n",
       "      <td>10997.042218</td>\n",
       "      <td>9</td>\n",
       "    </tr>\n",
       "    <tr>\n",
       "      <th>68</th>\n",
       "      <td>10998.0</td>\n",
       "      <td>10998.051709</td>\n",
       "      <td>9</td>\n",
       "    </tr>\n",
       "    <tr>\n",
       "      <th>69</th>\n",
       "      <td>10999.0</td>\n",
       "      <td>10999.06128</td>\n",
       "      <td>9</td>\n",
       "    </tr>\n",
       "  </tbody>\n",
       "</table>\n",
       "<p>70 rows × 3 columns</p>\n",
       "</div>"
      ],
      "text/plain": [
       "    y_true_1      y_pred_1 id_1\n",
       "0     1993.0   1993.001848    0\n",
       "1     1994.0   1994.003998    0\n",
       "2     1995.0   1995.006528    0\n",
       "3     1996.0   1996.009711    0\n",
       "4     1997.0   1997.013492    0\n",
       "..       ...           ...  ...\n",
       "65   10995.0   10995.02394    9\n",
       "66   10996.0  10996.033025    9\n",
       "67   10997.0  10997.042218    9\n",
       "68   10998.0  10998.051709    9\n",
       "69   10999.0   10999.06128    9\n",
       "\n",
       "[70 rows x 3 columns]"
      ]
     },
     "execution_count": 8,
     "metadata": {},
     "output_type": "execute_result"
    }
   ],
   "source": [
    "get_results(cv=1, regime=\"global\", y_true=test, y_pred=pred, ids=ids)"
   ]
  },
  {
   "cell_type": "markdown",
   "metadata": {},
   "source": [
    "## Fit and predict interface of pipeline"
   ]
  },
  {
   "cell_type": "code",
   "execution_count": 9,
   "metadata": {},
   "outputs": [
    {
     "name": "stdout",
     "output_type": "stream",
     "text": [
      "0:\tlearn: 0.0001722\ttest: 0.0001803\tbest: 0.0001803 (0)\ttotal: 9.59ms\tremaining: 9.58s\n",
      "500:\tlearn: 0.0000015\ttest: 0.0000016\tbest: 0.0000016 (500)\ttotal: 1.65s\tremaining: 1.64s\n",
      "999:\tlearn: 0.0000010\ttest: 0.0000012\tbest: 0.0000012 (999)\ttotal: 3.05s\tremaining: 0us\n",
      "\n",
      "bestTest = 1.219564131e-06\n",
      "bestIteration = 999\n",
      "\n",
      "Fold 0:\n",
      "MultiRMSE: 1.2195641307026147e-06\n",
      "0:\tlearn: 0.0001757\ttest: 0.0001733\tbest: 0.0001733 (0)\ttotal: 6.25ms\tremaining: 6.24s\n",
      "500:\tlearn: 0.0000015\ttest: 0.0000016\tbest: 0.0000016 (500)\ttotal: 2.09s\tremaining: 2.08s\n",
      "999:\tlearn: 0.0000010\ttest: 0.0000012\tbest: 0.0000012 (999)\ttotal: 3.71s\tremaining: 0us\n",
      "\n",
      "bestTest = 1.162857853e-06\n",
      "bestIteration = 999\n",
      "\n",
      "Fold 1:\n",
      "MultiRMSE: 1.1628578528684804e-06\n",
      "0:\tlearn: 0.0001768\ttest: 0.0001711\tbest: 0.0001711 (0)\ttotal: 3.75ms\tremaining: 3.75s\n",
      "500:\tlearn: 0.0000015\ttest: 0.0000015\tbest: 0.0000015 (500)\ttotal: 1.85s\tremaining: 1.84s\n",
      "999:\tlearn: 0.0000010\ttest: 0.0000011\tbest: 0.0000011 (999)\ttotal: 3.83s\tremaining: 0us\n",
      "\n",
      "bestTest = 1.086497806e-06\n",
      "bestIteration = 999\n",
      "\n",
      "Fold 2:\n",
      "MultiRMSE: 1.0864978056032735e-06\n",
      "Mean MultiRMSE: 0.0\n",
      "Std: 0.0\n"
     ]
    }
   ],
   "source": [
    "fit_time, _ = strategy.fit(dataset)\n",
    "forecast_time, current_pred = strategy.predict(dataset)"
   ]
  },
  {
   "cell_type": "code",
   "execution_count": 10,
   "metadata": {},
   "outputs": [
    {
     "data": {
      "text/html": [
       "<div>\n",
       "<style scoped>\n",
       "    .dataframe tbody tr th:only-of-type {\n",
       "        vertical-align: middle;\n",
       "    }\n",
       "\n",
       "    .dataframe tbody tr th {\n",
       "        vertical-align: top;\n",
       "    }\n",
       "\n",
       "    .dataframe thead th {\n",
       "        text-align: right;\n",
       "    }\n",
       "</style>\n",
       "<table border=\"1\" class=\"dataframe\">\n",
       "  <thead>\n",
       "    <tr style=\"text-align: right;\">\n",
       "      <th></th>\n",
       "      <th>id</th>\n",
       "      <th>date</th>\n",
       "      <th>value</th>\n",
       "    </tr>\n",
       "  </thead>\n",
       "  <tbody>\n",
       "    <tr>\n",
       "      <th>0</th>\n",
       "      <td>0</td>\n",
       "      <td>2022-09-27</td>\n",
       "      <td>2000.005171</td>\n",
       "    </tr>\n",
       "    <tr>\n",
       "      <th>1</th>\n",
       "      <td>0</td>\n",
       "      <td>2022-09-28</td>\n",
       "      <td>2001.010566</td>\n",
       "    </tr>\n",
       "    <tr>\n",
       "      <th>2</th>\n",
       "      <td>0</td>\n",
       "      <td>2022-09-29</td>\n",
       "      <td>2002.016642</td>\n",
       "    </tr>\n",
       "    <tr>\n",
       "      <th>3</th>\n",
       "      <td>0</td>\n",
       "      <td>2022-09-30</td>\n",
       "      <td>2003.023209</td>\n",
       "    </tr>\n",
       "    <tr>\n",
       "      <th>4</th>\n",
       "      <td>0</td>\n",
       "      <td>2022-10-01</td>\n",
       "      <td>2004.030248</td>\n",
       "    </tr>\n",
       "    <tr>\n",
       "      <th>...</th>\n",
       "      <td>...</td>\n",
       "      <td>...</td>\n",
       "      <td>...</td>\n",
       "    </tr>\n",
       "    <tr>\n",
       "      <th>65</th>\n",
       "      <td>9</td>\n",
       "      <td>2022-09-29</td>\n",
       "      <td>11002.027435</td>\n",
       "    </tr>\n",
       "    <tr>\n",
       "      <th>66</th>\n",
       "      <td>9</td>\n",
       "      <td>2022-09-30</td>\n",
       "      <td>11003.03777</td>\n",
       "    </tr>\n",
       "    <tr>\n",
       "      <th>67</th>\n",
       "      <td>9</td>\n",
       "      <td>2022-10-01</td>\n",
       "      <td>11004.048562</td>\n",
       "    </tr>\n",
       "    <tr>\n",
       "      <th>68</th>\n",
       "      <td>9</td>\n",
       "      <td>2022-10-02</td>\n",
       "      <td>11005.059555</td>\n",
       "    </tr>\n",
       "    <tr>\n",
       "      <th>69</th>\n",
       "      <td>9</td>\n",
       "      <td>2022-10-03</td>\n",
       "      <td>11006.070114</td>\n",
       "    </tr>\n",
       "  </tbody>\n",
       "</table>\n",
       "<p>70 rows × 3 columns</p>\n",
       "</div>"
      ],
      "text/plain": [
       "   id       date         value\n",
       "0   0 2022-09-27   2000.005171\n",
       "1   0 2022-09-28   2001.010566\n",
       "2   0 2022-09-29   2002.016642\n",
       "3   0 2022-09-30   2003.023209\n",
       "4   0 2022-10-01   2004.030248\n",
       ".. ..        ...           ...\n",
       "65  9 2022-09-29  11002.027435\n",
       "66  9 2022-09-30   11003.03777\n",
       "67  9 2022-10-01  11004.048562\n",
       "68  9 2022-10-02  11005.059555\n",
       "69  9 2022-10-03  11006.070114\n",
       "\n",
       "[70 rows x 3 columns]"
      ]
     },
     "execution_count": 10,
     "metadata": {},
     "output_type": "execute_result"
    }
   ],
   "source": [
    "current_pred"
   ]
  },
  {
   "cell_type": "markdown",
   "metadata": {},
   "source": [
    "## Working with raw time series' granularity"
   ]
  },
  {
   "cell_type": "markdown",
   "metadata": {},
   "source": [
    "Time series come in different granularities, from hourly and daily time series to more complex ones such as the end of each quarter.\n",
    "\n",
    "If the rows do not contain segments that are too short (that are shorter than history + horizon), then `tsururu` will try to extract the row granularity on its own. We currently support the following types:\n",
    "\n",
    "- Yearly (and YearlyEnd)\n",
    "- Quarterly (and Quarterly)\n",
    "- Monthly (and MonthlyEnd)\n",
    "- Weekly\n",
    "- Daily\n",
    "- Hourly\n",
    "- Minlutely\n",
    "- Secondly\n",
    "- Microsecondly\n",
    "\n",
    "There is also support for compound granularities (10 days, 15 minutes, 32 seconds, etc.). The correctness of the selected granularity can be checked from the output after the `Dataset` class has been created.\n",
    "\n",
    "However, there are tricky situations (e.g. 28 days) where the monthly granularity may be guessed incorrectly. Therefore, it is possible to set your own granularity using the `pd.DateOffset` class or related classes from `pandas.tseries.offsets`, which must be fed as `delta` parameter into the `Dataset` class. Then the time column will be processed according to the user's settings."
   ]
  },
  {
   "cell_type": "markdown",
   "metadata": {},
   "source": [
    "Consider a time series where each point is exactly __28 daily points away__ from each other"
   ]
  },
  {
   "cell_type": "code",
   "execution_count": 31,
   "metadata": {},
   "outputs": [],
   "source": [
    "df_path_2 = \"datasets/global/simulated_data_to_check_28D.csv\"\n",
    "\n",
    "# Configure the features settings\n",
    "columns_and_features_params_2 = {\n",
    "    \"target\": {\n",
    "        \"column\": [\"value\"],\n",
    "        \"type\": \"continious\",\n",
    "    },\n",
    "    \"date\": {\n",
    "        \"column\": [\"date\"],\n",
    "        \"type\": \"datetime\",\n",
    "    },\n",
    "    \"id\": {\n",
    "        \"column\": [\"id\"],\n",
    "        \"type\": \"categorical\",\n",
    "    }\n",
    "}"
   ]
  },
  {
   "cell_type": "code",
   "execution_count": 32,
   "metadata": {},
   "outputs": [
    {
     "name": "stdout",
     "output_type": "stream",
     "text": [
      "freq: Month; period: 1.0\n"
     ]
    }
   ],
   "source": [
    "dataset_2 = TSDataset(\n",
    "    data=pd.read_csv(df_path_2),\n",
    "    columns_and_features_params=columns_and_features_params_2,\n",
    "    history=30,\n",
    ")"
   ]
  },
  {
   "cell_type": "markdown",
   "metadata": {},
   "source": [
    "We see that the frequency of the series is incorrectly defined as monthly. Let's try to pass the `delta` parameter."
   ]
  },
  {
   "cell_type": "code",
   "execution_count": 33,
   "metadata": {},
   "outputs": [
    {
     "name": "stdout",
     "output_type": "stream",
     "text": [
      "Custom OffSet: <DateOffset: days=28>\n"
     ]
    }
   ],
   "source": [
    "dataset_2 = TSDataset(\n",
    "    data=pd.read_csv(df_path_2),\n",
    "    columns_and_features_params=columns_and_features_params_2,\n",
    "    history=30,\n",
    "    delta=pd.DateOffset(days=28),\n",
    ")"
   ]
  },
  {
   "cell_type": "markdown",
   "metadata": {},
   "source": [
    "Now it's all detected correctly."
   ]
  }
 ],
 "metadata": {
  "interpreter": {
   "hash": "392b740c6558b1f5423790a6e7f87381d62018784406f4d2703c5f23de218ae3"
  },
  "kernelspec": {
   "display_name": "Python 3.9.0 64-bit ('alina_py39')",
   "language": "python",
   "name": "python3"
  },
  "language_info": {
   "codemirror_mode": {
    "name": "ipython",
    "version": 3
   },
   "file_extension": ".py",
   "mimetype": "text/x-python",
   "name": "python",
   "nbconvert_exporter": "python",
   "pygments_lexer": "ipython3",
   "version": "3.9.18"
  },
  "orig_nbformat": 4
 },
 "nbformat": 4,
 "nbformat_minor": 2
}
