{
 "cells": [
  {
   "cell_type": "code",
   "execution_count": 1,
   "metadata": {},
   "outputs": [],
   "source": [
    "import warnings\n",
    "\n",
    "warnings.filterwarnings(\"ignore\")\n",
    "\n",
    "from typing import List, Optional, Union\n",
    "\n",
    "import numpy as np\n",
    "import pandas as pd\n",
    "\n",
    "from tsururu.dataset import IndexSlicer, Pipeline, TSDataset\n",
    "from tsururu.models import CatBoostRegressor_CV\n",
    "from tsururu.strategies import (\n",
    "    DirectStrategy,\n",
    "    FlatWideMIMOStrategy,\n",
    "    MIMOStrategy,\n",
    "    RecursiveStrategy,\n",
    ")\n",
    "from tsururu.transformers import (\n",
    "    DateSeasonsGenerator,\n",
    "    DifferenceNormalizer,\n",
    "    LagTransformer,\n",
    "    LastKnownNormalizer,\n",
    "    SequentialTransformer,\n",
    "    StandardScalerTransformer,\n",
    "    TargetGenerator,\n",
    "    UnionTransformer,\n",
    ")\n",
    "from tsururu.models import MeanBlender"
   ]
  },
  {
   "cell_type": "code",
   "execution_count": 2,
   "metadata": {},
   "outputs": [],
   "source": [
    "def get_results(\n",
    "    cv: int,\n",
    "    regime: str,\n",
    "    y_true: Optional[List[np.ndarray]] = None,\n",
    "    y_pred: Optional[List[np.ndarray]] = None,\n",
    "    ids: Optional[List[Union[float, str]]] = None,\n",
    ") -> pd.DataFrame:\n",
    "    def _get_fold_value(\n",
    "        value: Optional[Union[float, np.ndarray]], idx: int\n",
    "    ) -> List[Optional[Union[float, np.ndarray]]]:\n",
    "        if value is None:\n",
    "            return [None]\n",
    "        if isinstance(value[idx], float):\n",
    "            return value[idx]\n",
    "        if isinstance(value[idx], np.ndarray):\n",
    "            return value[idx].reshape(-1)\n",
    "        raise TypeError(f\"Unexpected value type. Value: {value}\")\n",
    "\n",
    "    df_res_dict = {}\n",
    "\n",
    "    for idx_fold in range(cv):\n",
    "        # Fill df_res_dict\n",
    "        for name, value in [(\"y_true\", y_true), (\"y_pred\", y_pred)]:\n",
    "            df_res_dict[f\"{name}_{idx_fold+1}\"] = _get_fold_value(\n",
    "                value, idx_fold\n",
    "            )\n",
    "        if regime != \"local\":\n",
    "            df_res_dict[f\"id_{idx_fold+1}\"] = _get_fold_value(ids, idx_fold)\n",
    "\n",
    "    # Save datasets to specified directory\n",
    "    df_res = pd.DataFrame(df_res_dict)\n",
    "    return df_res"
   ]
  },
  {
   "cell_type": "markdown",
   "metadata": {},
   "source": [
    "There are several main objects to look out for when working with the library:\n",
    "1) `TSDataset`.\n",
    "2) `Pipeline` and `Transformers`\n",
    "3) `Strategy`.\n",
    "4) `Model`."
   ]
  },
  {
   "cell_type": "markdown",
   "metadata": {},
   "source": [
    "### TSDataset"
   ]
  },
  {
   "cell_type": "markdown",
   "metadata": {},
   "source": [
    "This class is needed to store data and meta-information about it."
   ]
  },
  {
   "cell_type": "markdown",
   "metadata": {},
   "source": [
    "To initialise it is necessary to submit the data in `pd.DataFrame` format and define some meta-information about roles that necessary for solving the task of time series forecasting: `id`, `date`, `target`."
   ]
  },
  {
   "cell_type": "code",
   "execution_count": 3,
   "metadata": {},
   "outputs": [],
   "source": [
    "df_path = \"datasets/global/ettm1.csv\"\n",
    "\n",
    "dataset_params = {\n",
    "    \"target\": {\n",
    "        \"columns\": [\"value\"],\n",
    "        \"type\": \"continious\",\n",
    "    },\n",
    "    \"date\": {\n",
    "        \"columns\": [\"date\"],\n",
    "        \"type\": \"datetime\",\n",
    "    },\n",
    "    \"id\": {\n",
    "        \"columns\": [\"id\"],\n",
    "        \"type\": \"categorical\",\n",
    "    }\n",
    "}"
   ]
  },
  {
   "cell_type": "code",
   "execution_count": 4,
   "metadata": {},
   "outputs": [
    {
     "name": "stdout",
     "output_type": "stream",
     "text": [
      "freq: less then Day (Hour, Min, Sec, etc); period: 900.0 seconds\n"
     ]
    }
   ],
   "source": [
    "dataset = TSDataset(\n",
    "    data=pd.read_csv(df_path),\n",
    "    columns_params=dataset_params,\n",
    ")"
   ]
  },
  {
   "cell_type": "markdown",
   "metadata": {},
   "source": [
    "### Pipeline and Transformers"
   ]
  },
  {
   "cell_type": "markdown",
   "metadata": {},
   "source": [
    "#### What kind of transformers are there?"
   ]
  },
  {
   "cell_type": "markdown",
   "metadata": {},
   "source": [
    "Special attention should be paid to the `Transformer` class: the elements of the pipeline that are responsible for transforming the values of a series and generating features. `Pipeline` class is a wrapper over transformers which is needed to provide some additional methods and functions above them.\n",
    "\n",
    "There are two types of transformers that are used to collect pipelines:\n",
    "- `Union` transformers;\n",
    "- `Sequential` transformers.\n",
    "\n",
    "Below is a list of available Transformers: \n",
    "- `StandardScalerTransformer` *(Series4Series)*.\n",
    "- `DifferenceNormalizer` *(Series4Series)*: subtract the previous value or divide by it.\n",
    "- `LastKnownNormalizer` *(Features4Features)*: normalize all lags by the last known one: divide by it or subtract.\n",
    "\n",
    "This three transformers provide flags `transform_features` / `transform_target`, that allow you to manipulate traits and targets separately and get different results from them.\n",
    "\n",
    "Besides, __DifferenceNormalizer__ and __LastKnownNormalizer__ can be applied in two regimes: `delta` and `ratio`: in the first case, normalisation means subtracting the target value from the current value, and in the second, dividing by it.\n",
    "\n",
    "- `LabelEncodingTransformer` and `OneHotEncodingTransformer` *(Series4Series)* - encoders for categorical features.\n",
    "- `TimeToNumGenerator` and `DateSeasonsGenerator` *(Series4Series)* - generator for seasonal features by dates.\n",
    "- `LagTransformer` *(Series4Features) - generator for lags. \n",
    "\n",
    "__!!!The lag transformer must necessarily be present in the sequential transformer, otherwise the features will not be generated.!!!__\n",
    "\n",
    "Finally, to generate targets, you need to use `TargetGenerator`."
   ]
  },
  {
   "cell_type": "markdown",
   "metadata": {},
   "source": [
    "#### Transformers must be assembled in order!"
   ]
  },
  {
   "cell_type": "markdown",
   "metadata": {},
   "source": [
    "The __SeriesToSeries__ transformers should come first, followed by the LagTransformer and TargetGenerator (__SeriesToFeatures__), and then the __FeaturesToFeatures__ transformers."
   ]
  },
  {
   "cell_type": "markdown",
   "metadata": {},
   "source": [
    "#### How to build a Pipeline?"
   ]
  },
  {
   "cell_type": "markdown",
   "metadata": {},
   "source": [
    "So, there are two ways to build a pipline from transformers: initialise the transformers of interest by hand or use a config in the form of a dictionary. Let's look at both ways."
   ]
  },
  {
   "cell_type": "code",
   "execution_count": 5,
   "metadata": {},
   "outputs": [],
   "source": [
    "standard_scaler = StandardScalerTransformer(\n",
    "    transform_features=True,\n",
    "    transform_target=True\n",
    ")\n",
    "\n",
    "lag = LagTransformer(lags=3)\n",
    "date_lag = LagTransformer(lags=3)\n",
    "id_lag = LagTransformer(lags=1)\n",
    "\n",
    "target_generator = TargetGenerator()\n",
    "\n",
    "date_seasons = DateSeasonsGenerator(\n",
    "    seasonalities=[\"doy\", \"m\", \"wd\"],\n",
    "    from_target_date=True,\n",
    ")"
   ]
  },
  {
   "cell_type": "code",
   "execution_count": 6,
   "metadata": {},
   "outputs": [],
   "source": [
    "union_1 = UnionTransformer(transformers_list=[lag, target_generator])\n",
    "\n",
    "seq_1 = SequentialTransformer(transformers_list=[standard_scaler, union_1], input_features=[\"value\"])\n",
    "seq_2 = SequentialTransformer(transformers_list=[date_seasons, date_lag], input_features=[\"date\"])\n",
    "seq_3 = SequentialTransformer(transformers_list=[id_lag], input_features=[\"id\"])\n",
    "\n",
    "union = UnionTransformer(transformers_list=[seq_1, seq_2, seq_3])"
   ]
  },
  {
   "cell_type": "code",
   "execution_count": 7,
   "metadata": {},
   "outputs": [],
   "source": [
    "pipeline_1 = Pipeline(union, multivariate=False)"
   ]
  },
  {
   "cell_type": "code",
   "execution_count": 8,
   "metadata": {},
   "outputs": [
    {
     "data": {
      "text/plain": [
       "{'transformers': <tsururu.transformers.base.UnionTransformer at 0x1dc602dbd50>,\n",
       " 'multivariate': False,\n",
       " 'is_fitted': False,\n",
       " 'strategy_name': None,\n",
       " 'output_features': None,\n",
       " 'y_original_shape': None}"
      ]
     },
     "execution_count": 8,
     "metadata": {},
     "output_type": "execute_result"
    }
   ],
   "source": [
    "pipeline_1.__dict__"
   ]
  },
  {
   "cell_type": "markdown",
   "metadata": {},
   "source": [
    "Or:"
   ]
  },
  {
   "cell_type": "code",
   "execution_count": 9,
   "metadata": {},
   "outputs": [],
   "source": [
    "pipeline_params = {\n",
    "    \"target\": {\n",
    "        \"columns\": [\"value\"],\n",
    "        \"features\": {\n",
    "            \"StandardScalerTransformer\":\n",
    "                {\n",
    "                    \"transform_target\": True, \n",
    "                    \"transform_features\": True\n",
    "                },\n",
    "            \"LagTransformer\": {\"lags\": 7},\n",
    "        },\n",
    "    },\n",
    "    \"date\": {\n",
    "        \"columns\": [\"date\"],\n",
    "        \"features\": {\n",
    "            \"DateSeasonsGenerator\": {\n",
    "                # Use seasonality features from the date column as \n",
    "                # features with datetime lags\n",
    "                # Possible values: [\n",
    "                #    \"y\": year, \"m\": month, \"d\": day, \n",
    "                #    \"wd\": weekday, \"doy\": dayofyear,\n",
    "                #    \"hour\": hour, \"min\": minute, \"sec\": second, \n",
    "                #    \"ms\": microsecond,  \"ns\": nanosecond\n",
    "                # ]\n",
    "                \"seasonalities\": ['doy', 'm', 'wd'], \n",
    "                # Use date from target point to make datetime features\n",
    "                \"from_target_date\": True,\n",
    "            },\n",
    "            \"LagTransformer\": {\"lags\": 3}\n",
    "        },\n",
    "    },\n",
    "    \"id\": {\n",
    "        \"columns\": [\"id\"],\n",
    "        \"features\": {\n",
    "            \"LagTransformer\": {\"lags\": 1},\n",
    "        },\n",
    "    }\n",
    "}"
   ]
  },
  {
   "cell_type": "code",
   "execution_count": 10,
   "metadata": {},
   "outputs": [],
   "source": [
    "pipeline = Pipeline.from_dict(pipeline_params, multivariate=False)"
   ]
  },
  {
   "cell_type": "markdown",
   "metadata": {},
   "source": [
    "#### Can I use exogenous variables in the pipeline?"
   ]
  },
  {
   "cell_type": "markdown",
   "metadata": {},
   "source": [
    "Yes! Exogenous variables can also be specified here. Just include them in your pipeline.\n",
    "\n",
    "However, their operation is currently tested only for the `MIMOStrategy` in global-modelling. For other strategies support of additional variables is under development."
   ]
  },
  {
   "cell_type": "code",
   "execution_count": 11,
   "metadata": {},
   "outputs": [],
   "source": [
    "# pipeline_params[\"exog_group_1\"] = {\n",
    "#     \"columns\": [\"value\"],\n",
    "#     \"features\": {\n",
    "#         \"StandardScalerTransformer\":\n",
    "#             {\n",
    "#                 \"transform_target\": False, \n",
    "#                 \"transform_features\": True\n",
    "#             },\n",
    "#         \"LagTransformer\": {\"lags\": 7},\n",
    "#     },\n",
    "# }"
   ]
  },
  {
   "cell_type": "markdown",
   "metadata": {},
   "source": [
    "__Make sure you have the transform_target = False flag for exogenous features!__"
   ]
  },
  {
   "cell_type": "markdown",
   "metadata": {},
   "source": [
    "#### Model"
   ]
  },
  {
   "cell_type": "markdown",
   "metadata": {},
   "source": [
    "The model is separate from the strategy. Any model can be run in any strategy if it supports this input and output format"
   ]
  },
  {
   "cell_type": "markdown",
   "metadata": {},
   "source": [
    "One of the easiest options – is to use GBM."
   ]
  },
  {
   "cell_type": "code",
   "execution_count": 12,
   "metadata": {},
   "outputs": [],
   "source": [
    "# Configure the model parameters\n",
    "model_params = {\n",
    "    \"loss_function\": \"MultiRMSE\",\n",
    "    \"early_stopping_rounds\": 100,\n",
    "    \"verbose\": 500,\n",
    "}\n",
    "\n",
    "# Configure the validation parameters\n",
    "validation_params = {\n",
    "    \"type\": 'KFold',\n",
    "    \"n_splits\": 2,\n",
    "}"
   ]
  },
  {
   "cell_type": "code",
   "execution_count": 13,
   "metadata": {},
   "outputs": [],
   "source": [
    "model = CatBoostRegressor_CV(validation_params, model_params)\n",
    "\n",
    "# Blender test\n",
    "blender = MeanBlender()"
   ]
  },
  {
   "cell_type": "markdown",
   "metadata": {},
   "source": [
    "#### Strategy"
   ]
  },
  {
   "cell_type": "markdown",
   "metadata": {},
   "source": [
    "- _Recursive:_ \n",
    "    - one model for all points of the forecast horizon;\n",
    "    - *training*: the model is trained to predict one point ahead;\n",
    "    - *prediction*: a prediction is iteratively made one point ahead, and then this prediction is used to further shape the features in the test data. \n",
    "- _Recursive-reduced:_\n",
    "    - one model for all points in the prediction horizon;\n",
    "    - *training*: the model is trained to predict one point ahead;\n",
    "    - *prediction*: features are generated for all test observations at once, unavailable values are replaced by NaN.\n",
    "- _Direct:_ \n",
    "    - individual models for each point in the prediction horizon. \n",
    "- _MultiOutput (MIMO - Multi-input-multi-output):_\n",
    "    - one model that learns to predict the entire prediction horizon. \n",
    "- _FlatWideMIMO:_.\n",
    "    - mixture of Direct and MIMO, fit one model, but uses deployed over horizon Direct's features."
   ]
  },
  {
   "cell_type": "code",
   "execution_count": 14,
   "metadata": {},
   "outputs": [],
   "source": [
    "horizon = 3\n",
    "history = 7\n",
    "step = 1\n",
    "\n",
    "strategy = RecursiveStrategy(horizon, history, step, model, pipeline)\n",
    "\n",
    "# Blender test\n",
    "strategy2 = DirectStrategy(horizon, history, step, model, pipeline)"
   ]
  },
  {
   "cell_type": "code",
   "execution_count": 15,
   "metadata": {},
   "outputs": [
    {
     "name": "stdout",
     "output_type": "stream",
     "text": [
      "0:\tlearn: 0.9745768\ttest: 0.9727270\tbest: 0.9727270 (0)\ttotal: 154ms\tremaining: 2m 33s\n",
      "500:\tlearn: 0.2140805\ttest: 0.2164315\tbest: 0.2164315 (500)\ttotal: 3.38s\tremaining: 3.37s\n",
      "999:\tlearn: 0.2104164\ttest: 0.2147511\tbest: 0.2147511 (999)\ttotal: 6.56s\tremaining: 0us\n",
      "\n",
      "bestTest = 0.2147510735\n",
      "bestIteration = 999\n",
      "\n",
      "Fold 0:\n",
      "MultiRMSE: 0.21475107347532177\n",
      "0:\tlearn: 0.9727297\ttest: 0.9745896\tbest: 0.9745896 (0)\ttotal: 8.8ms\tremaining: 8.79s\n",
      "500:\tlearn: 0.2141088\ttest: 0.2163332\tbest: 0.2163332 (500)\ttotal: 3.19s\tremaining: 3.17s\n",
      "999:\tlearn: 0.2101859\ttest: 0.2146711\tbest: 0.2146711 (999)\ttotal: 6.39s\tremaining: 0us\n",
      "\n",
      "bestTest = 0.2146710724\n",
      "bestIteration = 999\n",
      "\n",
      "Fold 1:\n",
      "MultiRMSE: 0.21467107242976863\n",
      "Mean MultiRMSE: 0.2147\n",
      "Std: 0.0\n",
      "0:\tlearn: 0.9745768\ttest: 0.9727270\tbest: 0.9727270 (0)\ttotal: 11.9ms\tremaining: 11.9s\n",
      "500:\tlearn: 0.2140805\ttest: 0.2164315\tbest: 0.2164315 (500)\ttotal: 3.21s\tremaining: 3.2s\n",
      "999:\tlearn: 0.2104164\ttest: 0.2147511\tbest: 0.2147511 (999)\ttotal: 6.38s\tremaining: 0us\n",
      "\n",
      "bestTest = 0.2147510735\n",
      "bestIteration = 999\n",
      "\n",
      "Fold 0:\n",
      "MultiRMSE: 0.21475107347532177\n",
      "0:\tlearn: 0.9727297\ttest: 0.9745896\tbest: 0.9745896 (0)\ttotal: 9.67ms\tremaining: 9.66s\n",
      "500:\tlearn: 0.2141088\ttest: 0.2163332\tbest: 0.2163332 (500)\ttotal: 3.16s\tremaining: 3.15s\n",
      "999:\tlearn: 0.2101859\ttest: 0.2146711\tbest: 0.2146711 (999)\ttotal: 6.3s\tremaining: 0us\n",
      "\n",
      "bestTest = 0.2146710724\n",
      "bestIteration = 999\n",
      "\n",
      "Fold 1:\n",
      "MultiRMSE: 0.21467107242976863\n",
      "Mean MultiRMSE: 0.2147\n",
      "Std: 0.0\n",
      "0:\tlearn: 0.9754540\ttest: 0.9733976\tbest: 0.9733976 (0)\ttotal: 9.86ms\tremaining: 9.85s\n",
      "500:\tlearn: 0.2656542\ttest: 0.2683994\tbest: 0.2683994 (500)\ttotal: 3.26s\tremaining: 3.25s\n",
      "999:\tlearn: 0.2603931\ttest: 0.2653821\tbest: 0.2653821 (999)\ttotal: 6.44s\tremaining: 0us\n",
      "\n",
      "bestTest = 0.2653821269\n",
      "bestIteration = 999\n",
      "\n",
      "Fold 0:\n",
      "MultiRMSE: 0.2653821269121605\n",
      "0:\tlearn: 0.9734195\ttest: 0.9754931\tbest: 0.9754931 (0)\ttotal: 8.83ms\tremaining: 8.82s\n",
      "500:\tlearn: 0.2659077\ttest: 0.2683903\tbest: 0.2683903 (500)\ttotal: 3.21s\tremaining: 3.19s\n",
      "999:\tlearn: 0.2608168\ttest: 0.2655927\tbest: 0.2655927 (999)\ttotal: 6.5s\tremaining: 0us\n",
      "\n",
      "bestTest = 0.26559272\n",
      "bestIteration = 999\n",
      "\n",
      "Fold 1:\n",
      "MultiRMSE: 0.265592719965757\n",
      "Mean MultiRMSE: 0.2655\n",
      "Std: 0.0001\n",
      "0:\tlearn: 0.9768347\ttest: 0.9735098\tbest: 0.9735098 (0)\ttotal: 13ms\tremaining: 12.9s\n",
      "500:\tlearn: 0.3067357\ttest: 0.3087093\tbest: 0.3087093 (500)\ttotal: 3.19s\tremaining: 3.17s\n",
      "999:\tlearn: 0.3001589\ttest: 0.3044330\tbest: 0.3044330 (999)\ttotal: 6.51s\tremaining: 0us\n",
      "\n",
      "bestTest = 0.3044330337\n",
      "bestIteration = 999\n",
      "\n",
      "Fold 0:\n",
      "MultiRMSE: 0.30443303374032005\n",
      "0:\tlearn: 0.9735499\ttest: 0.9768985\tbest: 0.9768985 (0)\ttotal: 9.19ms\tremaining: 9.18s\n",
      "500:\tlearn: 0.3062567\ttest: 0.3096475\tbest: 0.3096475 (500)\ttotal: 3.31s\tremaining: 3.29s\n",
      "999:\tlearn: 0.2998671\ttest: 0.3056053\tbest: 0.3056053 (999)\ttotal: 6.57s\tremaining: 0us\n",
      "\n",
      "bestTest = 0.3056053096\n",
      "bestIteration = 999\n",
      "\n",
      "Fold 1:\n",
      "MultiRMSE: 0.305605309596313\n",
      "Mean MultiRMSE: 0.305\n",
      "Std: 0.0006\n"
     ]
    }
   ],
   "source": [
    "fit_time, _ = strategy.fit(dataset)\n",
    "fit_time2, _ = strategy2.fit(dataset)"
   ]
  },
  {
   "cell_type": "code",
   "execution_count": 16,
   "metadata": {},
   "outputs": [
    {
     "name": "stdout",
     "output_type": "stream",
     "text": [
      "freq: less then Day (Hour, Min, Sec, etc); period: 900.0 seconds\n",
      "freq: less then Day (Hour, Min, Sec, etc); period: 900.0 seconds\n"
     ]
    }
   ],
   "source": [
    "forecast_time, current_pred = strategy.predict(dataset)\n",
    "\n",
    "# Blender test\n",
    "forecast_time2, current_pred2 = strategy2.predict(dataset)"
   ]
  },
  {
   "cell_type": "code",
   "execution_count": 17,
   "metadata": {},
   "outputs": [
    {
     "data": {
      "text/html": [
       "<div>\n",
       "<style scoped>\n",
       "    .dataframe tbody tr th:only-of-type {\n",
       "        vertical-align: middle;\n",
       "    }\n",
       "\n",
       "    .dataframe tbody tr th {\n",
       "        vertical-align: top;\n",
       "    }\n",
       "\n",
       "    .dataframe thead th {\n",
       "        text-align: right;\n",
       "    }\n",
       "</style>\n",
       "<table border=\"1\" class=\"dataframe\">\n",
       "  <thead>\n",
       "    <tr style=\"text-align: right;\">\n",
       "      <th></th>\n",
       "      <th>id</th>\n",
       "      <th>date</th>\n",
       "      <th>value</th>\n",
       "    </tr>\n",
       "  </thead>\n",
       "  <tbody>\n",
       "    <tr>\n",
       "      <th>0</th>\n",
       "      <td>0</td>\n",
       "      <td>2018-06-26 20:00:00</td>\n",
       "      <td>12.690904</td>\n",
       "    </tr>\n",
       "    <tr>\n",
       "      <th>1</th>\n",
       "      <td>0</td>\n",
       "      <td>2018-06-26 20:15:00</td>\n",
       "      <td>12.70442</td>\n",
       "    </tr>\n",
       "    <tr>\n",
       "      <th>2</th>\n",
       "      <td>0</td>\n",
       "      <td>2018-06-26 20:30:00</td>\n",
       "      <td>12.775842</td>\n",
       "    </tr>\n",
       "    <tr>\n",
       "      <th>3</th>\n",
       "      <td>1</td>\n",
       "      <td>2018-06-26 20:00:00</td>\n",
       "      <td>3.764904</td>\n",
       "    </tr>\n",
       "    <tr>\n",
       "      <th>4</th>\n",
       "      <td>1</td>\n",
       "      <td>2018-06-26 20:15:00</td>\n",
       "      <td>3.749071</td>\n",
       "    </tr>\n",
       "  </tbody>\n",
       "</table>\n",
       "</div>"
      ],
      "text/plain": [
       "  id                date      value\n",
       "0  0 2018-06-26 20:00:00  12.690904\n",
       "1  0 2018-06-26 20:15:00   12.70442\n",
       "2  0 2018-06-26 20:30:00  12.775842\n",
       "3  1 2018-06-26 20:00:00   3.764904\n",
       "4  1 2018-06-26 20:15:00   3.749071"
      ]
     },
     "execution_count": 17,
     "metadata": {},
     "output_type": "execute_result"
    }
   ],
   "source": [
    "current_pred.head(5)"
   ]
  },
  {
   "cell_type": "code",
   "execution_count": 18,
   "metadata": {},
   "outputs": [
    {
     "data": {
      "text/html": [
       "<div>\n",
       "<style scoped>\n",
       "    .dataframe tbody tr th:only-of-type {\n",
       "        vertical-align: middle;\n",
       "    }\n",
       "\n",
       "    .dataframe tbody tr th {\n",
       "        vertical-align: top;\n",
       "    }\n",
       "\n",
       "    .dataframe thead th {\n",
       "        text-align: right;\n",
       "    }\n",
       "</style>\n",
       "<table border=\"1\" class=\"dataframe\">\n",
       "  <thead>\n",
       "    <tr style=\"text-align: right;\">\n",
       "      <th></th>\n",
       "      <th>id</th>\n",
       "      <th>date</th>\n",
       "      <th>value</th>\n",
       "    </tr>\n",
       "  </thead>\n",
       "  <tbody>\n",
       "    <tr>\n",
       "      <th>0</th>\n",
       "      <td>0</td>\n",
       "      <td>2018-06-26 20:00:00</td>\n",
       "      <td>12.690904</td>\n",
       "    </tr>\n",
       "    <tr>\n",
       "      <th>1</th>\n",
       "      <td>0</td>\n",
       "      <td>2018-06-26 20:15:00</td>\n",
       "      <td>12.716451</td>\n",
       "    </tr>\n",
       "    <tr>\n",
       "      <th>2</th>\n",
       "      <td>0</td>\n",
       "      <td>2018-06-26 20:30:00</td>\n",
       "      <td>12.728854</td>\n",
       "    </tr>\n",
       "    <tr>\n",
       "      <th>3</th>\n",
       "      <td>1</td>\n",
       "      <td>2018-06-26 20:00:00</td>\n",
       "      <td>3.764904</td>\n",
       "    </tr>\n",
       "    <tr>\n",
       "      <th>4</th>\n",
       "      <td>1</td>\n",
       "      <td>2018-06-26 20:15:00</td>\n",
       "      <td>3.752192</td>\n",
       "    </tr>\n",
       "  </tbody>\n",
       "</table>\n",
       "</div>"
      ],
      "text/plain": [
       "  id                date      value\n",
       "0  0 2018-06-26 20:00:00  12.690904\n",
       "1  0 2018-06-26 20:15:00  12.716451\n",
       "2  0 2018-06-26 20:30:00  12.728854\n",
       "3  1 2018-06-26 20:00:00   3.764904\n",
       "4  1 2018-06-26 20:15:00   3.752192"
      ]
     },
     "execution_count": 18,
     "metadata": {},
     "output_type": "execute_result"
    }
   ],
   "source": [
    "current_pred2.head(5)"
   ]
  },
  {
   "cell_type": "code",
   "execution_count": 19,
   "metadata": {},
   "outputs": [],
   "source": [
    "#final_preds = blender.fit_predict([current_pred.value, current_pred2.value])"
   ]
  },
  {
   "cell_type": "markdown",
   "metadata": {},
   "source": [
    "## Backtest validation of pipeline"
   ]
  },
  {
   "cell_type": "code",
   "execution_count": null,
   "metadata": {},
   "outputs": [
    {
     "name": "stdout",
     "output_type": "stream",
     "text": [
      "freq: less then Day (Hour, Min, Sec, etc); period: 900.0 seconds\n",
      "0:\tlearn: 0.9755464\ttest: 0.9717184\tbest: 0.9717184 (0)\ttotal: 9.93ms\tremaining: 9.92s\n",
      "500:\tlearn: 0.2147060\ttest: 0.2157572\tbest: 0.2157572 (500)\ttotal: 3.22s\tremaining: 3.21s\n",
      "999:\tlearn: 0.2108800\ttest: 0.2139760\tbest: 0.2139760 (999)\ttotal: 6.39s\tremaining: 0us\n",
      "\n",
      "bestTest = 0.2139760047\n",
      "bestIteration = 999\n",
      "\n",
      "Fold 0:\n",
      "MultiRMSE: 0.21397600470413647\n",
      "0:\tlearn: 0.9717506\ttest: 0.9756144\tbest: 0.9756144 (0)\ttotal: 8.92ms\tremaining: 8.91s\n",
      "500:\tlearn: 0.2136825\ttest: 0.2171605\tbest: 0.2171605 (500)\ttotal: 3.31s\tremaining: 3.3s\n",
      "999:\tlearn: 0.2098378\ttest: 0.2154218\tbest: 0.2154218 (999)\ttotal: 6.58s\tremaining: 0us\n",
      "\n",
      "bestTest = 0.2154217761\n",
      "bestIteration = 999\n",
      "\n",
      "Fold 1:\n",
      "MultiRMSE: 0.21542177614212452\n",
      "Mean MultiRMSE: 0.2147\n",
      "Std: 0.0007\n",
      "freq: less then Day (Hour, Min, Sec, etc); period: 900.0 seconds\n",
      "freq: less then Day (Hour, Min, Sec, etc); period: 900.0 seconds\n",
      "0:\tlearn: 0.9755464\ttest: 0.9717184\tbest: 0.9717184 (0)\ttotal: 8.57ms\tremaining: 8.56s\n",
      "500:\tlearn: 0.2147060\ttest: 0.2157572\tbest: 0.2157572 (500)\ttotal: 3.23s\tremaining: 3.21s\n",
      "999:\tlearn: 0.2108800\ttest: 0.2139760\tbest: 0.2139760 (999)\ttotal: 6.39s\tremaining: 0us\n",
      "\n",
      "bestTest = 0.2139760047\n",
      "bestIteration = 999\n",
      "\n",
      "Fold 0:\n",
      "MultiRMSE: 0.21397600470413647\n",
      "0:\tlearn: 0.9717506\ttest: 0.9756144\tbest: 0.9756144 (0)\ttotal: 9.04ms\tremaining: 9.03s\n",
      "500:\tlearn: 0.2136825\ttest: 0.2171605\tbest: 0.2171605 (500)\ttotal: 3.25s\tremaining: 3.24s\n",
      "999:\tlearn: 0.2098378\ttest: 0.2154218\tbest: 0.2154218 (999)\ttotal: 6.42s\tremaining: 0us\n",
      "\n",
      "bestTest = 0.2154217761\n",
      "bestIteration = 999\n",
      "\n",
      "Fold 1:\n",
      "MultiRMSE: 0.21542177614212452\n",
      "Mean MultiRMSE: 0.2147\n",
      "Std: 0.0007\n",
      "0:\tlearn: 0.9755760\ttest: 0.9732960\tbest: 0.9732960 (0)\ttotal: 8.84ms\tremaining: 8.83s\n",
      "500:\tlearn: 0.2665334\ttest: 0.2678176\tbest: 0.2678176 (500)\ttotal: 3.21s\tremaining: 3.19s\n",
      "999:\tlearn: 0.2613719\ttest: 0.2649081\tbest: 0.2649072 (998)\ttotal: 6.36s\tremaining: 0us\n",
      "\n",
      "bestTest = 0.2649072254\n",
      "bestIteration = 998\n",
      "\n",
      "Shrink model to first 999 iterations.\n",
      "Fold 0:\n",
      "MultiRMSE: 0.26490722540440487\n",
      "0:\tlearn: 0.9732989\ttest: 0.9755840\tbest: 0.9755840 (0)\ttotal: 9.04ms\tremaining: 9.03s\n",
      "500:\tlearn: 0.2651977\ttest: 0.2691392\tbest: 0.2691392 (500)\ttotal: 3.22s\tremaining: 3.2s\n"
     ]
    }
   ],
   "source": [
    "ids, test, pred, fit_time, forecast_time = strategy.back_test(dataset, cv=1)\n",
    "\n",
    "# Blender test\n",
    "ids2, test2, pred2, fit_time2, forecast_time2 = strategy2.back_test(dataset, cv=1)"
   ]
  },
  {
   "cell_type": "code",
   "execution_count": null,
   "metadata": {},
   "outputs": [],
   "source": [
    "pred"
   ]
  },
  {
   "cell_type": "code",
   "execution_count": null,
   "metadata": {},
   "outputs": [],
   "source": [
    "pred2"
   ]
  },
  {
   "cell_type": "code",
   "execution_count": null,
   "metadata": {},
   "outputs": [],
   "source": [
    "# Synthetic preds\n",
    "pred3 = [el/2 for el in pred2]\n",
    "pred3"
   ]
  },
  {
   "cell_type": "code",
   "execution_count": null,
   "metadata": {},
   "outputs": [],
   "source": [
    "# Mean blender\n",
    "final_preds = blender.fit_predict([pred, pred2, pred3])\n",
    "final_preds"
   ]
  },
  {
   "cell_type": "code",
   "execution_count": null,
   "metadata": {},
   "outputs": [],
   "source": [
    "(pred[0]+pred2[0]+pred3[0])/3 == final_preds[0]"
   ]
  },
  {
   "cell_type": "code",
   "execution_count": null,
   "metadata": {},
   "outputs": [],
   "source": [
    "get_results(cv=1, regime=\"global\", y_true=test, y_pred=final_preds, ids=ids)"
   ]
  },
  {
   "cell_type": "markdown",
   "metadata": {},
   "source": [
    "## Working with raw time series' granularity"
   ]
  },
  {
   "cell_type": "markdown",
   "metadata": {},
   "source": [
    "Time series come in different granularities, from hourly and daily time series to more complex ones such as the end of each quarter.\n",
    "\n",
    "If the rows do not contain segments that are too short (that are shorter than history + horizon), then `tsururu` will try to extract the row granularity on its own. We currently support the following types:\n",
    "\n",
    "- Yearly (and YearlyEnd)\n",
    "- Quarterly (and Quarterly)\n",
    "- Monthly (and MonthlyEnd)\n",
    "- Weekly\n",
    "- Daily\n",
    "- Hourly\n",
    "- Minlutely\n",
    "- Secondly\n",
    "- Microsecondly\n",
    "\n",
    "There is also support for compound granularities (10 days, 15 minutes, 32 seconds, etc.). The correctness of the selected granularity can be checked from the output after the `Dataset` class has been created.\n",
    "\n",
    "However, there are tricky situations (e.g. 28 days) where the monthly granularity may be guessed incorrectly. Therefore, it is possible to set your own granularity using the `pd.DateOffset` class or related classes from `pandas.tseries.offsets`, which must be fed as `delta` parameter into the `Dataset` class. Then the time column will be processed according to the user's settings."
   ]
  },
  {
   "cell_type": "markdown",
   "metadata": {},
   "source": [
    "Consider a time series where each point is exactly __28 daily points away__ from each other"
   ]
  },
  {
   "cell_type": "code",
   "execution_count": null,
   "metadata": {},
   "outputs": [],
   "source": [
    "df_path_2 = \"datasets/global/simulated_data_to_check_28D.csv\"\n",
    "\n",
    "# Configure the features settings\n",
    "dataset_params_2 = {\n",
    "    \"target\": {\n",
    "        \"columns\": [\"value\"],\n",
    "        \"type\": \"continious\",\n",
    "    },\n",
    "    \"date\": {\n",
    "        \"columns\": [\"date\"],\n",
    "        \"type\": \"datetime\",\n",
    "    },\n",
    "    \"id\": {\n",
    "        \"columns\": [\"id\"],\n",
    "        \"type\": \"categorical\",\n",
    "    }\n",
    "}"
   ]
  },
  {
   "cell_type": "code",
   "execution_count": null,
   "metadata": {},
   "outputs": [],
   "source": [
    "dataset_2 = TSDataset(\n",
    "    data=pd.read_csv(df_path_2),\n",
    "    columns_params=dataset_params_2,\n",
    ")"
   ]
  },
  {
   "cell_type": "markdown",
   "metadata": {},
   "source": [
    "We see that the frequency of the series is incorrectly defined as monthly. Let's try to pass the `delta` parameter."
   ]
  },
  {
   "cell_type": "code",
   "execution_count": null,
   "metadata": {},
   "outputs": [],
   "source": [
    "dataset_2 = TSDataset(\n",
    "    data=pd.read_csv(df_path_2),\n",
    "    columns_params=dataset_params_2,\n",
    "    delta=pd.DateOffset(days=28),\n",
    ")"
   ]
  },
  {
   "cell_type": "markdown",
   "metadata": {},
   "source": [
    "Now it's all detected correctly."
   ]
  }
 ],
 "metadata": {
  "kernelspec": {
   "display_name": "Python 3 (ipykernel)",
   "language": "python",
   "name": "python3"
  },
  "language_info": {
   "codemirror_mode": {
    "name": "ipython",
    "version": 3
   },
   "file_extension": ".py",
   "mimetype": "text/x-python",
   "name": "python",
   "nbconvert_exporter": "python",
   "pygments_lexer": "ipython3",
   "version": "3.11.5"
  }
 },
 "nbformat": 4,
 "nbformat_minor": 2
}
