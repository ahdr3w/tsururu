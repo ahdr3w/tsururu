{
 "cells": [
  {
   "cell_type": "code",
   "execution_count": 1,
   "metadata": {},
   "outputs": [],
   "source": [
    "import warnings\n",
    "import importlib\n",
    "\n",
    "warnings.filterwarnings(\"ignore\")\n",
    "\n",
    "from pathlib import Path\n",
    "from typing import List, Optional, Union\n",
    "\n",
    "import numpy as np\n",
    "import pandas as pd\n",
    "\n",
    "from tsururu.dataset import Pipeline, TSDataset\n",
    "from tsururu.model_training.validator import HoldOutValidator\n",
    "from tsururu.models.torch_based.dlinear import DLinear_NN\n",
    "from tsururu.strategies import MIMOStrategy\n",
    "from tsururu.transformers import (LagTransformer, SequentialTransformer,\n",
    "                                  TargetGenerator, UnionTransformer, StandardScalerTransformer)\n",
    "\n",
    "from tsururu.model_training.trainer import DLTrainer"
   ]
  },
  {
   "cell_type": "code",
   "execution_count": 2,
   "metadata": {},
   "outputs": [],
   "source": [
    "def get_results(\n",
    "    cv: int,\n",
    "    regime: str,\n",
    "    y_true: Optional[List[np.ndarray]] = None,\n",
    "    y_pred: Optional[List[np.ndarray]] = None,\n",
    "    ids: Optional[List[Union[float, str]]] = None,\n",
    ") -> pd.DataFrame:\n",
    "    def _get_fold_value(\n",
    "        value: Optional[Union[float, np.ndarray]], idx: int\n",
    "    ) -> List[Optional[Union[float, np.ndarray]]]:\n",
    "        if value is None:\n",
    "            return [None]\n",
    "        if isinstance(value[idx], float):\n",
    "            return value[idx]\n",
    "        if isinstance(value[idx], np.ndarray):\n",
    "            return value[idx].reshape(-1)\n",
    "        raise TypeError(f\"Unexpected value type. Value: {value}\")\n",
    "\n",
    "    df_res_dict = {}\n",
    "\n",
    "    for idx_fold in range(cv):\n",
    "        # Fill df_res_dict\n",
    "        for name, value in [(\"y_true\", y_true), (\"y_pred\", y_pred)]:\n",
    "            df_res_dict[f\"{name}_{idx_fold+1}\"] = _get_fold_value(value, idx_fold)\n",
    "        if regime != \"local\":\n",
    "            df_res_dict[f\"id_{idx_fold+1}\"] = _get_fold_value(ids, idx_fold)\n",
    "\n",
    "    # Save datasets to specified directory\n",
    "    df_res = pd.DataFrame(df_res_dict)\n",
    "    return df_res"
   ]
  },
  {
   "cell_type": "code",
   "execution_count": 3,
   "metadata": {},
   "outputs": [],
   "source": [
    "def expand_val_with_train(train_data, val_data, id_column, date_column, history):\n",
    "    L_split_data = train_data[date_column].values[(len(train_data) - history)]\n",
    "    L_last_train_data = train_data[train_data[date_column] >= L_split_data]\n",
    "    val_data_expanded = pd.concat((L_last_train_data, val_data))\n",
    "    val_data_expanded = val_data_expanded.sort_values([id_column, date_column]).reset_index(\n",
    "        drop=True\n",
    "    )\n",
    "    return val_data_expanded\n",
    "\n",
    "\n",
    "def expand_test_with_val_and_train(\n",
    "    train_data, val_data, test_data, id_column, date_column, history\n",
    "):\n",
    "    unqiue_id_cnt = val_data[id_column].nunique()\n",
    "    L_split_data = val_data[date_column].values[\n",
    "        (\n",
    "            (len(val_data) - history)\n",
    "            if (len(val_data) // val_data[id_column].nunique() - history) > 0\n",
    "            else 0\n",
    "        )\n",
    "    ]\n",
    "    L_last_val_data = val_data[val_data[date_column] >= L_split_data]\n",
    "    if len(val_data) // unqiue_id_cnt - history < 0:\n",
    "        if (len(train_data) - (history - len(L_last_val_data) / unqiue_id_cnt)) > 0:\n",
    "            L_split_data = train_data[date_column].values[\n",
    "                (\n",
    "                    len(train_data) // unqiue_id_cnt\n",
    "                    - (history - len(L_last_val_data) // unqiue_id_cnt)\n",
    "                )\n",
    "            ]\n",
    "        else:\n",
    "            L_split_data = 0\n",
    "        L_last_train_data = train_data[train_data[date_column] >= L_split_data]\n",
    "        test_data_expanded = pd.concat((L_last_train_data, L_last_val_data, test_data))\n",
    "    else:\n",
    "        test_data_expanded = pd.concat((L_last_val_data, test_data))\n",
    "    test_data_expanded = test_data_expanded.sort_values([id_column, date_column]).reset_index(\n",
    "        drop=True\n",
    "    )\n",
    "    return test_data_expanded\n",
    "\n",
    "\n",
    "def get_train_val_test_datasets(dataset_path, columns_params, train_size, test_size, history):\n",
    "    data = pd.read_csv(dataset_path)\n",
    "\n",
    "    date_column = columns_params[\"date\"][\"columns\"][0]\n",
    "    id_column = columns_params[\"id\"][\"columns\"][0]\n",
    "\n",
    "    if dataset_path.parts[-1] in [\"ETTh1.csv\", \"ETTh2.csv\", \"ETTm1.csv\", \"ETTm2.csv\"]:\n",
    "        train_val_split_data = \"2017-06-25 23:00:00\"\n",
    "        val_test_slit_data = \"2017-10-23 23:00:00\"\n",
    "    else:\n",
    "        train_val_split_data = data[date_column].values[\n",
    "            int(data[date_column].nunique() * train_size)\n",
    "        ]\n",
    "        val_test_slit_data = data[date_column].values[\n",
    "            int(data[date_column].nunique() * (1 - test_size))\n",
    "        ]\n",
    "\n",
    "    train_data = data[data[date_column] <= train_val_split_data]\n",
    "    val_data = data[\n",
    "        (data[date_column] > train_val_split_data) & (data[date_column] <= val_test_slit_data)\n",
    "    ]\n",
    "    test_data = data[data[date_column] > val_test_slit_data]\n",
    "    val_data = expand_val_with_train(train_data, val_data, id_column, date_column, history)\n",
    "    test_data_expanded = expand_test_with_val_and_train(\n",
    "        train_data, val_data, test_data, id_column, date_column, history\n",
    "    )\n",
    "\n",
    "    # train, val and test TSDataset initialization\n",
    "    train_dataset = TSDataset(\n",
    "        data=train_data,\n",
    "        columns_params=columns_params,\n",
    "    )\n",
    "\n",
    "    val_dataset = TSDataset(\n",
    "        data=val_data,\n",
    "        columns_params=columns_params,\n",
    "    )\n",
    "\n",
    "    test_dataset = TSDataset(\n",
    "        data=test_data_expanded,\n",
    "        columns_params=columns_params,\n",
    "    )\n",
    "\n",
    "    return train_dataset, val_dataset, test_dataset"
   ]
  },
  {
   "cell_type": "markdown",
   "metadata": {},
   "source": [
    "## Initialize TSDataset, Pipeline, Model, Validator, Strategy"
   ]
  },
  {
   "cell_type": "markdown",
   "metadata": {},
   "source": [
    "### TSDataset"
   ]
  },
  {
   "cell_type": "code",
   "execution_count": 4,
   "metadata": {},
   "outputs": [],
   "source": [
    "TRAIN_SIZE = 0.7\n",
    "TEST_SIZE = 0.2\n",
    "history = 7\n",
    "\n",
    "df_path = Path(\"datasets/global/simulated_data_to_check.csv\")\n",
    "\n",
    "columns_params = {\n",
    "    \"target\": {\n",
    "        \"columns\": [\"value\"],\n",
    "        \"type\": \"continious\",\n",
    "    },\n",
    "    \"date\": {\n",
    "        \"columns\": [\"date\"],\n",
    "        \"type\": \"datetime\",\n",
    "    },\n",
    "    \"id\": {\n",
    "        \"columns\": [\"id\"],\n",
    "        \"type\": \"categorical\",\n",
    "    }\n",
    "}\n",
    "\n",
    "train_dataset, val_dataset, test_dataset = get_train_val_test_datasets(\n",
    "    df_path, columns_params, TRAIN_SIZE, TEST_SIZE, history\n",
    ")"
   ]
  },
  {
   "cell_type": "markdown",
   "metadata": {},
   "source": [
    "### Pipeline"
   ]
  },
  {
   "cell_type": "code",
   "execution_count": 128,
   "metadata": {},
   "outputs": [],
   "source": [
    "pipeline_params = {\n",
    "        \"target\": {\n",
    "            \"columns\": [\"value\"],\n",
    "            \"features\": {\n",
    "                \"StandardScalerTransformer\":\n",
    "                    {\n",
    "                        \"transform_target\": True, \n",
    "                        \"transform_features\": True\n",
    "                    },\n",
    "                \"LagTransformer\": {\"lags\": 7},\n",
    "            },\n",
    "        },\n",
    "    }\n",
    "    \n",
    "pipeline = Pipeline.from_dict(pipeline_params, multivariate=True)"
   ]
  },
  {
   "cell_type": "markdown",
   "metadata": {},
   "source": [
    "### Trainer"
   ]
  },
  {
   "cell_type": "code",
   "execution_count": 129,
   "metadata": {},
   "outputs": [],
   "source": [
    "# Configure the model parameters\n",
    "model = DLinear_NN\n",
    "model_params = {\"moving_avg\": 7, \"individual\": False, \"enc_in\": None}\n",
    "\n",
    "validation = HoldOutValidator\n",
    "validation_params = {\"validation_data\": val_dataset}\n",
    "\n",
    "trainer_params = {\n",
    "    \"device\": \"cpu\",\n",
    "    \"num_workers\": 0,\n",
    "    \"stop_by_metric\": True,\n",
    "}\n",
    "\n",
    "trainer = DLTrainer(\n",
    "    model, \n",
    "    model_params, \n",
    "    validation, \n",
    "    validation_params, \n",
    "    **trainer_params\n",
    ")"
   ]
  },
  {
   "cell_type": "markdown",
   "metadata": {},
   "source": [
    "### Strategy"
   ]
  },
  {
   "cell_type": "code",
   "execution_count": 130,
   "metadata": {},
   "outputs": [],
   "source": [
    "horizon = 7\n",
    "model_horizon = 7\n",
    "history = 7\n",
    "step = 1"
   ]
  },
  {
   "cell_type": "code",
   "execution_count": 131,
   "metadata": {},
   "outputs": [],
   "source": [
    "strategy = MIMOStrategy(\n",
    "    pipeline=pipeline,\n",
    "    trainer=trainer,\n",
    "    horizon=horizon,\n",
    "    history=history,\n",
    "    step=step,\n",
    ")"
   ]
  },
  {
   "cell_type": "code",
   "execution_count": 132,
   "metadata": {},
   "outputs": [
    {
     "name": "stdout",
     "output_type": "stream",
     "text": [
      "Epoch 1/10, Loss: 0.0908\n",
      "Validation, Loss: 0.0918, Metric: -0.0918\n",
      "Validation, Loss: 0.0918, Metric: -0.0918\n",
      "Model saved to checkpoints/fold_0/model_0.pth\n",
      "Epoch 2/10, Loss: 0.0738\n",
      "Validation, Loss: 0.0677, Metric: -0.0677\n",
      "Validation, Loss: 0.0677, Metric: -0.0677\n",
      "Model saved to checkpoints/fold_0/model_1.pth\n",
      "Epoch 3/10, Loss: 0.0606\n",
      "Validation, Loss: 0.0630, Metric: -0.0630\n",
      "Validation, Loss: 0.0630, Metric: -0.0630\n",
      "Model saved to checkpoints/fold_0/model_2.pth\n",
      "Epoch 4/10, Loss: 0.0500\n",
      "Validation, Loss: 0.0469, Metric: -0.0469\n",
      "Validation, Loss: 0.0469, Metric: -0.0469\n",
      "Model saved to checkpoints/fold_0/model_3.pth\n",
      "Epoch 5/10, Loss: 0.0415\n",
      "Validation, Loss: 0.0366, Metric: -0.0366\n",
      "Validation, Loss: 0.0366, Metric: -0.0366\n",
      "Model saved to checkpoints/fold_0/model_4.pth\n",
      "Epoch 6/10, Loss: 0.0344\n",
      "Validation, Loss: 0.0353, Metric: -0.0353\n",
      "Validation, Loss: 0.0353, Metric: -0.0353\n",
      "Removing worst model snapshot: checkpoints/fold_0/model_0.pth\n",
      "Model saved to checkpoints/fold_0/model_5.pth\n",
      "Epoch 7/10, Loss: 0.0286\n",
      "Validation, Loss: 0.0287, Metric: -0.0287\n",
      "Validation, Loss: 0.0287, Metric: -0.0287\n",
      "Removing worst model snapshot: checkpoints/fold_0/model_1.pth\n",
      "Model saved to checkpoints/fold_0/model_6.pth\n",
      "Epoch 8/10, Loss: 0.0237\n",
      "Validation, Loss: 0.0249, Metric: -0.0249\n",
      "Validation, Loss: 0.0249, Metric: -0.0249\n",
      "Removing worst model snapshot: checkpoints/fold_0/model_2.pth\n",
      "Model saved to checkpoints/fold_0/model_7.pth\n",
      "Epoch 9/10, Loss: 0.0197\n",
      "Validation, Loss: 0.0176, Metric: -0.0176\n",
      "Validation, Loss: 0.0176, Metric: -0.0176\n",
      "Removing worst model snapshot: checkpoints/fold_0/model_3.pth\n",
      "Model saved to checkpoints/fold_0/model_8.pth\n",
      "Epoch 10/10, Loss: 0.0163\n",
      "Validation, Loss: 0.0157, Metric: -0.0157\n",
      "Validation, Loss: 0.0157, Metric: -0.0157\n",
      "Removing worst model snapshot: checkpoints/fold_0/model_4.pth\n",
      "Model saved to checkpoints/fold_0/model_9.pth\n",
      "Fold 0. Score: -0.015683121979236603\n",
      "Mean score: -0.0157\n",
      "Std: 0.0\n"
     ]
    },
    {
     "data": {
      "text/plain": [
       "(22.10271978378296, <tsururu.strategies.mimo.MIMOStrategy at 0x7f1950548400>)"
      ]
     },
     "execution_count": 132,
     "metadata": {},
     "output_type": "execute_result"
    }
   ],
   "source": [
    "strategy.fit(train_dataset)"
   ]
  },
  {
   "cell_type": "code",
   "execution_count": 133,
   "metadata": {},
   "outputs": [
    {
     "name": "stdout",
     "output_type": "stream",
     "text": [
      "Validation, Loss: nan, Metric: nan\n"
     ]
    }
   ],
   "source": [
    "test_df = strategy.predict(test_dataset, test_all=True)[1]"
   ]
  },
  {
   "cell_type": "code",
   "execution_count": 134,
   "metadata": {},
   "outputs": [
    {
     "data": {
      "text/html": [
       "<div>\n",
       "<style scoped>\n",
       "    .dataframe tbody tr th:only-of-type {\n",
       "        vertical-align: middle;\n",
       "    }\n",
       "\n",
       "    .dataframe tbody tr th {\n",
       "        vertical-align: top;\n",
       "    }\n",
       "\n",
       "    .dataframe thead th {\n",
       "        text-align: right;\n",
       "    }\n",
       "</style>\n",
       "<table border=\"1\" class=\"dataframe\">\n",
       "  <thead>\n",
       "    <tr style=\"text-align: right;\">\n",
       "      <th></th>\n",
       "      <th>id</th>\n",
       "      <th>date</th>\n",
       "      <th>value</th>\n",
       "    </tr>\n",
       "  </thead>\n",
       "  <tbody>\n",
       "    <tr>\n",
       "      <th>0</th>\n",
       "      <td>0</td>\n",
       "      <td>2022-03-15</td>\n",
       "      <td>1737.127652</td>\n",
       "    </tr>\n",
       "    <tr>\n",
       "      <th>1</th>\n",
       "      <td>0</td>\n",
       "      <td>2022-03-16</td>\n",
       "      <td>1804.999369</td>\n",
       "    </tr>\n",
       "    <tr>\n",
       "      <th>2</th>\n",
       "      <td>0</td>\n",
       "      <td>2022-03-17</td>\n",
       "      <td>1805.999753</td>\n",
       "    </tr>\n",
       "    <tr>\n",
       "      <th>3</th>\n",
       "      <td>0</td>\n",
       "      <td>2022-03-18</td>\n",
       "      <td>1807.001054</td>\n",
       "    </tr>\n",
       "    <tr>\n",
       "      <th>4</th>\n",
       "      <td>0</td>\n",
       "      <td>2022-03-19</td>\n",
       "      <td>1801.094394</td>\n",
       "    </tr>\n",
       "    <tr>\n",
       "      <th>...</th>\n",
       "      <td>...</td>\n",
       "      <td>...</td>\n",
       "      <td>...</td>\n",
       "    </tr>\n",
       "    <tr>\n",
       "      <th>1955</th>\n",
       "      <td>9</td>\n",
       "      <td>2022-09-22</td>\n",
       "      <td>10994.999592</td>\n",
       "    </tr>\n",
       "    <tr>\n",
       "      <th>1956</th>\n",
       "      <td>9</td>\n",
       "      <td>2022-09-23</td>\n",
       "      <td>10996.001086</td>\n",
       "    </tr>\n",
       "    <tr>\n",
       "      <th>1957</th>\n",
       "      <td>9</td>\n",
       "      <td>2022-09-24</td>\n",
       "      <td>10989.713151</td>\n",
       "    </tr>\n",
       "    <tr>\n",
       "      <th>1958</th>\n",
       "      <td>9</td>\n",
       "      <td>2022-09-25</td>\n",
       "      <td>10992.67563</td>\n",
       "    </tr>\n",
       "    <tr>\n",
       "      <th>1959</th>\n",
       "      <td>9</td>\n",
       "      <td>2022-09-26</td>\n",
       "      <td>10998.999824</td>\n",
       "    </tr>\n",
       "  </tbody>\n",
       "</table>\n",
       "<p>1960 rows × 3 columns</p>\n",
       "</div>"
      ],
      "text/plain": [
       "     id       date         value\n",
       "0     0 2022-03-15   1737.127652\n",
       "1     0 2022-03-16   1804.999369\n",
       "2     0 2022-03-17   1805.999753\n",
       "3     0 2022-03-18   1807.001054\n",
       "4     0 2022-03-19   1801.094394\n",
       "...  ..        ...           ...\n",
       "1955  9 2022-09-22  10994.999592\n",
       "1956  9 2022-09-23  10996.001086\n",
       "1957  9 2022-09-24  10989.713151\n",
       "1958  9 2022-09-25   10992.67563\n",
       "1959  9 2022-09-26  10998.999824\n",
       "\n",
       "[1960 rows x 3 columns]"
      ]
     },
     "execution_count": 134,
     "metadata": {},
     "output_type": "execute_result"
    }
   ],
   "source": [
    "test_df"
   ]
  },
  {
   "cell_type": "code",
   "execution_count": 149,
   "metadata": {},
   "outputs": [
    {
     "name": "stdout",
     "output_type": "stream",
     "text": [
      "     id       date    value\n",
      "0     0 2022-03-15   1804.0\n",
      "1     0 2022-03-16   1805.0\n",
      "2     0 2022-03-17   1806.0\n",
      "3     0 2022-03-18   1807.0\n",
      "4     0 2022-03-19   1808.0\n",
      "...  ..        ...      ...\n",
      "1955  9 2022-09-22  10995.0\n",
      "1956  9 2022-09-23  10996.0\n",
      "1957  9 2022-09-24  10997.0\n",
      "1958  9 2022-09-25  10998.0\n",
      "1959  9 2022-09-26  10999.0\n",
      "\n",
      "[1960 rows x 3 columns]\n"
     ]
    }
   ],
   "source": [
    "true = test_dataset.data\n",
    "\n",
    "merged_df = pd.merge(test_df, true, on=['id', 'date'], suffixes=('_df1', '_df2'))\n",
    "\n",
    "# Step 3. Select relevant rows from second dataframe\n",
    "filtered_df = merged_df[['id', 'date', 'value_df2']].rename(columns={'value_df2': 'value'})\n",
    "\n",
    "print(filtered_df)"
   ]
  },
  {
   "cell_type": "code",
   "execution_count": 150,
   "metadata": {},
   "outputs": [],
   "source": [
    "def scale(df, pipeline): \n",
    "    def get_scaler(obj):\n",
    "        print(obj)\n",
    "        if isinstance(obj, StandardScalerTransformer):\n",
    "            return obj\n",
    "            \n",
    "        if \"transformers\" in dir(obj):\n",
    "            return get_scaler(obj.transformers)\n",
    "                \n",
    "        if \"transformers_list\" in dir(obj):\n",
    "            curr_obj = None\n",
    "            for tf in obj.transformers_list:\n",
    "                curr_obj = get_scaler(tf)\n",
    "                if isinstance(curr_obj, StandardScalerTransformer):\n",
    "                    return curr_obj\n",
    "            \n",
    "        return None\n",
    "\n",
    "    scaler = get_scaler(pipeline)\n",
    "    if scaler is not None:\n",
    "        new_df = pd.DataFrame(columns=df.columns)\n",
    "        for i in df[\"id\"].unique():\n",
    "            temp = df[df[\"id\"] == int(i)].copy()\n",
    "            temp = scaler._transform_segment(temp, \"id\")\n",
    "            temp = temp.drop(\"value\", axis=1)\n",
    "            temp = temp.rename({\"value__standard_scaler\": \"value\"}, axis=1)\n",
    "            new_df = pd.concat((new_df, temp), axis=0)\n",
    "        return new_df\n",
    "    else:\n",
    "        return df\n"
   ]
  },
  {
   "cell_type": "code",
   "execution_count": 151,
   "metadata": {},
   "outputs": [
    {
     "name": "stdout",
     "output_type": "stream",
     "text": [
      "<tsururu.dataset.pipeline.Pipeline object at 0x7f1950544c10>\n",
      "<tsururu.transformers.base.UnionTransformer object at 0x7f19505450c0>\n",
      "<tsururu.transformers.base.SequentialTransformer object at 0x7f195032b8b0>\n",
      "<tsururu.transformers.numeric.StandardScalerTransformer object at 0x7f1950548610>\n",
      "<tsururu.dataset.pipeline.Pipeline object at 0x7f1950544c10>\n",
      "<tsururu.transformers.base.UnionTransformer object at 0x7f19505450c0>\n",
      "<tsururu.transformers.base.SequentialTransformer object at 0x7f195032b8b0>\n",
      "<tsururu.transformers.numeric.StandardScalerTransformer object at 0x7f1950548610>\n"
     ]
    }
   ],
   "source": [
    "filtered_df = scale(filtered_df, pipeline)\n",
    "test_df = scale(test_df, pipeline)"
   ]
  },
  {
   "cell_type": "code",
   "execution_count": 152,
   "metadata": {},
   "outputs": [
    {
     "data": {
      "text/plain": [
       "31.598307548505822"
      ]
     },
     "execution_count": 152,
     "metadata": {},
     "output_type": "execute_result"
    }
   ],
   "source": [
    "np.abs(filtered_df[\"value\"].values - test_df[\"value\"].values).mean()"
   ]
  },
  {
   "cell_type": "code",
   "execution_count": 154,
   "metadata": {},
   "outputs": [
    {
     "data": {
      "text/plain": [
       "2.7233820755907043"
      ]
     },
     "execution_count": 154,
     "metadata": {},
     "output_type": "execute_result"
    }
   ],
   "source": [
    "(filtered_df[filtered_df[\"id\"] == 0][\"value\"].values).mean()"
   ]
  },
  {
   "cell_type": "code",
   "execution_count": 42,
   "metadata": {},
   "outputs": [
    {
     "ename": "AttributeError",
     "evalue": "'Pipeline' object has no attribute 'fitted_params'",
     "output_type": "error",
     "traceback": [
      "\u001b[0;31m---------------------------------------------------------------------------\u001b[0m",
      "\u001b[0;31mAttributeError\u001b[0m                            Traceback (most recent call last)",
      "Cell \u001b[0;32mIn[42], line 1\u001b[0m\n\u001b[0;32m----> 1\u001b[0m \u001b[43mpipeline\u001b[49m\u001b[38;5;241;43m.\u001b[39;49m\u001b[43mfitted_params\u001b[49m\n",
      "\u001b[0;31mAttributeError\u001b[0m: 'Pipeline' object has no attribute 'fitted_params'"
     ]
    }
   ],
   "source": [
    "pipeline.fitted_params"
   ]
  },
  {
   "cell_type": "code",
   "execution_count": 157,
   "metadata": {},
   "outputs": [
    {
     "data": {
      "text/html": [
       "<div>\n",
       "<style scoped>\n",
       "    .dataframe tbody tr th:only-of-type {\n",
       "        vertical-align: middle;\n",
       "    }\n",
       "\n",
       "    .dataframe tbody tr th {\n",
       "        vertical-align: top;\n",
       "    }\n",
       "\n",
       "    .dataframe thead th {\n",
       "        text-align: right;\n",
       "    }\n",
       "</style>\n",
       "<table border=\"1\" class=\"dataframe\">\n",
       "  <thead>\n",
       "    <tr style=\"text-align: right;\">\n",
       "      <th></th>\n",
       "      <th>id</th>\n",
       "      <th>date</th>\n",
       "      <th>value</th>\n",
       "    </tr>\n",
       "  </thead>\n",
       "  <tbody>\n",
       "    <tr>\n",
       "      <th>0</th>\n",
       "      <td>0</td>\n",
       "      <td>2022-03-15</td>\n",
       "      <td>2.241914</td>\n",
       "    </tr>\n",
       "    <tr>\n",
       "      <th>1</th>\n",
       "      <td>0</td>\n",
       "      <td>2022-03-16</td>\n",
       "      <td>2.246852</td>\n",
       "    </tr>\n",
       "    <tr>\n",
       "      <th>2</th>\n",
       "      <td>0</td>\n",
       "      <td>2022-03-17</td>\n",
       "      <td>2.251790</td>\n",
       "    </tr>\n",
       "    <tr>\n",
       "      <th>3</th>\n",
       "      <td>0</td>\n",
       "      <td>2022-03-18</td>\n",
       "      <td>2.256728</td>\n",
       "    </tr>\n",
       "    <tr>\n",
       "      <th>4</th>\n",
       "      <td>0</td>\n",
       "      <td>2022-03-19</td>\n",
       "      <td>2.261666</td>\n",
       "    </tr>\n",
       "    <tr>\n",
       "      <th>...</th>\n",
       "      <td>...</td>\n",
       "      <td>...</td>\n",
       "      <td>...</td>\n",
       "    </tr>\n",
       "    <tr>\n",
       "      <th>1955</th>\n",
       "      <td>9</td>\n",
       "      <td>2022-09-22</td>\n",
       "      <td>3.185098</td>\n",
       "    </tr>\n",
       "    <tr>\n",
       "      <th>1956</th>\n",
       "      <td>9</td>\n",
       "      <td>2022-09-23</td>\n",
       "      <td>3.190036</td>\n",
       "    </tr>\n",
       "    <tr>\n",
       "      <th>1957</th>\n",
       "      <td>9</td>\n",
       "      <td>2022-09-24</td>\n",
       "      <td>3.194974</td>\n",
       "    </tr>\n",
       "    <tr>\n",
       "      <th>1958</th>\n",
       "      <td>9</td>\n",
       "      <td>2022-09-25</td>\n",
       "      <td>3.199912</td>\n",
       "    </tr>\n",
       "    <tr>\n",
       "      <th>1959</th>\n",
       "      <td>9</td>\n",
       "      <td>2022-09-26</td>\n",
       "      <td>3.204850</td>\n",
       "    </tr>\n",
       "  </tbody>\n",
       "</table>\n",
       "<p>1960 rows × 3 columns</p>\n",
       "</div>"
      ],
      "text/plain": [
       "     id       date     value\n",
       "0     0 2022-03-15  2.241914\n",
       "1     0 2022-03-16  2.246852\n",
       "2     0 2022-03-17  2.251790\n",
       "3     0 2022-03-18  2.256728\n",
       "4     0 2022-03-19  2.261666\n",
       "...  ..        ...       ...\n",
       "1955  9 2022-09-22  3.185098\n",
       "1956  9 2022-09-23  3.190036\n",
       "1957  9 2022-09-24  3.194974\n",
       "1958  9 2022-09-25  3.199912\n",
       "1959  9 2022-09-26  3.204850\n",
       "\n",
       "[1960 rows x 3 columns]"
      ]
     },
     "execution_count": 157,
     "metadata": {},
     "output_type": "execute_result"
    }
   ],
   "source": [
    "filtered_df"
   ]
  },
  {
   "cell_type": "code",
   "execution_count": null,
   "metadata": {},
   "outputs": [],
   "source": []
  }
 ],
 "metadata": {
  "kernelspec": {
   "display_name": "Python 3 (ipykernel)",
   "language": "python",
   "name": "python3"
  },
  "language_info": {
   "codemirror_mode": {
    "name": "ipython",
    "version": 3
   },
   "file_extension": ".py",
   "mimetype": "text/x-python",
   "name": "python",
   "nbconvert_exporter": "python",
   "pygments_lexer": "ipython3",
   "version": "3.10.13"
  }
 },
 "nbformat": 4,
 "nbformat_minor": 4
}
