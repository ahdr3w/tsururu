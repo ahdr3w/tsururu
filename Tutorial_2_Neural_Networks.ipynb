{
 "cells": [
  {
   "cell_type": "code",
   "execution_count": 1,
   "metadata": {},
   "outputs": [],
   "source": [
    "import warnings\n",
    "import importlib\n",
    "\n",
    "warnings.filterwarnings(\"ignore\")\n",
    "\n",
    "from pathlib import Path\n",
    "from typing import List, Optional, Union\n",
    "\n",
    "import numpy as np\n",
    "import pandas as pd\n",
    "\n",
    "from tsururu.dataset import Pipeline, TSDataset\n",
    "from tsururu.model_training.validator import HoldOutValidator\n",
    "from tsururu.models.torch_based.dlinear import DLinear_NN\n",
    "from tsururu.strategies import MIMOStrategy\n",
    "from tsururu.transformers import (LagTransformer, SequentialTransformer,\n",
    "                                  TargetGenerator, UnionTransformer)\n",
    "\n",
    "from tsururu.model_training.trainer import DLTrainer"
   ]
  },
  {
   "cell_type": "code",
   "execution_count": 2,
   "metadata": {},
   "outputs": [],
   "source": [
    "def get_results(\n",
    "    cv: int,\n",
    "    regime: str,\n",
    "    y_true: Optional[List[np.ndarray]] = None,\n",
    "    y_pred: Optional[List[np.ndarray]] = None,\n",
    "    ids: Optional[List[Union[float, str]]] = None,\n",
    ") -> pd.DataFrame:\n",
    "    def _get_fold_value(\n",
    "        value: Optional[Union[float, np.ndarray]], idx: int\n",
    "    ) -> List[Optional[Union[float, np.ndarray]]]:\n",
    "        if value is None:\n",
    "            return [None]\n",
    "        if isinstance(value[idx], float):\n",
    "            return value[idx]\n",
    "        if isinstance(value[idx], np.ndarray):\n",
    "            return value[idx].reshape(-1)\n",
    "        raise TypeError(f\"Unexpected value type. Value: {value}\")\n",
    "\n",
    "    df_res_dict = {}\n",
    "\n",
    "    for idx_fold in range(cv):\n",
    "        # Fill df_res_dict\n",
    "        for name, value in [(\"y_true\", y_true), (\"y_pred\", y_pred)]:\n",
    "            df_res_dict[f\"{name}_{idx_fold+1}\"] = _get_fold_value(value, idx_fold)\n",
    "        if regime != \"local\":\n",
    "            df_res_dict[f\"id_{idx_fold+1}\"] = _get_fold_value(ids, idx_fold)\n",
    "\n",
    "    # Save datasets to specified directory\n",
    "    df_res = pd.DataFrame(df_res_dict)\n",
    "    return df_res"
   ]
  },
  {
   "cell_type": "code",
   "execution_count": 3,
   "metadata": {},
   "outputs": [],
   "source": [
    "def expand_val_with_train(train_data, val_data, id_column, date_column, history):\n",
    "    L_split_data = train_data[date_column].values[(len(train_data) - history)]\n",
    "    L_last_train_data = train_data[train_data[date_column] >= L_split_data]\n",
    "    val_data_expanded = pd.concat((L_last_train_data, val_data))\n",
    "    val_data_expanded = val_data_expanded.sort_values([id_column, date_column]).reset_index(\n",
    "        drop=True\n",
    "    )\n",
    "    return val_data_expanded\n",
    "\n",
    "\n",
    "def expand_test_with_val_and_train(\n",
    "    train_data, val_data, test_data, id_column, date_column, history\n",
    "):\n",
    "    unqiue_id_cnt = val_data[id_column].nunique()\n",
    "    L_split_data = val_data[date_column].values[\n",
    "        (\n",
    "            (len(val_data) - history)\n",
    "            if (len(val_data) // val_data[id_column].nunique() - history) > 0\n",
    "            else 0\n",
    "        )\n",
    "    ]\n",
    "    L_last_val_data = val_data[val_data[date_column] >= L_split_data]\n",
    "    if len(val_data) // unqiue_id_cnt - history < 0:\n",
    "        if (len(train_data) - (history - len(L_last_val_data) / unqiue_id_cnt)) > 0:\n",
    "            L_split_data = train_data[date_column].values[\n",
    "                (\n",
    "                    len(train_data) // unqiue_id_cnt\n",
    "                    - (history - len(L_last_val_data) // unqiue_id_cnt)\n",
    "                )\n",
    "            ]\n",
    "        else:\n",
    "            L_split_data = 0\n",
    "        L_last_train_data = train_data[train_data[date_column] >= L_split_data]\n",
    "        test_data_expanded = pd.concat((L_last_train_data, L_last_val_data, test_data))\n",
    "    else:\n",
    "        test_data_expanded = pd.concat((L_last_val_data, test_data))\n",
    "    test_data_expanded = test_data_expanded.sort_values([id_column, date_column]).reset_index(\n",
    "        drop=True\n",
    "    )\n",
    "    return test_data_expanded\n",
    "\n",
    "\n",
    "def get_train_val_test_datasets(dataset_path, columns_params, train_size, test_size, history):\n",
    "    data = pd.read_csv(dataset_path)\n",
    "\n",
    "    date_column = columns_params[\"date\"][\"columns\"][0]\n",
    "    id_column = columns_params[\"id\"][\"columns\"][0]\n",
    "\n",
    "    if dataset_path.parts[-1] in [\"ETTh1.csv\", \"ETTh2.csv\", \"ETTm1.csv\", \"ETTm2.csv\"]:\n",
    "        train_val_split_data = \"2017-06-25 23:00:00\"\n",
    "        val_test_slit_data = \"2017-10-23 23:00:00\"\n",
    "    else:\n",
    "        train_val_split_data = data[date_column].values[\n",
    "            int(data[date_column].nunique() * train_size)\n",
    "        ]\n",
    "        val_test_slit_data = data[date_column].values[\n",
    "            int(data[date_column].nunique() * (1 - test_size))\n",
    "        ]\n",
    "\n",
    "    train_data = data[data[date_column] <= train_val_split_data]\n",
    "    val_data = data[\n",
    "        (data[date_column] > train_val_split_data) & (data[date_column] <= val_test_slit_data)\n",
    "    ]\n",
    "    test_data = data[data[date_column] > val_test_slit_data]\n",
    "    val_data = expand_val_with_train(train_data, val_data, id_column, date_column, history)\n",
    "    test_data_expanded = expand_test_with_val_and_train(\n",
    "        train_data, val_data, test_data, id_column, date_column, history\n",
    "    )\n",
    "\n",
    "    # train, val and test TSDataset initialization\n",
    "    train_dataset = TSDataset(\n",
    "        data=train_data,\n",
    "        columns_params=columns_params,\n",
    "    )\n",
    "\n",
    "    val_dataset = TSDataset(\n",
    "        data=val_data,\n",
    "        columns_params=columns_params,\n",
    "    )\n",
    "\n",
    "    test_dataset = TSDataset(\n",
    "        data=test_data_expanded,\n",
    "        columns_params=columns_params,\n",
    "    )\n",
    "\n",
    "    return train_dataset, val_dataset, test_dataset"
   ]
  },
  {
   "cell_type": "markdown",
   "metadata": {},
   "source": [
    "## Initialize TSDataset, Pipeline, Model, Validator, Strategy"
   ]
  },
  {
   "cell_type": "markdown",
   "metadata": {},
   "source": [
    "### TSDataset"
   ]
  },
  {
   "cell_type": "code",
   "execution_count": 4,
   "metadata": {},
   "outputs": [],
   "source": [
    "TRAIN_SIZE = 0.7\n",
    "TEST_SIZE = 0.2\n",
    "history = 7\n",
    "\n",
    "df_path = Path(\"datasets/global/simulated_data_to_check.csv\")\n",
    "\n",
    "columns_params = {\n",
    "    \"target\": {\n",
    "        \"columns\": [\"value\"],\n",
    "        \"type\": \"continious\",\n",
    "    },\n",
    "    \"date\": {\n",
    "        \"columns\": [\"date\"],\n",
    "        \"type\": \"datetime\",\n",
    "    },\n",
    "    \"id\": {\n",
    "        \"columns\": [\"id\"],\n",
    "        \"type\": \"categorical\",\n",
    "    }\n",
    "}\n",
    "\n",
    "train_dataset, val_dataset, test_dataset = get_train_val_test_datasets(\n",
    "    df_path, columns_params, TRAIN_SIZE, TEST_SIZE, history\n",
    ")"
   ]
  },
  {
   "cell_type": "markdown",
   "metadata": {},
   "source": [
    "### Pipeline"
   ]
  },
  {
   "cell_type": "code",
   "execution_count": 5,
   "metadata": {},
   "outputs": [],
   "source": [
    "lag = LagTransformer(lags=7)\n",
    "target_generator = TargetGenerator()\n",
    "\n",
    "union_1 = UnionTransformer(transformers_list=[lag, target_generator])\n",
    "seq_1 = SequentialTransformer(transformers_list=[union_1], input_features=[\"value\"])\n",
    "union = UnionTransformer(transformers_list=[seq_1])\n",
    "\n",
    "pipeline = Pipeline(union, multivariate=True)"
   ]
  },
  {
   "cell_type": "markdown",
   "metadata": {},
   "source": [
    "### Trainer"
   ]
  },
  {
   "cell_type": "code",
   "execution_count": 6,
   "metadata": {},
   "outputs": [],
   "source": [
    "# Configure the model parameters\n",
    "model = DLinear_NN\n",
    "model_params = {\"moving_avg\": 7, \"individual\": False, \"enc_in\": None}\n",
    "\n",
    "validation = HoldOutValidator\n",
    "validation_params = {\"validation_data\": val_dataset}\n",
    "\n",
    "trainer_params = {\n",
    "    \"device\": \"cpu\",\n",
    "    \"num_workers\": 0,\n",
    "    \"stop_by_metric\": True,\n",
    "}\n",
    "\n",
    "trainer = DLTrainer(\n",
    "    model, \n",
    "    model_params, \n",
    "    validation, \n",
    "    validation_params, \n",
    "    **trainer_params\n",
    ")"
   ]
  },
  {
   "cell_type": "markdown",
   "metadata": {},
   "source": [
    "### Strategy"
   ]
  },
  {
   "cell_type": "code",
   "execution_count": 7,
   "metadata": {},
   "outputs": [],
   "source": [
    "horizon = 7\n",
    "model_horizon = 7\n",
    "history = 7\n",
    "step = 1"
   ]
  },
  {
   "cell_type": "code",
   "execution_count": 8,
   "metadata": {},
   "outputs": [],
   "source": [
    "strategy = MIMOStrategy(\n",
    "    pipeline=pipeline,\n",
    "    trainer=trainer,\n",
    "    horizon=horizon,\n",
    "    history=history,\n",
    "    step=step,\n",
    ")"
   ]
  },
  {
   "cell_type": "code",
   "execution_count": 9,
   "metadata": {},
   "outputs": [
    {
     "name": "stdout",
     "output_type": "stream",
     "text": [
      "Epoch 1/10, Loss: 276.3597\n",
      "Validation, Loss: 33.9238, Metric: -33.9238\n",
      "Validation, Loss: 33.9238, Metric: -33.9238\n",
      "Model saved to checkpoints/fold_0/model_0.pth\n",
      "Epoch 2/10, Loss: 32.1673\n",
      "Validation, Loss: 13.6875, Metric: -13.6875\n",
      "Validation, Loss: 13.6875, Metric: -13.6875\n",
      "Model saved to checkpoints/fold_0/model_1.pth\n",
      "Epoch 3/10, Loss: 12.2549\n",
      "Validation, Loss: 9.5308, Metric: -9.5308\n",
      "Validation, Loss: 9.5308, Metric: -9.5308\n",
      "Model saved to checkpoints/fold_0/model_2.pth\n",
      "Epoch 4/10, Loss: 9.7045\n",
      "Validation, Loss: 8.4738, Metric: -8.4738\n",
      "Validation, Loss: 8.4738, Metric: -8.4738\n",
      "Model saved to checkpoints/fold_0/model_3.pth\n",
      "Epoch 5/10, Loss: 9.3849\n",
      "Validation, Loss: 8.4111, Metric: -8.4111\n",
      "Validation, Loss: 8.4111, Metric: -8.4111\n",
      "Model saved to checkpoints/fold_0/model_4.pth\n",
      "Epoch 6/10, Loss: 9.2967\n",
      "Validation, Loss: 8.3393, Metric: -8.3393\n",
      "Validation, Loss: 8.3393, Metric: -8.3393\n",
      "Removing worst model snapshot: checkpoints/fold_0/model_0.pth\n",
      "Model saved to checkpoints/fold_0/model_5.pth\n",
      "Epoch 7/10, Loss: 9.2303\n",
      "Validation, Loss: 8.3204, Metric: -8.3204\n",
      "Validation, Loss: 8.3204, Metric: -8.3204\n",
      "Removing worst model snapshot: checkpoints/fold_0/model_1.pth\n",
      "Model saved to checkpoints/fold_0/model_6.pth\n",
      "Epoch 8/10, Loss: 9.1627\n",
      "Validation, Loss: 8.2604, Metric: -8.2604\n",
      "Validation, Loss: 8.2604, Metric: -8.2604\n",
      "Removing worst model snapshot: checkpoints/fold_0/model_2.pth\n",
      "Model saved to checkpoints/fold_0/model_7.pth\n",
      "Epoch 9/10, Loss: 9.0904\n",
      "Validation, Loss: 8.1742, Metric: -8.1742\n",
      "Validation, Loss: 8.1742, Metric: -8.1742\n",
      "Removing worst model snapshot: checkpoints/fold_0/model_3.pth\n",
      "Model saved to checkpoints/fold_0/model_8.pth\n",
      "Epoch 10/10, Loss: 9.0140\n",
      "Validation, Loss: 8.0992, Metric: -8.0992\n",
      "Validation, Loss: 8.0992, Metric: -8.0992\n",
      "Removing worst model snapshot: checkpoints/fold_0/model_4.pth\n",
      "Model saved to checkpoints/fold_0/model_9.pth\n",
      "Fold 0. Score: -8.099207878112793\n",
      "Mean score: -8.0992\n",
      "Std: 0.0\n"
     ]
    },
    {
     "data": {
      "text/plain": [
       "(9.684648990631104, <tsururu.strategies.mimo.MIMOStrategy at 0x30c1f75b0>)"
      ]
     },
     "execution_count": 9,
     "metadata": {},
     "output_type": "execute_result"
    }
   ],
   "source": [
    "strategy.fit(train_dataset)"
   ]
  },
  {
   "cell_type": "code",
   "execution_count": 10,
   "metadata": {},
   "outputs": [
    {
     "name": "stdout",
     "output_type": "stream",
     "text": [
      "Validation, Loss: nan, Metric: nan\n"
     ]
    },
    {
     "data": {
      "text/plain": [
       "(0.09302711486816406,\n",
       "      id       date         value\n",
       " 0     0 2022-03-15   1801.496216\n",
       " 1     0 2022-03-16   1801.333862\n",
       " 2     0 2022-03-17   1801.839233\n",
       " 3     0 2022-03-18   1801.989624\n",
       " 4     0 2022-03-19   1802.165771\n",
       " ...  ..        ...           ...\n",
       " 1955  9 2022-09-22   10997.84668\n",
       " 1956  9 2022-09-23    10999.4375\n",
       " 1957  9 2022-09-24  11001.006836\n",
       " 1958  9 2022-09-25  11002.239258\n",
       " 1959  9 2022-09-26  11003.734375\n",
       " \n",
       " [1960 rows x 3 columns])"
      ]
     },
     "execution_count": 10,
     "metadata": {},
     "output_type": "execute_result"
    }
   ],
   "source": [
    "strategy.predict(test_dataset, test_all=True)"
   ]
  },
  {
   "cell_type": "code",
   "execution_count": null,
   "metadata": {},
   "outputs": [],
   "source": []
  }
 ],
 "metadata": {
  "kernelspec": {
   "display_name": ".venv",
   "language": "python",
   "name": "python3"
  },
  "language_info": {
   "codemirror_mode": {
    "name": "ipython",
    "version": 3
   },
   "file_extension": ".py",
   "mimetype": "text/x-python",
   "name": "python",
   "nbconvert_exporter": "python",
   "pygments_lexer": "ipython3",
   "version": "3.10.14"
  },
  "orig_nbformat": 4
 },
 "nbformat": 4,
 "nbformat_minor": 2
}
