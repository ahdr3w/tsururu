{
 "cells": [
  {
   "cell_type": "code",
   "execution_count": 1,
   "metadata": {},
   "outputs": [],
   "source": [
    "import warnings\n",
    "warnings.filterwarnings(\"ignore\")\n",
    "\n",
    "from typing import Optional, List, Union\n",
    "from numpy.typing import NDArray\n",
    "\n",
    "import numpy as np\n",
    "import pandas as pd\n",
    "\n",
    "from tsururu.strategies import StrategiesFactory\n",
    "from tsururu.dataset import TSDataset\n"
   ]
  },
  {
   "cell_type": "code",
   "execution_count": 2,
   "metadata": {},
   "outputs": [],
   "source": [
    "# for global and multivariate all time seires should be in one .csv file, divided by id \n",
    "# for local each time serie should be in its own .csv file also with id column \n",
    "df_path = \"datasets/global/simulated_data_to_check.csv\"\n",
    "\n",
    "# Configure the features settings\n",
    "columns_and_features_params = {\n",
    "    \"target\": {\n",
    "        \"column\": [\"y\"],\n",
    "        \"type\": \"continious\",\n",
    "        \n",
    "        \"drop_raw_feature\": False,\n",
    "                },\n",
    "    \n",
    "    \"date\": {\n",
    "        \"column\": [\"ds\"],\n",
    "        \"type\": \"datetime\",\n",
    "        \n",
    "        \"drop_raw_feature\": False,\n",
    "    },\n",
    "    \"id\": {\n",
    "        \"column\": [\"unique_id\"],\n",
    "        \"type\": \"categorical\",\n",
    "        \"drop_raw_feature\": False,\n",
    "    }\n",
    "}\n",
    "\n",
    "# Configure the model parameters\n",
    "model_params = {\n",
    "    \"h\": 12,\n",
    "    \"input_size\": 24,\n",
    "    \"hidden_size\": 8,\n",
    "    \"conv_hidden_size\": 8,\n",
    "    \"learning_rate\": 1e-3,\n",
    "    \"max_steps\": 10,\n",
    "    \"freq\": \"D\"\n",
    "}\n",
    "\n",
    "# Configure the validation parameters\n",
    "validation_params = None\n",
    "\n",
    "# Configure the strategies parameters\n",
    "strategy_params = {\n",
    "    \"is_multivariate\": True,  \n",
    "    \"strategy_name\": \"MIMOStrategy\",\n",
    "    \"strategy_params\": {\n",
    "        \"horizon\": 12,\n",
    "        \"model_name\": \"AutoformerRegressor_NN\",\n",
    "        \"model_params\": model_params,\n",
    "        \"validation_params\": validation_params,\n",
    "    }\n",
    "}"
   ]
  },
  {
   "cell_type": "code",
   "execution_count": 3,
   "metadata": {},
   "outputs": [],
   "source": [
    "strategies_factory = StrategiesFactory()"
   ]
  },
  {
   "cell_type": "code",
   "execution_count": 5,
   "metadata": {},
   "outputs": [],
   "source": [
    "df=pd.read_csv(df_path,sep=',')"
   ]
  },
  {
   "cell_type": "code",
   "execution_count": 7,
   "metadata": {},
   "outputs": [],
   "source": [
    "dataset = TSDataset(\n",
    "    data=df,\n",
    "    columns_and_features_params=columns_and_features_params,\n",
    "    history=12\n",
    ")\n",
    "\n",
    "strategy = strategies_factory[strategy_params]"
   ]
  },
  {
   "cell_type": "code",
   "execution_count": 9,
   "metadata": {},
   "outputs": [
    {
     "name": "stderr",
     "output_type": "stream",
     "text": [
      "Seed set to 1\n"
     ]
    },
    {
     "name": "stdout",
     "output_type": "stream",
     "text": [
      "Epoch 9: 100%|██████████| 1/1 [00:00<00:00,  3.86it/s, v_num=0, train_loss_step=17.90, train_loss_epoch=17.90]\n",
      "Predicting DataLoader 0: 100%|██████████| 1/1 [00:00<00:00, 26.64it/s]\n"
     ]
    }
   ],
   "source": [
    "ids, test, pred, fit_time, forecast_time, num_iterations = strategy.back_test(dataset, cv=1)"
   ]
  },
  {
   "cell_type": "code",
   "execution_count": 10,
   "metadata": {},
   "outputs": [],
   "source": [
    "def get_results(\n",
    "    cv: int,\n",
    "    regime: str,\n",
    "    y_true: Optional[List[NDArray[np.floating]]] = None,\n",
    "    y_pred: Optional[List[NDArray[np.floating]]] = None,\n",
    "    ids: Optional[List[Union[float, str]]] = None,\n",
    ") -> pd.DataFrame:\n",
    "    def _get_fold_value(\n",
    "        value: Optional[Union[float, NDArray[np.floating]]], idx: int\n",
    "    ) -> List[Optional[Union[float, NDArray[np.floating]]]]:\n",
    "        if value is None:\n",
    "            return [None]\n",
    "        if isinstance(value[idx], float):\n",
    "            return value[idx]\n",
    "        if isinstance(value[idx], np.ndarray):\n",
    "            return value[idx].reshape(-1)\n",
    "        raise TypeError(f\"Unexpected value type. Value: {value}\")\n",
    "\n",
    "    df_res_dict = {}\n",
    "\n",
    "    for idx_fold in range(cv):\n",
    "        # Fill df_res_dict\n",
    "        for name, value in [(\"y_true\", y_true), (\"y_pred\", y_pred)]:\n",
    "            df_res_dict[f\"{name}_{idx_fold+1}\"] = _get_fold_value(\n",
    "                value, idx_fold\n",
    "            )\n",
    "        if regime != \"local\":\n",
    "            df_res_dict[f\"id_{idx_fold+1}\"] = _get_fold_value(ids, idx_fold)\n",
    "\n",
    "    # Save datasets to specified directory\n",
    "    df_res = pd.DataFrame(df_res_dict)\n",
    "    return df_res"
   ]
  },
  {
   "cell_type": "code",
   "execution_count": 11,
   "metadata": {},
   "outputs": [
    {
     "data": {
      "text/html": [
       "<div>\n",
       "<style scoped>\n",
       "    .dataframe tbody tr th:only-of-type {\n",
       "        vertical-align: middle;\n",
       "    }\n",
       "\n",
       "    .dataframe tbody tr th {\n",
       "        vertical-align: top;\n",
       "    }\n",
       "\n",
       "    .dataframe thead th {\n",
       "        text-align: right;\n",
       "    }\n",
       "</style>\n",
       "<table border=\"1\" class=\"dataframe\">\n",
       "  <thead>\n",
       "    <tr style=\"text-align: right;\">\n",
       "      <th></th>\n",
       "      <th>y_true_1</th>\n",
       "      <th>y_pred_1</th>\n",
       "    </tr>\n",
       "  </thead>\n",
       "  <tbody>\n",
       "    <tr>\n",
       "      <th>0</th>\n",
       "      <td>1988.0</td>\n",
       "      <td>1974.964844</td>\n",
       "    </tr>\n",
       "    <tr>\n",
       "      <th>1</th>\n",
       "      <td>1989.0</td>\n",
       "      <td>1975.761719</td>\n",
       "    </tr>\n",
       "    <tr>\n",
       "      <th>2</th>\n",
       "      <td>1990.0</td>\n",
       "      <td>1975.788818</td>\n",
       "    </tr>\n",
       "    <tr>\n",
       "      <th>3</th>\n",
       "      <td>1991.0</td>\n",
       "      <td>1975.814209</td>\n",
       "    </tr>\n",
       "    <tr>\n",
       "      <th>4</th>\n",
       "      <td>1992.0</td>\n",
       "      <td>1975.837158</td>\n",
       "    </tr>\n",
       "    <tr>\n",
       "      <th>...</th>\n",
       "      <td>...</td>\n",
       "      <td>...</td>\n",
       "    </tr>\n",
       "    <tr>\n",
       "      <th>115</th>\n",
       "      <td>10995.0</td>\n",
       "      <td>10975.967773</td>\n",
       "    </tr>\n",
       "    <tr>\n",
       "      <th>116</th>\n",
       "      <td>10996.0</td>\n",
       "      <td>10976.074219</td>\n",
       "    </tr>\n",
       "    <tr>\n",
       "      <th>117</th>\n",
       "      <td>10997.0</td>\n",
       "      <td>10976.197266</td>\n",
       "    </tr>\n",
       "    <tr>\n",
       "      <th>118</th>\n",
       "      <td>10998.0</td>\n",
       "      <td>10975.919922</td>\n",
       "    </tr>\n",
       "    <tr>\n",
       "      <th>119</th>\n",
       "      <td>10999.0</td>\n",
       "      <td>10974.456055</td>\n",
       "    </tr>\n",
       "  </tbody>\n",
       "</table>\n",
       "<p>120 rows × 2 columns</p>\n",
       "</div>"
      ],
      "text/plain": [
       "     y_true_1      y_pred_1\n",
       "0      1988.0   1974.964844\n",
       "1      1989.0   1975.761719\n",
       "2      1990.0   1975.788818\n",
       "3      1991.0   1975.814209\n",
       "4      1992.0   1975.837158\n",
       "..        ...           ...\n",
       "115   10995.0  10975.967773\n",
       "116   10996.0  10976.074219\n",
       "117   10997.0  10976.197266\n",
       "118   10998.0  10975.919922\n",
       "119   10999.0  10974.456055\n",
       "\n",
       "[120 rows x 2 columns]"
      ]
     },
     "execution_count": 11,
     "metadata": {},
     "output_type": "execute_result"
    }
   ],
   "source": [
    "get_results(cv=1, regime=\"local\", y_true=test, y_pred=pred, ids=ids)"
   ]
  },
  {
   "cell_type": "code",
   "execution_count": 12,
   "metadata": {},
   "outputs": [],
   "source": [
    "df = pd.read_csv('datasets/global/simulated_data_to_check.csv')\n",
    "df['ds'] = pd.to_datetime(df['ds'], format='%Y-%m-%d')"
   ]
  },
  {
   "cell_type": "code",
   "execution_count": 13,
   "metadata": {},
   "outputs": [],
   "source": [
    "# df = df.iloc[:728*2]\n",
    "# df1 = df.iloc[:500]\n",
    "# df2 = df.iloc[728:728+500]\n",
    "# df_train = pd.concat([df1,df2])"
   ]
  },
  {
   "cell_type": "code",
   "execution_count": 14,
   "metadata": {},
   "outputs": [],
   "source": [
    "from tsururu.models import Estimator\n",
    "from typing import Dict, Union\n",
    "from neuralforecast import NeuralForecast\n",
    "\n",
    "from neuralforecast.models import Autoformer\n",
    "class AutoformerRegressor:\n",
    "    def __init__(\n",
    "        self,\n",
    "        model_params: Dict[str, Union[str, int]],\n",
    "        validation_params=None):\n",
    "        \n",
    "        self.model_params = model_params\n",
    "        self.validation_params = validation_params\n",
    "        self.model = Autoformer(**self.model_params)\n",
    "        self.nf = NeuralForecast(models=[self.model]) \n",
    "        \n",
    "        super().__init__()\n",
    "    \n",
    "    def fit(self, train_df):\n",
    "        \n",
    "        self.nf.fit(train_df, val_size=12)\n",
    "        \n",
    "    def predict(self, test_df):\n",
    "        forecasts = self.nf.predict(static_df=test_df)\n",
    "        return forecasts"
   ]
  },
  {
   "cell_type": "code",
   "execution_count": 15,
   "metadata": {},
   "outputs": [],
   "source": [
    "model_params = {\n",
    "    \"h\": 12,\n",
    "    \"input_size\": 24,\n",
    "    \"hidden_size\": 16,\n",
    "    \"conv_hidden_size\": 32,\n",
    "    \"learning_rate\": 1e-3,\n",
    "    \"max_steps\": 10,\n",
    "}"
   ]
  },
  {
   "cell_type": "code",
   "execution_count": 16,
   "metadata": {},
   "outputs": [
    {
     "name": "stderr",
     "output_type": "stream",
     "text": [
      "Seed set to 1\n"
     ]
    },
    {
     "ename": "TypeError",
     "evalue": "NeuralForecast.__init__() missing 1 required positional argument: 'freq'",
     "output_type": "error",
     "traceback": [
      "\u001b[0;31m---------------------------------------------------------------------------\u001b[0m",
      "\u001b[0;31mTypeError\u001b[0m                                 Traceback (most recent call last)",
      "Cell \u001b[0;32mIn[16], line 1\u001b[0m\n\u001b[0;32m----> 1\u001b[0m model \u001b[38;5;241m=\u001b[39m \u001b[43mAutoformerRegressor\u001b[49m\u001b[43m(\u001b[49m\u001b[43mmodel_params\u001b[49m\u001b[43m)\u001b[49m\n",
      "Cell \u001b[0;32mIn[14], line 15\u001b[0m, in \u001b[0;36mAutoformerRegressor.__init__\u001b[0;34m(self, model_params, validation_params)\u001b[0m\n\u001b[1;32m     13\u001b[0m \u001b[38;5;28mself\u001b[39m\u001b[38;5;241m.\u001b[39mvalidation_params \u001b[38;5;241m=\u001b[39m validation_params\n\u001b[1;32m     14\u001b[0m \u001b[38;5;28mself\u001b[39m\u001b[38;5;241m.\u001b[39mmodel \u001b[38;5;241m=\u001b[39m Autoformer(\u001b[38;5;241m*\u001b[39m\u001b[38;5;241m*\u001b[39m\u001b[38;5;28mself\u001b[39m\u001b[38;5;241m.\u001b[39mmodel_params)\n\u001b[0;32m---> 15\u001b[0m \u001b[38;5;28mself\u001b[39m\u001b[38;5;241m.\u001b[39mnf \u001b[38;5;241m=\u001b[39m \u001b[43mNeuralForecast\u001b[49m\u001b[43m(\u001b[49m\u001b[43mmodels\u001b[49m\u001b[38;5;241;43m=\u001b[39;49m\u001b[43m[\u001b[49m\u001b[38;5;28;43mself\u001b[39;49m\u001b[38;5;241;43m.\u001b[39;49m\u001b[43mmodel\u001b[49m\u001b[43m]\u001b[49m\u001b[43m)\u001b[49m \n\u001b[1;32m     17\u001b[0m \u001b[38;5;28msuper\u001b[39m()\u001b[38;5;241m.\u001b[39m\u001b[38;5;21m__init__\u001b[39m()\n",
      "\u001b[0;31mTypeError\u001b[0m: NeuralForecast.__init__() missing 1 required positional argument: 'freq'"
     ]
    }
   ],
   "source": [
    "model = AutoformerRegressor(model_params)"
   ]
  },
  {
   "cell_type": "code",
   "execution_count": null,
   "metadata": {},
   "outputs": [
    {
     "name": "stdout",
     "output_type": "stream",
     "text": [
      "Epoch 49: 100%|██████████| 1/1 [00:00<00:00,  3.10it/s, v_num=109, train_loss_step=6.520, train_loss_epoch=6.520, valid_loss=6.400]\n"
     ]
    }
   ],
   "source": [
    "model.fit(df)"
   ]
  },
  {
   "cell_type": "code",
   "execution_count": 16,
   "metadata": {},
   "outputs": [],
   "source": [
    "df.drop(columns=['y'], inplace=True)"
   ]
  },
  {
   "cell_type": "code",
   "execution_count": 17,
   "metadata": {},
   "outputs": [
    {
     "name": "stdout",
     "output_type": "stream",
     "text": [
      "Predicting DataLoader 0: 100%|██████████| 1/1 [00:00<00:00, 13.47it/s]\n"
     ]
    },
    {
     "data": {
      "text/html": [
       "<div>\n",
       "<style scoped>\n",
       "    .dataframe tbody tr th:only-of-type {\n",
       "        vertical-align: middle;\n",
       "    }\n",
       "\n",
       "    .dataframe tbody tr th {\n",
       "        vertical-align: top;\n",
       "    }\n",
       "\n",
       "    .dataframe thead th {\n",
       "        text-align: right;\n",
       "    }\n",
       "</style>\n",
       "<table border=\"1\" class=\"dataframe\">\n",
       "  <thead>\n",
       "    <tr style=\"text-align: right;\">\n",
       "      <th></th>\n",
       "      <th>ds</th>\n",
       "      <th>Autoformer</th>\n",
       "    </tr>\n",
       "    <tr>\n",
       "      <th>unique_id</th>\n",
       "      <th></th>\n",
       "      <th></th>\n",
       "    </tr>\n",
       "  </thead>\n",
       "  <tbody>\n",
       "    <tr>\n",
       "      <th>0</th>\n",
       "      <td>2022-09-27</td>\n",
       "      <td>2001.394043</td>\n",
       "    </tr>\n",
       "    <tr>\n",
       "      <th>0</th>\n",
       "      <td>2022-09-28</td>\n",
       "      <td>2002.609741</td>\n",
       "    </tr>\n",
       "    <tr>\n",
       "      <th>0</th>\n",
       "      <td>2022-09-29</td>\n",
       "      <td>2002.976685</td>\n",
       "    </tr>\n",
       "    <tr>\n",
       "      <th>0</th>\n",
       "      <td>2022-09-30</td>\n",
       "      <td>2003.308350</td>\n",
       "    </tr>\n",
       "    <tr>\n",
       "      <th>0</th>\n",
       "      <td>2022-10-01</td>\n",
       "      <td>2003.364136</td>\n",
       "    </tr>\n",
       "    <tr>\n",
       "      <th>...</th>\n",
       "      <td>...</td>\n",
       "      <td>...</td>\n",
       "    </tr>\n",
       "    <tr>\n",
       "      <th>9</th>\n",
       "      <td>2022-10-04</td>\n",
       "      <td>11001.050781</td>\n",
       "    </tr>\n",
       "    <tr>\n",
       "      <th>9</th>\n",
       "      <td>2022-10-05</td>\n",
       "      <td>10999.132812</td>\n",
       "    </tr>\n",
       "    <tr>\n",
       "      <th>9</th>\n",
       "      <td>2022-10-06</td>\n",
       "      <td>10996.492188</td>\n",
       "    </tr>\n",
       "    <tr>\n",
       "      <th>9</th>\n",
       "      <td>2022-10-07</td>\n",
       "      <td>10992.814453</td>\n",
       "    </tr>\n",
       "    <tr>\n",
       "      <th>9</th>\n",
       "      <td>2022-10-08</td>\n",
       "      <td>10989.650391</td>\n",
       "    </tr>\n",
       "  </tbody>\n",
       "</table>\n",
       "<p>120 rows × 2 columns</p>\n",
       "</div>"
      ],
      "text/plain": [
       "                  ds    Autoformer\n",
       "unique_id                         \n",
       "0         2022-09-27   2001.394043\n",
       "0         2022-09-28   2002.609741\n",
       "0         2022-09-29   2002.976685\n",
       "0         2022-09-30   2003.308350\n",
       "0         2022-10-01   2003.364136\n",
       "...              ...           ...\n",
       "9         2022-10-04  11001.050781\n",
       "9         2022-10-05  10999.132812\n",
       "9         2022-10-06  10996.492188\n",
       "9         2022-10-07  10992.814453\n",
       "9         2022-10-08  10989.650391\n",
       "\n",
       "[120 rows x 2 columns]"
      ]
     },
     "execution_count": 17,
     "metadata": {},
     "output_type": "execute_result"
    }
   ],
   "source": [
    "model.predict(df)"
   ]
  },
  {
   "cell_type": "code",
   "execution_count": 2,
   "metadata": {},
   "outputs": [],
   "source": [
    "# for global and multivariate all time seires should be in one .csv file, divided by id \n",
    "# for local each time serie should be in its own .csv file also with id column \n",
    "df_path = \"datasets/global/simulated_data_to_check.csv\"\n",
    "\n",
    "# Configure the features settings\n",
    "columns_and_features_params = {\n",
    "    \"target\": {\n",
    "        \"column\": [\"value\"],\n",
    "        \"type\": \"continious\",\n",
    "        \"features\": {\n",
    "            # \"LagTransformer\": {\"lags\": 1},\n",
    "            # \"LastKnownNormalizer\": {\n",
    "            #     \"regime\": \"ratio\",\n",
    "            #     \"transform_train\": True,\n",
    "            #     \"transform_target\": True\n",
    "            # } \n",
    "        },\n",
    "        \"drop_raw_feature\": False,\n",
    "    },\n",
    "    \"date\": {\n",
    "        \"column\": [\"date\"],\n",
    "        \"type\": \"datetime\",\n",
    "        \"features\": {\n",
    "            # \"DateSeasonsGenerator\": {\n",
    "                # Use seasonality features from the date column as features with datetime lags\n",
    "                # Possible values: [\n",
    "                #    \"y\": year, \"m\": month, \"d\": day, \n",
    "                #    \"wd\": weekday, \"doy\": dayofyear,\n",
    "                #    \"hour\": hour, \"min\": minute, \"sec\": second, \n",
    "                #    \"ms\": microsecond,  \"ns\": nanosecond\n",
    "                # ]\n",
    "                # \"seasonalities\": ['doy', 'm', 'wd'], \n",
    "                # Use date from target point to make datetime features\n",
    "                # \"from_target_date\": True,\n",
    "            # },\n",
    "            # \"LagTransformer\": {\"lags\": 1}\n",
    "        },\n",
    "        \"drop_raw_feature\": False,\n",
    "    },\n",
    "    \"id\": {\n",
    "        \"column\": [\"id\"],\n",
    "        \"type\": \"categorical\",\n",
    "        \"drop_raw_feature\": False,\n",
    "    }\n",
    "}\n",
    "\n",
    "# Configure the model parameters\n",
    "model_params = {\n",
    "    \"h\": 12,\n",
    "    \"input_size\": 24,\n",
    "    \"patch_len\": 24,\n",
    "    \"hidden_size\": 16,\n",
    "    \"learning_rate\": 1e-3,\n",
    "    \"max_steps\":500,\n",
    "    \"max_steps\": 50\n",
    "}\n",
    "\n",
    "# Configure the validation parameters\n",
    "validation_params = None\n",
    "# {\n",
    "#     \"type\": 'KFold',\n",
    "#     \"n_splits\": 3,\n",
    "# }\n",
    "\n",
    "# Configure the strategies parameters\n",
    "strategy_params = {\n",
    "    \"is_multivariate\": True,  #Алина сказала?\n",
    "    # possible values: \n",
    "    # [\n",
    "    #     'RecursiveStrategy', \n",
    "    #     'DirectStrategy', \n",
    "    #     'DirRecStrategy', \n",
    "    #     'MIMOStrategy', \n",
    "    #     'FlatWideMIMOStrategy', \n",
    "    # ]\n",
    "    \"strategy_name\": \"MIMOStrategy\",\n",
    "    \"strategy_params\": {\n",
    "        \"horizon\": 12,\n",
    "        \"model_name\": \"PatchTSTRegressor_NN\",\n",
    "        \"model_params\": model_params,\n",
    "        \"validation_params\": validation_params,\n",
    "        # \"k\": 1,\n",
    "    }\n",
    "}"
   ]
  },
  {
   "cell_type": "code",
   "execution_count": 23,
   "metadata": {},
   "outputs": [
    {
     "name": "stderr",
     "output_type": "stream",
     "text": [
      "Seed set to 1\n"
     ]
    }
   ],
   "source": [
    "from neuralforecast.models import Autoformer\n",
    "model_params = {\n",
    "    \"h\": 12,\n",
    "    \"input_size\": 24,\n",
    "    \"hidden_size\": 16,\n",
    "    \"conv_hidden_size\": 32,\n",
    "    \"learning_rate\": 1e-3,\n",
    "    \"max_steps\": 10,\n",
    "}\n",
    "model = Autoformer(**model_params)"
   ]
  },
  {
   "cell_type": "code",
   "execution_count": 24,
   "metadata": {},
   "outputs": [],
   "source": [
    "from neuralforecast import NeuralForecast\n",
    "d = NeuralForecast(models = [model],freq =\"D\")"
   ]
  },
  {
   "cell_type": "code",
   "execution_count": 25,
   "metadata": {},
   "outputs": [
    {
     "name": "stdout",
     "output_type": "stream",
     "text": [
      "\u001b[0;31mType:\u001b[0m           NeuralForecast\n",
      "\u001b[0;31mString form:\u001b[0m    <neuralforecast.core.NeuralForecast object at 0x7f98aefd0c50>\n",
      "\u001b[0;31mFile:\u001b[0m           ~/miniconda3/envs/project_ts/lib/python3.11/site-packages/neuralforecast/core.py\n",
      "\u001b[0;31mDocstring:\u001b[0m      <no docstring>\n",
      "\u001b[0;31mInit docstring:\u001b[0m\n",
      "The `core.StatsForecast` class allows you to efficiently fit multiple `NeuralForecast` models\n",
      "for large sets of time series. It operates with pandas DataFrame `df` that identifies series\n",
      "and datestamps with the `unique_id` and `ds` columns. The `y` column denotes the target\n",
      "time series variable.\n",
      "\n",
      "Parameters\n",
      "----------\n",
      "models : List[typing.Any]\n",
      "    Instantiated `neuralforecast.models`\n",
      "    see [collection here](https://nixtla.github.io/neuralforecast/models.html).\n",
      "freq : str\n",
      "    Frequency of the data,\n",
      "    see [panda's available frequencies](https://pandas.pydata.org/pandas-docs/stable/user_guide/timeseries.html#offset-aliases).\n",
      "local_scaler_type : str, optional (default=None)\n",
      "    Scaler to apply per-serie to all features before fitting, which is inverted after predicting.\n",
      "    Can be 'standard', 'robust', 'robust-iqr', 'minmax' or 'boxcox'\n",
      "\n",
      "Returns\n",
      "-------\n",
      "self : NeuralForecast\n",
      "    Returns instantiated `NeuralForecast` class."
     ]
    }
   ],
   "source": [
    "d?"
   ]
  },
  {
   "cell_type": "code",
   "execution_count": null,
   "metadata": {},
   "outputs": [],
   "source": []
  }
 ],
 "metadata": {
  "kernelspec": {
   "display_name": "project_ts",
   "language": "python",
   "name": "python3"
  },
  "language_info": {
   "codemirror_mode": {
    "name": "ipython",
    "version": 3
   },
   "file_extension": ".py",
   "mimetype": "text/x-python",
   "name": "python",
   "nbconvert_exporter": "python",
   "pygments_lexer": "ipython3",
   "version": "3.11.5"
  }
 },
 "nbformat": 4,
 "nbformat_minor": 2
}
