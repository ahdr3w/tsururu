{
 "cells": [
  {
   "cell_type": "code",
   "execution_count": 1,
   "metadata": {},
   "outputs": [],
   "source": [
    "import warnings\n",
    "warnings.filterwarnings(\"ignore\")\n",
    "\n",
    "from typing import Optional, List, Union\n",
    "from numpy.typing import NDArray\n",
    "\n",
    "import numpy as np\n",
    "import pandas as pd\n",
    "\n",
    "from tsururu.strategies import StrategiesFactory\n",
    "from tsururu.dataset import TSDataset"
   ]
  },
  {
   "cell_type": "code",
   "execution_count": 2,
   "metadata": {},
   "outputs": [],
   "source": [
    "# for global and multivariate all time seires should be in one .csv file, divided by id \n",
    "# for local each time serie should be in its own .csv file also with id column \n",
    "df_path = \"datasets/global/simulated_data_to_check.csv\"\n",
    "\n",
    "# Configure the features settings\n",
    "columns_and_features_params = {\n",
    "    \"target\": {\n",
    "        \"column\": [\"y\"],\n",
    "        \"type\": \"continious\",\n",
    "        \n",
    "        \"drop_raw_feature\": False,\n",
    "                },\n",
    "    \n",
    "    \"date\": {\n",
    "        \"column\": [\"ds\"],\n",
    "        \"type\": \"datetime\",\n",
    "        \n",
    "        \"drop_raw_feature\": False,\n",
    "    },\n",
    "    \"id\": {\n",
    "        \"column\": [\"unique_id\"],\n",
    "        \"type\": \"categorical\",\n",
    "        \"drop_raw_feature\": False,\n",
    "    }\n",
    "}\n",
    "\n",
    "# Configure the model parameters\n",
    "model_params = {\n",
    "    \"h\": 12,\n",
    "    \"input_size\": 24,\n",
    "    \"hidden_size\": 8,\n",
    "    \"conv_hidden_size\": 8,\n",
    "    \"learning_rate\": 1e-3,\n",
    "    \"max_steps\": 10,\n",
    "    \"freq\": \"D\"       # date frequency str aka 'D', 'M' or int 7, 30\n",
    "}\n",
    "\n",
    "# Configure the validation parameters\n",
    "validation_params = None\n",
    "\n",
    "# Configure the strategies parameters\n",
    "strategy_params = {\n",
    "    \"is_multivariate\": True,  \n",
    "    \"strategy_name\": \"MIMOStrategy\",\n",
    "    \"strategy_params\": {\n",
    "        \"horizon\": 12,\n",
    "        \"model_name\": \"AutoformerRegressor_NN\",\n",
    "        \"model_params\": model_params,\n",
    "        \"validation_params\": validation_params,\n",
    "    }\n",
    "}"
   ]
  },
  {
   "cell_type": "code",
   "execution_count": 3,
   "metadata": {},
   "outputs": [],
   "source": [
    "strategies_factory = StrategiesFactory()"
   ]
  },
  {
   "cell_type": "code",
   "execution_count": 4,
   "metadata": {},
   "outputs": [],
   "source": [
    "df=pd.read_csv(df_path,sep=',')"
   ]
  },
  {
   "cell_type": "code",
   "execution_count": 5,
   "metadata": {},
   "outputs": [],
   "source": [
    "dataset = TSDataset(\n",
    "    data=df,\n",
    "    columns_and_features_params=columns_and_features_params,\n",
    "    history=12\n",
    ")\n",
    "\n",
    "strategy = strategies_factory[strategy_params]"
   ]
  },
  {
   "cell_type": "code",
   "execution_count": 6,
   "metadata": {},
   "outputs": [
    {
     "name": "stderr",
     "output_type": "stream",
     "text": [
      "Seed set to 1\n"
     ]
    },
    {
     "name": "stdout",
     "output_type": "stream",
     "text": [
      "Epoch 9: 100%|██████████| 1/1 [00:00<00:00,  4.56it/s, v_num=6, train_loss_step=17.90, train_loss_epoch=17.90]\n",
      "Predicting DataLoader 0: 100%|██████████| 1/1 [00:00<00:00, 31.47it/s]\n"
     ]
    }
   ],
   "source": [
    "ids, test, pred, fit_time, forecast_time, num_iterations = strategy.back_test(dataset, cv=1)"
   ]
  },
  {
   "cell_type": "code",
   "execution_count": 7,
   "metadata": {},
   "outputs": [],
   "source": [
    "def get_results(\n",
    "    cv: int,\n",
    "    regime: str,\n",
    "    y_true: Optional[List[NDArray[np.floating]]] = None,\n",
    "    y_pred: Optional[List[NDArray[np.floating]]] = None,\n",
    "    ids: Optional[List[Union[float, str]]] = None,\n",
    ") -> pd.DataFrame:\n",
    "    def _get_fold_value(\n",
    "        value: Optional[Union[float, NDArray[np.floating]]], idx: int\n",
    "    ) -> List[Optional[Union[float, NDArray[np.floating]]]]:\n",
    "        if value is None:\n",
    "            return [None]\n",
    "        if isinstance(value[idx], float):\n",
    "            return value[idx]\n",
    "        if isinstance(value[idx], np.ndarray):\n",
    "            return value[idx].reshape(-1)\n",
    "        raise TypeError(f\"Unexpected value type. Value: {value}\")\n",
    "\n",
    "    df_res_dict = {}\n",
    "\n",
    "    for idx_fold in range(cv):\n",
    "        # Fill df_res_dict\n",
    "        for name, value in [(\"y_true\", y_true), (\"y_pred\", y_pred)]:\n",
    "            df_res_dict[f\"{name}_{idx_fold+1}\"] = _get_fold_value(\n",
    "                value, idx_fold\n",
    "            )\n",
    "        if regime != \"local\":\n",
    "            df_res_dict[f\"id_{idx_fold+1}\"] = _get_fold_value(ids, idx_fold)\n",
    "\n",
    "    # Save datasets to specified directory\n",
    "    df_res = pd.DataFrame(df_res_dict)\n",
    "    return df_res"
   ]
  },
  {
   "cell_type": "code",
   "execution_count": 8,
   "metadata": {},
   "outputs": [
    {
     "data": {
      "text/html": [
       "<div>\n",
       "<style scoped>\n",
       "    .dataframe tbody tr th:only-of-type {\n",
       "        vertical-align: middle;\n",
       "    }\n",
       "\n",
       "    .dataframe tbody tr th {\n",
       "        vertical-align: top;\n",
       "    }\n",
       "\n",
       "    .dataframe thead th {\n",
       "        text-align: right;\n",
       "    }\n",
       "</style>\n",
       "<table border=\"1\" class=\"dataframe\">\n",
       "  <thead>\n",
       "    <tr style=\"text-align: right;\">\n",
       "      <th></th>\n",
       "      <th>y_true_1</th>\n",
       "      <th>y_pred_1</th>\n",
       "    </tr>\n",
       "  </thead>\n",
       "  <tbody>\n",
       "    <tr>\n",
       "      <th>0</th>\n",
       "      <td>1988.0</td>\n",
       "      <td>1974.964844</td>\n",
       "    </tr>\n",
       "    <tr>\n",
       "      <th>1</th>\n",
       "      <td>1989.0</td>\n",
       "      <td>1975.761719</td>\n",
       "    </tr>\n",
       "    <tr>\n",
       "      <th>2</th>\n",
       "      <td>1990.0</td>\n",
       "      <td>1975.788818</td>\n",
       "    </tr>\n",
       "    <tr>\n",
       "      <th>3</th>\n",
       "      <td>1991.0</td>\n",
       "      <td>1975.814209</td>\n",
       "    </tr>\n",
       "    <tr>\n",
       "      <th>4</th>\n",
       "      <td>1992.0</td>\n",
       "      <td>1975.837158</td>\n",
       "    </tr>\n",
       "    <tr>\n",
       "      <th>...</th>\n",
       "      <td>...</td>\n",
       "      <td>...</td>\n",
       "    </tr>\n",
       "    <tr>\n",
       "      <th>115</th>\n",
       "      <td>10995.0</td>\n",
       "      <td>10975.967773</td>\n",
       "    </tr>\n",
       "    <tr>\n",
       "      <th>116</th>\n",
       "      <td>10996.0</td>\n",
       "      <td>10976.074219</td>\n",
       "    </tr>\n",
       "    <tr>\n",
       "      <th>117</th>\n",
       "      <td>10997.0</td>\n",
       "      <td>10976.197266</td>\n",
       "    </tr>\n",
       "    <tr>\n",
       "      <th>118</th>\n",
       "      <td>10998.0</td>\n",
       "      <td>10975.919922</td>\n",
       "    </tr>\n",
       "    <tr>\n",
       "      <th>119</th>\n",
       "      <td>10999.0</td>\n",
       "      <td>10974.456055</td>\n",
       "    </tr>\n",
       "  </tbody>\n",
       "</table>\n",
       "<p>120 rows × 2 columns</p>\n",
       "</div>"
      ],
      "text/plain": [
       "     y_true_1      y_pred_1\n",
       "0      1988.0   1974.964844\n",
       "1      1989.0   1975.761719\n",
       "2      1990.0   1975.788818\n",
       "3      1991.0   1975.814209\n",
       "4      1992.0   1975.837158\n",
       "..        ...           ...\n",
       "115   10995.0  10975.967773\n",
       "116   10996.0  10976.074219\n",
       "117   10997.0  10976.197266\n",
       "118   10998.0  10975.919922\n",
       "119   10999.0  10974.456055\n",
       "\n",
       "[120 rows x 2 columns]"
      ]
     },
     "execution_count": 8,
     "metadata": {},
     "output_type": "execute_result"
    }
   ],
   "source": [
    "get_results(cv=1, regime=\"local\", y_true=test, y_pred=pred, ids=ids)"
   ]
  }
 ],
 "metadata": {
  "kernelspec": {
   "display_name": "project_ts",
   "language": "python",
   "name": "python3"
  },
  "language_info": {
   "codemirror_mode": {
    "name": "ipython",
    "version": 3
   },
   "file_extension": ".py",
   "mimetype": "text/x-python",
   "name": "python",
   "nbconvert_exporter": "python",
   "pygments_lexer": "ipython3",
   "version": "3.11.5"
  }
 },
 "nbformat": 4,
 "nbformat_minor": 2
}
