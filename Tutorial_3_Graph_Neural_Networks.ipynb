{
 "cells": [
  {
   "cell_type": "code",
   "execution_count": 1,
   "metadata": {},
   "outputs": [],
   "source": [
    "import warnings\n",
    "import importlib\n",
    "\n",
    "warnings.filterwarnings(\"ignore\")\n",
    "\n",
    "from pathlib import Path\n",
    "from typing import List, Optional, Union\n",
    "\n",
    "import numpy as np\n",
    "import pandas as pd\n",
    "\n",
    "from tsururu.dataset import Pipeline, TSDataset\n",
    "from tsururu.model_training.validator import HoldOutValidator\n",
    "from tsururu.models.torch_based import MTGNN, StemGNN, ForecastGrapher, FourierGNN, CrossGNN, Linear\n",
    "from tsururu.models.torch_based.dlinear import DLinear_NN\n",
    "from tsururu.strategies import MIMOStrategy\n",
    "from tsururu.transformers import (LagTransformer, SequentialTransformer,\n",
    "                                  TargetGenerator, UnionTransformer, TimeToNumGenerator)\n",
    "\n",
    "from tsururu.model_training.trainer import DLTrainer\n",
    "\n",
    "import torch\n",
    "\n",
    "import sys\n",
    "sys.stdout = open('output.txt','wt')\n",
    "\n",
    "torch.set_float32_matmul_precision('high')"
   ]
  },
  {
   "cell_type": "code",
   "execution_count": 2,
   "metadata": {},
   "outputs": [],
   "source": [
    "def get_results(\n",
    "    cv: int,\n",
    "    regime: str,\n",
    "    y_true: Optional[List[np.ndarray]] = None,\n",
    "    y_pred: Optional[List[np.ndarray]] = None,\n",
    "    ids: Optional[List[Union[float, str]]] = None,\n",
    ") -> pd.DataFrame:\n",
    "    def _get_fold_value(\n",
    "        value: Optional[Union[float, np.ndarray]], idx: int\n",
    "    ) -> List[Optional[Union[float, np.ndarray]]]:\n",
    "        if value is None:\n",
    "            return [None]\n",
    "        if isinstance(value[idx], float):\n",
    "            return value[idx]\n",
    "        if isinstance(value[idx], np.ndarray):\n",
    "            return value[idx].reshape(-1)\n",
    "        raise TypeError(f\"Unexpected value type. Value: {value}\")\n",
    "\n",
    "    df_res_dict = {}\n",
    "\n",
    "    for idx_fold in range(cv):\n",
    "        # Fill df_res_dict\n",
    "        for name, value in [(\"y_true\", y_true), (\"y_pred\", y_pred)]:\n",
    "            df_res_dict[f\"{name}_{idx_fold+1}\"] = _get_fold_value(value, idx_fold)\n",
    "        if regime != \"local\":\n",
    "            df_res_dict[f\"id_{idx_fold+1}\"] = _get_fold_value(ids, idx_fold)\n",
    "\n",
    "    # Save datasets to specified directory\n",
    "    df_res = pd.DataFrame(df_res_dict)\n",
    "    return df_res"
   ]
  },
  {
   "cell_type": "code",
   "execution_count": 3,
   "metadata": {},
   "outputs": [],
   "source": [
    "def expand_val_with_train(train_data, val_data, id_column, date_column, history):\n",
    "    L_split_data = train_data[date_column].values[(len(train_data) - history)]\n",
    "    L_last_train_data = train_data[train_data[date_column] >= L_split_data]\n",
    "    val_data_expanded = pd.concat((L_last_train_data, val_data))\n",
    "    val_data_expanded = val_data_expanded.sort_values([id_column, date_column]).reset_index(\n",
    "        drop=True\n",
    "    )\n",
    "    return val_data_expanded\n",
    "\n",
    "\n",
    "def expand_test_with_val_and_train(\n",
    "    train_data, val_data, test_data, id_column, date_column, history\n",
    "):\n",
    "    unqiue_id_cnt = val_data[id_column].nunique()\n",
    "    L_split_data = val_data[date_column].values[\n",
    "        (\n",
    "            (len(val_data) - history)\n",
    "            if (len(val_data) // val_data[id_column].nunique() - history) > 0\n",
    "            else 0\n",
    "        )\n",
    "    ]\n",
    "    L_last_val_data = val_data[val_data[date_column] >= L_split_data]\n",
    "    if len(val_data) // unqiue_id_cnt - history < 0:\n",
    "        if (len(train_data) - (history - len(L_last_val_data) / unqiue_id_cnt)) > 0:\n",
    "            L_split_data = train_data[date_column].values[\n",
    "                (\n",
    "                    len(train_data) // unqiue_id_cnt\n",
    "                    - (history - len(L_last_val_data) // unqiue_id_cnt)\n",
    "                )\n",
    "            ]\n",
    "        else:\n",
    "            L_split_data = 0\n",
    "        L_last_train_data = train_data[train_data[date_column] >= L_split_data]\n",
    "        test_data_expanded = pd.concat((L_last_train_data, L_last_val_data, test_data))\n",
    "    else:\n",
    "        test_data_expanded = pd.concat((L_last_val_data, test_data))\n",
    "    test_data_expanded = test_data_expanded.sort_values([id_column, date_column]).reset_index(\n",
    "        drop=True\n",
    "    )\n",
    "    return test_data_expanded\n",
    "\n",
    "\n",
    "def get_train_val_test_datasets(dataset_path, columns_params, train_size, test_size, history):\n",
    "    data = pd.read_csv(dataset_path)\n",
    "\n",
    "    date_column = columns_params[\"date\"][\"columns\"][0]\n",
    "    id_column = columns_params[\"id\"][\"columns\"][0]\n",
    "\n",
    "    if dataset_path.parts[-1] in [\"ETTh1.csv\", \"ETTh2.csv\", \"ETTm1.csv\", \"ETTm2.csv\"]:\n",
    "        train_val_split_data = \"2017-06-25 23:00:00\"\n",
    "        val_test_slit_data = \"2017-10-23 23:00:00\"\n",
    "    else:\n",
    "        train_val_split_data = data[date_column].values[\n",
    "            int(data[date_column].nunique() * train_size)\n",
    "        ]\n",
    "        val_test_slit_data = data[date_column].values[\n",
    "            int(data[date_column].nunique() * (1 - test_size))\n",
    "        ]\n",
    "\n",
    "    train_data = data[data[date_column] <= train_val_split_data]\n",
    "    val_data = data[\n",
    "        (data[date_column] > train_val_split_data) & (data[date_column] <= val_test_slit_data)\n",
    "    ]\n",
    "    test_data = data[data[date_column] > val_test_slit_data]\n",
    "    val_data = expand_val_with_train(train_data, val_data, id_column, date_column, history)\n",
    "    test_data_expanded = expand_test_with_val_and_train(\n",
    "        train_data, val_data, test_data, id_column, date_column, history\n",
    "    )\n",
    "\n",
    "    # train, val and test TSDataset initialization\n",
    "    train_dataset = TSDataset(\n",
    "        data=train_data,\n",
    "        columns_params=columns_params,\n",
    "        print_freq_period_info=True,\n",
    "    )\n",
    "\n",
    "    val_dataset = TSDataset(\n",
    "        data=val_data,\n",
    "        columns_params=columns_params,\n",
    "    )\n",
    "\n",
    "    test_dataset = TSDataset(\n",
    "        data=test_data_expanded,\n",
    "        columns_params=columns_params,\n",
    "    )\n",
    "\n",
    "    return train_dataset, val_dataset, test_dataset"
   ]
  },
  {
   "cell_type": "code",
   "execution_count": 4,
   "metadata": {},
   "outputs": [],
   "source": [
    "# import pandas as pd\n",
    "# import numpy as np\n",
    "\n",
    "# df = pd.read_csv(\"datasets/global/traffic_raw.csv\")\n",
    "\n",
    "# df = df.loc[:2400]\n",
    "# df = df.rename({\"OT\": 861}, axis=1)\n",
    "\n",
    "# new_df  = pd.DataFrame(columns=[\"date\", \"id\", \"value\"])\n",
    "\n",
    "# for col in df.columns[1:]:\n",
    "#     temp_df = pd.DataFrame(columns=[\"date\", \"id\", \"value\"])\n",
    "#     temp_df[\"date\"] = df[\"date\"].copy()\n",
    "#     temp_df = temp_df.assign(id=int(col))\n",
    "#     temp_df[\"value\"] = df[col].copy()\n",
    "#     new_df = pd.concat((new_df, temp_df), axis=0)\n",
    "\n",
    "# new_df"
   ]
  },
  {
   "cell_type": "markdown",
   "metadata": {},
   "source": [
    "## Initialize TSDataset, Pipeline, Model, Validator, Strategy"
   ]
  },
  {
   "cell_type": "markdown",
   "metadata": {},
   "source": [
    "### TSDataset"
   ]
  },
  {
   "cell_type": "code",
   "execution_count": 5,
   "metadata": {},
   "outputs": [],
   "source": [
    "TRAIN_SIZE = 0.7\n",
    "TEST_SIZE = 0.2\n",
    "history = 96\n",
    "\n",
    "df_path = Path(\"datasets/global/traffic.csv\")\n",
    "\n",
    "columns_params = {\n",
    "    \"target\": {\n",
    "        \"columns\": [\"value\"],\n",
    "        \"type\": \"continious\",\n",
    "    },\n",
    "    \"date\": {\n",
    "        \"columns\": [\"date\"],\n",
    "        \"type\": \"datetime\",\n",
    "    },\n",
    "    \"id\": {\n",
    "        \"columns\": [\"id\"],\n",
    "        \"type\": \"categorical\",\n",
    "    }\n",
    "}\n",
    "\n",
    "train_dataset, val_dataset, test_dataset = get_train_val_test_datasets(\n",
    "    df_path, columns_params, TRAIN_SIZE, TEST_SIZE, history\n",
    ")"
   ]
  },
  {
   "cell_type": "markdown",
   "metadata": {},
   "source": [
    "### Pipeline"
   ]
  },
  {
   "cell_type": "code",
   "execution_count": 6,
   "metadata": {},
   "outputs": [],
   "source": [
    "pipeline_params = {\n",
    "    \"target\": {\n",
    "        \"columns\": [\"value\"],\n",
    "        \"features\": {\n",
    "            \"StandardScalerTransformer\":\n",
    "                {\n",
    "                    \"transform_target\": True, \n",
    "                    \"transform_features\": True\n",
    "                },\n",
    "            \"LagTransformer\": {\"lags\": 96},\n",
    "        },\n",
    "    },\n",
    "    # \"date\": {\n",
    "    #     \"columns\": [\"date\"],\n",
    "    #     \"features\": {\n",
    "    #         \"DateSeasonsGenerator\": {\n",
    "    #             # Use seasonality features from the date column as \n",
    "    #             # features with datetime lags\n",
    "    #             # Possible values: [\n",
    "    #             #    \"y\": year, \"m\": month, \"d\": day, \n",
    "    #             #    \"wd\": weekday, \"doy\": dayofyear,\n",
    "    #             #    \"hour\": hour, \"min\": minute, \"sec\": second, \n",
    "    #             #    \"ms\": microsecond,  \"ns\": nanosecond\n",
    "    #             # ]\n",
    "    #             \"seasonalities\": ['y', 'm'], \n",
    "    #             # Use date from target point to make datetime features\n",
    "    #             \"from_target_date\": True,\n",
    "    #         },\n",
    "    #         \"LagTransformer\": {\"lags\": 168}\n",
    "    #     },\n",
    "    # },\n",
    "\n",
    "}\n",
    "\n",
    "pipeline = Pipeline.from_dict(pipeline_params, multivariate=True)"
   ]
  },
  {
   "cell_type": "markdown",
   "metadata": {},
   "source": [
    "### Trainer"
   ]
  },
  {
   "cell_type": "code",
   "execution_count": 7,
   "metadata": {},
   "outputs": [],
   "source": [
    "# Configure the model parameters\n",
    "# model = MTGNN\n",
    "# model_params = {\n",
    "#     \"num_nodes\": 8, \"in_dim\": 1, \"subgraph_size\": 8, \"strategy\": 'unidirected', \n",
    "#     \"gcn_true\": True, \"gcn_depth\": 2, \"node_dim\": 40, \"dilation_exp\": 1, \n",
    "#     \"conv_channels\": 32, \"residual_channels\": 32, \"skip_channels\": 64, \n",
    "#     \"end_channels\": 128, \"layers\": 3, \"propalpha\": 0.05, \"tanhalpha\": 3, \n",
    "#     \"layer_norm_affine\": True\n",
    "# }\n",
    "\n",
    "# model = StemGNN\n",
    "# model_params = {\n",
    "#     \"num_nodes\": 8, \"multi_layer\": 5, \"stack_cnt\": 2, \n",
    "#     \"dropout_rate\": 0.5, \"leaky_rate\": 0.2\n",
    "# }\n",
    "\n",
    "# model = ForecastGrapher\n",
    "# model_params = {\n",
    "#     \"num_nodes\": 8, \"node_dim\": 128, \"use_norm\": True, \"e_layers\": 2,\n",
    "#     \"individual\": False, \"z\": 32, \"k\": 3, \"gcn_depth\": 2, \n",
    "#     \"dropout\": 0.05, \"strategy\": \"graph_wavenet\"\n",
    "# }\n",
    "\n",
    "# model = FourierGNN\n",
    "# model_params = {\n",
    "#     \"embed_size\" : 64,  \n",
    "#     \"hidden_size\" : 64\n",
    "# }\n",
    "\n",
    "# model = CrossGNN\n",
    "# model_params = {\n",
    "#     \"enc_in\": 862, \"tk\": 10, \"scale_number\": 4, \"use_tgcn\": True,\n",
    "#     \"use_ngcn\": True, \"individual\": False, \"dropout\": 0.05, \"tvechidden\": 1,\n",
    "#     \"nvechidden\": 1, \"d_model\": 64, \"e_layers\": 2, \"anti_ood\": True\n",
    "# }\n",
    "\n",
    "# model = DLinear_NN\n",
    "# model_params = {\"moving_avg\": 7, \"individual\": False, \"enc_in\": None}\n",
    "\n",
    "model = Linear\n",
    "model_params = {\"enc_in\": 862, \"d_model\": 862, \"individual\": False, \"norm\": True, \"mix\": False}"
   ]
  },
  {
   "cell_type": "code",
   "execution_count": 8,
   "metadata": {},
   "outputs": [],
   "source": [
    "validation = HoldOutValidator\n",
    "validation_params = {\"validation_data\": val_dataset}\n",
    "\n",
    "def get_lr_lambda(factor = 0.1, n_warmup = 5, gamma = 0.9):\n",
    "    def lr_lambda(n):\n",
    "        if n < n_warmup:\n",
    "            return factor + (1 - factor) / (n_warmup - 1) * n\n",
    "        else:\n",
    "            return gamma**(n - n_warmup + 1)\n",
    "    return lr_lambda\n",
    "\n",
    "lr = 0.001\n",
    "lr_lambda = get_lr_lambda(n_warmup=5, gamma=0.95)\n",
    "\n",
    "optimizer = torch.optim.AdamW\n",
    "optimizer_params = {\"lr\" : lr, \"weight_decay\": 1.}\n",
    "\n",
    "scheduler = torch.optim.lr_scheduler.LambdaLR\n",
    "scheduler_params = {\"lr_lambda\" : lr_lambda}\n",
    "\n",
    "trainer_params = {\n",
    "    \"n_epochs\": 30, \n",
    "    \"batch_size\": 64, \n",
    "    \"device\": \"cuda\",\n",
    "    \"num_workers\": 4,\n",
    "    \"stop_by_metric\": True,\n",
    "    \"patience\": 3,\n",
    "    \n",
    "}\n",
    "\n",
    "trainer = DLTrainer(\n",
    "    model, \n",
    "    model_params, \n",
    "    validation, \n",
    "    validation_params, \n",
    "    **trainer_params\n",
    ")"
   ]
  },
  {
   "cell_type": "markdown",
   "metadata": {},
   "source": [
    "### Strategy"
   ]
  },
  {
   "cell_type": "code",
   "execution_count": 9,
   "metadata": {},
   "outputs": [],
   "source": [
    "horizon = 96\n",
    "model_horizon = 96\n",
    "history = 96\n",
    "step = 1"
   ]
  },
  {
   "cell_type": "code",
   "execution_count": 10,
   "metadata": {},
   "outputs": [],
   "source": [
    "strategy = MIMOStrategy(\n",
    "    pipeline=pipeline,\n",
    "    trainer=trainer,\n",
    "    horizon=horizon,\n",
    "    history=history,\n",
    "    step=step,\n",
    ")"
   ]
  },
  {
   "cell_type": "code",
   "execution_count": 11,
   "metadata": {},
   "outputs": [
    {
     "data": {
      "text/plain": [
       "(1632.968272447586, <tsururu.strategies.mimo.MIMOStrategy at 0x7f6db410cf70>)"
      ]
     },
     "execution_count": 11,
     "metadata": {},
     "output_type": "execute_result"
    }
   ],
   "source": [
    "strategy.fit(train_dataset)"
   ]
  },
  {
   "cell_type": "code",
   "execution_count": 12,
   "metadata": {},
   "outputs": [
    {
     "ename": "TypeError",
     "evalue": "'NoneType' object is not iterable",
     "output_type": "error",
     "traceback": [
      "\u001b[0;31m---------------------------------------------------------------------------\u001b[0m",
      "\u001b[0;31mTypeError\u001b[0m                                 Traceback (most recent call last)",
      "Cell \u001b[0;32mIn[12], line 1\u001b[0m\n\u001b[0;32m----> 1\u001b[0m \u001b[43mstrategy\u001b[49m\u001b[38;5;241;43m.\u001b[39;49m\u001b[43mpredict\u001b[49m\u001b[43m(\u001b[49m\u001b[43mtest_dataset\u001b[49m\u001b[43m,\u001b[49m\u001b[43m \u001b[49m\u001b[43mtest_all\u001b[49m\u001b[38;5;241;43m=\u001b[39;49m\u001b[38;5;28;43;01mTrue\u001b[39;49;00m\u001b[43m)\u001b[49m\n",
      "File \u001b[0;32m~/work/tsururu/tsururu/strategies/utils.py:8\u001b[0m, in \u001b[0;36mtiming_decorator.<locals>.wrapper\u001b[0;34m(*args, **kwargs)\u001b[0m\n\u001b[1;32m      6\u001b[0m \u001b[38;5;28;01mdef\u001b[39;00m \u001b[38;5;21mwrapper\u001b[39m(\u001b[38;5;241m*\u001b[39margs, \u001b[38;5;241m*\u001b[39m\u001b[38;5;241m*\u001b[39mkwargs):\n\u001b[1;32m      7\u001b[0m     start_time \u001b[38;5;241m=\u001b[39m time\u001b[38;5;241m.\u001b[39mtime()\n\u001b[0;32m----> 8\u001b[0m     result \u001b[38;5;241m=\u001b[39m \u001b[43mfunc\u001b[49m\u001b[43m(\u001b[49m\u001b[38;5;241;43m*\u001b[39;49m\u001b[43margs\u001b[49m\u001b[43m,\u001b[49m\u001b[43m \u001b[49m\u001b[38;5;241;43m*\u001b[39;49m\u001b[38;5;241;43m*\u001b[39;49m\u001b[43mkwargs\u001b[49m\u001b[43m)\u001b[49m\n\u001b[1;32m      9\u001b[0m     end_time \u001b[38;5;241m=\u001b[39m time\u001b[38;5;241m.\u001b[39mtime()\n\u001b[1;32m     10\u001b[0m     execution_time \u001b[38;5;241m=\u001b[39m end_time \u001b[38;5;241m-\u001b[39m start_time\n",
      "File \u001b[0;32m~/work/tsururu/tsururu/strategies/recursive.py:221\u001b[0m, in \u001b[0;36mRecursiveStrategy.predict\u001b[0;34m(self, dataset, test_all)\u001b[0m\n\u001b[1;32m    219\u001b[0m \u001b[38;5;28;01melse\u001b[39;00m:\n\u001b[1;32m    220\u001b[0m     \u001b[38;5;28;01mfor\u001b[39;00m step \u001b[38;5;129;01min\u001b[39;00m \u001b[38;5;28mrange\u001b[39m(\u001b[38;5;28mself\u001b[39m\u001b[38;5;241m.\u001b[39mhorizon \u001b[38;5;241m/\u001b[39m\u001b[38;5;241m/\u001b[39m \u001b[38;5;28mself\u001b[39m\u001b[38;5;241m.\u001b[39mmodel_horizon):\n\u001b[0;32m--> 221\u001b[0m         new_dataset \u001b[38;5;241m=\u001b[39m \u001b[38;5;28;43mself\u001b[39;49m\u001b[38;5;241;43m.\u001b[39;49m\u001b[43mmake_step\u001b[49m\u001b[43m(\u001b[49m\u001b[43mstep\u001b[49m\u001b[43m,\u001b[49m\u001b[43m \u001b[49m\u001b[43mnew_dataset\u001b[49m\u001b[43m)\u001b[49m\n\u001b[1;32m    223\u001b[0m \u001b[38;5;66;03m# Get dataframe with predictions only\u001b[39;00m\n\u001b[1;32m    224\u001b[0m pred_df \u001b[38;5;241m=\u001b[39m \u001b[38;5;28mself\u001b[39m\u001b[38;5;241m.\u001b[39m_make_preds_df(new_dataset, \u001b[38;5;28mself\u001b[39m\u001b[38;5;241m.\u001b[39mhorizon, \u001b[38;5;28mself\u001b[39m\u001b[38;5;241m.\u001b[39mhistory)\n",
      "File \u001b[0;32m~/work/tsururu/tsururu/strategies/recursive.py:162\u001b[0m, in \u001b[0;36mRecursiveStrategy.make_step\u001b[0;34m(self, step, dataset)\u001b[0m\n\u001b[1;32m    159\u001b[0m data \u001b[38;5;241m=\u001b[39m \u001b[38;5;28mself\u001b[39m\u001b[38;5;241m.\u001b[39mpipeline\u001b[38;5;241m.\u001b[39mcreate_data_dict_for_pipeline(dataset, test_idx, target_idx)\n\u001b[1;32m    160\u001b[0m data \u001b[38;5;241m=\u001b[39m \u001b[38;5;28mself\u001b[39m\u001b[38;5;241m.\u001b[39mpipeline\u001b[38;5;241m.\u001b[39mtransform(data)\n\u001b[0;32m--> 162\u001b[0m pred \u001b[38;5;241m=\u001b[39m \u001b[38;5;28;43mself\u001b[39;49m\u001b[38;5;241;43m.\u001b[39;49m\u001b[43mtrainers\u001b[49m\u001b[43m[\u001b[49m\u001b[38;5;241;43m0\u001b[39;49m\u001b[43m]\u001b[49m\u001b[38;5;241;43m.\u001b[39;49m\u001b[43mpredict\u001b[49m\u001b[43m(\u001b[49m\u001b[43mdata\u001b[49m\u001b[43m,\u001b[49m\u001b[43m \u001b[49m\u001b[38;5;28;43mself\u001b[39;49m\u001b[38;5;241;43m.\u001b[39;49m\u001b[43mpipeline\u001b[49m\u001b[43m)\u001b[49m\n\u001b[1;32m    163\u001b[0m pred \u001b[38;5;241m=\u001b[39m \u001b[38;5;28mself\u001b[39m\u001b[38;5;241m.\u001b[39mpipeline\u001b[38;5;241m.\u001b[39minverse_transform_y(pred)\n\u001b[1;32m    165\u001b[0m dataset\u001b[38;5;241m.\u001b[39mdata\u001b[38;5;241m.\u001b[39mloc[target_idx\u001b[38;5;241m.\u001b[39mreshape(\u001b[38;5;241m-\u001b[39m\u001b[38;5;241m1\u001b[39m), dataset\u001b[38;5;241m.\u001b[39mtarget_column] \u001b[38;5;241m=\u001b[39m pred\u001b[38;5;241m.\u001b[39mreshape(\u001b[38;5;241m-\u001b[39m\u001b[38;5;241m1\u001b[39m)\n",
      "File \u001b[0;32m~/work/tsururu/tsururu/model_training/trainer.py:391\u001b[0m, in \u001b[0;36mDLTrainer.predict\u001b[0;34m(self, data, pipeline)\u001b[0m\n\u001b[1;32m    388\u001b[0m y_pred \u001b[38;5;241m=\u001b[39m torch\u001b[38;5;241m.\u001b[39mtensor(y_pred)\n\u001b[1;32m    390\u001b[0m \u001b[38;5;28;01mif\u001b[39;00m pipeline\u001b[38;5;241m.\u001b[39mmultivariate:\n\u001b[0;32m--> 391\u001b[0m     pipeline\u001b[38;5;241m.\u001b[39my_original_shape \u001b[38;5;241m=\u001b[39m \u001b[38;5;28;43mlist\u001b[39;49m\u001b[43m(\u001b[49m\u001b[43mpipeline\u001b[49m\u001b[38;5;241;43m.\u001b[39;49m\u001b[43my_original_shape\u001b[49m\u001b[43m)\u001b[49m\n\u001b[1;32m    392\u001b[0m     pipeline\u001b[38;5;241m.\u001b[39my_original_shape[\u001b[38;5;241m0\u001b[39m] \u001b[38;5;241m*\u001b[39m\u001b[38;5;241m=\u001b[39m y_pred\u001b[38;5;241m.\u001b[39mshape[\u001b[38;5;241m0\u001b[39m]\n\u001b[1;32m    393\u001b[0m     y_pred \u001b[38;5;241m=\u001b[39m y_pred\u001b[38;5;241m.\u001b[39mpermute(\u001b[38;5;241m0\u001b[39m, \u001b[38;5;241m2\u001b[39m, \u001b[38;5;241m1\u001b[39m)\n",
      "\u001b[0;31mTypeError\u001b[0m: 'NoneType' object is not iterable"
     ]
    }
   ],
   "source": [
    "strategy.predict(test_dataset, test_all=True)"
   ]
  },
  {
   "cell_type": "code",
   "execution_count": null,
   "metadata": {},
   "outputs": [],
   "source": []
  },
  {
   "cell_type": "code",
   "execution_count": null,
   "metadata": {},
   "outputs": [],
   "source": [
    "strategy.trainers[0].models[0].vproj.weight"
   ]
  },
  {
   "cell_type": "code",
   "execution_count": 14,
   "metadata": {},
   "outputs": [
    {
     "data": {
      "text/plain": [
       "[-0.3913857340812683]"
      ]
     },
     "execution_count": 14,
     "metadata": {},
     "output_type": "execute_result"
    }
   ],
   "source": [
    "strategy.trainers[0].scores"
   ]
  },
  {
   "cell_type": "code",
   "execution_count": null,
   "metadata": {},
   "outputs": [],
   "source": [
    "scores = []\n",
    "d_models = [4, 8, 16, 32, 64, 128, 256, 512, 862]\n",
    "\n",
    "for d_model in d_models:\n",
    "    model = Linear\n",
    "    model_params = {\"enc_in\": 862, \"d_model\": d_model, \"individual\": False, \"norm\": True, \"mix\": True}\n",
    "    \n",
    "    validation = HoldOutValidator\n",
    "    validation_params = {\"validation_data\": val_dataset}\n",
    "    \n",
    "    def get_lr_lambda(factor = 0.1, n_warmup = 5, gamma = 0.9):\n",
    "        def lr_lambda(n):\n",
    "            if n < n_warmup:\n",
    "                return factor + (1 - factor) / (n_warmup - 1) * n\n",
    "            else:\n",
    "                return gamma**(n - n_warmup + 1)\n",
    "        return lr_lambda\n",
    "    \n",
    "    lr = 0.001\n",
    "    lr_lambda = get_lr_lambda(n_warmup=5, gamma=0.95)\n",
    "    \n",
    "    optimizer = torch.optim.AdamW\n",
    "    optimizer_params = {\"lr\" : lr, \"weight_decay\": 1.}\n",
    "    \n",
    "    scheduler = torch.optim.lr_scheduler.LambdaLR\n",
    "    scheduler_params = {\"lr_lambda\" : lr_lambda}\n",
    "    \n",
    "    trainer_params = {\n",
    "        \"n_epochs\": 30, \n",
    "        \"batch_size\": 64, \n",
    "        \"device\": \"cuda\",\n",
    "        \"num_workers\": 4,\n",
    "        \"stop_by_metric\": True,\n",
    "        \"patience\": 3,\n",
    "        \n",
    "    }\n",
    "    \n",
    "    trainer = DLTrainer(\n",
    "        model, \n",
    "        model_params, \n",
    "        validation, \n",
    "        validation_params, \n",
    "        **trainer_params\n",
    "    )\n",
    "    \n",
    "    horizon = 96\n",
    "    model_horizon = 96\n",
    "    history = 96\n",
    "    step = 1\n",
    "    \n",
    "    strategy = MIMOStrategy(\n",
    "        pipeline=pipeline,\n",
    "        trainer=trainer,\n",
    "        horizon=horizon,\n",
    "        history=history,\n",
    "        step=step,\n",
    "    )\n",
    "    \n",
    "    strategy.fit(train_dataset)\n",
    "    scores.append(-strategy.trainers[0].scores[-1])\n"
   ]
  },
  {
   "cell_type": "code",
   "execution_count": 11,
   "metadata": {},
   "outputs": [
    {
     "data": {
      "image/png": "[encoded data removed]",
      "text/plain": [
       "<Figure size 640x480 with 1 Axes>"
      ]
     },
     "metadata": {},
     "output_type": "display_data"
    }
   ],
   "source": [
    "import matplotlib.pyplot as plt\n",
    "\n",
    "plt.figure()\n",
    "\n",
    "plt.plot(d_models, scores, label=\"Linear mixed\")\n",
    "plt.axhline(y=0.3914, color='r', linestyle='--', label=\"Linear without mixing\")\n",
    "plt.xlabel(\"Hidden dim size\")\n",
    "plt.ylabel(\"Metric score\")\n",
    "plt.title(\"Metric score for differnet hidden dims\")\n",
    "plt.legend()\n",
    "plt.savefig(f'metric.png', bbox_inches='tight')\n",
    "plt.show()"
   ]
  },
  {
   "cell_type": "code",
   "execution_count": null,
   "metadata": {},
   "outputs": [],
   "source": [
    "plt.errorbar(x, y, yerr=yerr, fmt='-o', ecolor='r', capsize=5, capthick=2)"
   ]
  }
 ],
 "metadata": {
  "kernelspec": {
   "display_name": "Python 3 (ipykernel)",
   "language": "python",
   "name": "python3"
  },
  "language_info": {
   "codemirror_mode": {
    "name": "ipython",
    "version": 3
   },
   "file_extension": ".py",
   "mimetype": "text/x-python",
   "name": "python",
   "nbconvert_exporter": "python",
   "pygments_lexer": "ipython3",
   "version": "3.10.13"
  }
 },
 "nbformat": 4,
 "nbformat_minor": 4
}
