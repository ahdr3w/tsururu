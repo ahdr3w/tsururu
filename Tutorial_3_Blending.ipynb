{
 "cells": [
  {
   "cell_type": "code",
   "execution_count": 1,
   "metadata": {},
   "outputs": [],
   "source": [
    "import warnings\n",
    "\n",
    "warnings.filterwarnings(\"ignore\")\n",
    "\n",
    "from typing import List, Optional, Union\n",
    "\n",
    "import numpy as np\n",
    "import pandas as pd\n",
    "\n",
    "from tsururu.dataset import IndexSlicer, Pipeline, TSDataset\n",
    "from tsururu.models import (\n",
    "    CatBoost, \n",
    "    MeanBlender, \n",
    "    BestModel, \n",
    "    ClassicBlender\n",
    ")\n",
    "from tsururu.strategies import (\n",
    "    DirectStrategy,\n",
    "    FlatWideMIMOStrategy,\n",
    "    MIMOStrategy,\n",
    "    RecursiveStrategy,\n",
    ")\n",
    "from tsururu.transformers import (\n",
    "    DateSeasonsGenerator,\n",
    "    DifferenceNormalizer,\n",
    "    LagTransformer,\n",
    "    LastKnownNormalizer,\n",
    "    SequentialTransformer,\n",
    "    StandardScalerTransformer,\n",
    "    TargetGenerator,\n",
    "    UnionTransformer,\n",
    ")\n",
    "from tsururu.model_training.trainer import MLTrainer\n",
    "from tsururu.model_training.validator import KFoldCrossValidator"
   ]
  },
  {
   "cell_type": "code",
   "execution_count": 2,
   "metadata": {},
   "outputs": [],
   "source": [
    "def get_results(\n",
    "    cv: int,\n",
    "    regime: str,\n",
    "    y_true: Optional[List[np.ndarray]] = None,\n",
    "    y_pred: Optional[List[np.ndarray]] = None,\n",
    "    ids: Optional[List[Union[float, str]]] = None,\n",
    ") -> pd.DataFrame:\n",
    "    def _get_fold_value(\n",
    "        value: Optional[Union[float, np.ndarray]], idx: int\n",
    "    ) -> List[Optional[Union[float, np.ndarray]]]:\n",
    "        if value is None:\n",
    "            return [None]\n",
    "        if isinstance(value[idx], float):\n",
    "            return value[idx]\n",
    "        if isinstance(value[idx], np.ndarray):\n",
    "            return value[idx].reshape(-1)\n",
    "        raise TypeError(f\"Unexpected value type. Value: {value}\")\n",
    "\n",
    "    df_res_dict = {}\n",
    "\n",
    "    for idx_fold in range(cv):\n",
    "        # Fill df_res_dict\n",
    "        for name, value in [(\"y_true\", y_true), (\"y_pred\", y_pred)]:\n",
    "            df_res_dict[f\"{name}_{idx_fold+1}\"] = _get_fold_value(\n",
    "                value, idx_fold\n",
    "            )\n",
    "        if regime != \"local\":\n",
    "            df_res_dict[f\"id_{idx_fold+1}\"] = _get_fold_value(ids, idx_fold)\n",
    "\n",
    "    # Save datasets to specified directory\n",
    "    df_res = pd.DataFrame(df_res_dict)\n",
    "    return df_res"
   ]
  },
  {
   "cell_type": "markdown",
   "metadata": {},
   "source": [
    "There are several main objects to look out for when working with the library:\n",
    "1) `TSDataset`.\n",
    "2) `Pipeline` and `Transformers`\n",
    "3) `Strategy`.\n",
    "4) `Model`."
   ]
  },
  {
   "cell_type": "markdown",
   "metadata": {},
   "source": [
    "### TSDataset"
   ]
  },
  {
   "cell_type": "markdown",
   "metadata": {},
   "source": [
    "This class is needed to store data and meta-information about it."
   ]
  },
  {
   "cell_type": "markdown",
   "metadata": {},
   "source": [
    "To initialise it is necessary to submit the data in `pd.DataFrame` format and define some meta-information about roles that necessary for solving the task of time series forecasting: `id`, `date`, `target`."
   ]
  },
  {
   "cell_type": "code",
   "execution_count": 3,
   "metadata": {},
   "outputs": [
    {
     "data": {
      "text/html": [
       "<div>\n",
       "<style scoped>\n",
       "    .dataframe tbody tr th:only-of-type {\n",
       "        vertical-align: middle;\n",
       "    }\n",
       "\n",
       "    .dataframe tbody tr th {\n",
       "        vertical-align: top;\n",
       "    }\n",
       "\n",
       "    .dataframe thead th {\n",
       "        text-align: right;\n",
       "    }\n",
       "</style>\n",
       "<table border=\"1\" class=\"dataframe\">\n",
       "  <thead>\n",
       "    <tr style=\"text-align: right;\">\n",
       "      <th></th>\n",
       "      <th>Store_id</th>\n",
       "      <th>SKU_id</th>\n",
       "      <th>Date</th>\n",
       "      <th>Promo</th>\n",
       "      <th>Demand</th>\n",
       "      <th>Regular_Price</th>\n",
       "      <th>Promo_Price</th>\n",
       "    </tr>\n",
       "  </thead>\n",
       "  <tbody>\n",
       "    <tr>\n",
       "      <th>11286</th>\n",
       "      <td>23</td>\n",
       "      <td>1</td>\n",
       "      <td>21.04.2015</td>\n",
       "      <td>NaN</td>\n",
       "      <td>94</td>\n",
       "      <td>138.50</td>\n",
       "      <td>NaN</td>\n",
       "    </tr>\n",
       "    <tr>\n",
       "      <th>21302</th>\n",
       "      <td>42</td>\n",
       "      <td>1</td>\n",
       "      <td>19.04.2016</td>\n",
       "      <td>1.0</td>\n",
       "      <td>1414</td>\n",
       "      <td>135.78</td>\n",
       "      <td>122.32</td>\n",
       "    </tr>\n",
       "    <tr>\n",
       "      <th>54850</th>\n",
       "      <td>22</td>\n",
       "      <td>2</td>\n",
       "      <td>25.03.2016</td>\n",
       "      <td>NaN</td>\n",
       "      <td>0</td>\n",
       "      <td>138.36</td>\n",
       "      <td>NaN</td>\n",
       "    </tr>\n",
       "    <tr>\n",
       "      <th>21660</th>\n",
       "      <td>43</td>\n",
       "      <td>1</td>\n",
       "      <td>21.11.2015</td>\n",
       "      <td>NaN</td>\n",
       "      <td>412</td>\n",
       "      <td>130.34</td>\n",
       "      <td>NaN</td>\n",
       "    </tr>\n",
       "    <tr>\n",
       "      <th>71412</th>\n",
       "      <td>55</td>\n",
       "      <td>2</td>\n",
       "      <td>05.09.2015</td>\n",
       "      <td>NaN</td>\n",
       "      <td>13</td>\n",
       "      <td>128.17</td>\n",
       "      <td>NaN</td>\n",
       "    </tr>\n",
       "  </tbody>\n",
       "</table>\n",
       "</div>"
      ],
      "text/plain": [
       "       Store_id  SKU_id        Date  Promo  Demand  Regular_Price  Promo_Price\n",
       "11286        23       1  21.04.2015    NaN      94         138.50          NaN\n",
       "21302        42       1  19.04.2016    1.0    1414         135.78       122.32\n",
       "54850        22       2  25.03.2016    NaN       0         138.36          NaN\n",
       "21660        43       1  21.11.2015    NaN     412         130.34          NaN\n",
       "71412        55       2  05.09.2015    NaN      13         128.17          NaN"
      ]
     },
     "execution_count": 3,
     "metadata": {},
     "output_type": "execute_result"
    }
   ],
   "source": [
    "df_path = \"datasets/global/train_kaggle.csv\"\n",
    "train_df = pd.read_csv(df_path, sep=\",\")\n",
    "train_df.sample(5)"
   ]
  },
  {
   "cell_type": "code",
   "execution_count": 4,
   "metadata": {},
   "outputs": [],
   "source": [
    "train_df[\"Date\"] = pd.to_datetime(train_df['Date'], dayfirst=True, format=\"mixed\")\n",
    "train_df[\"id\"] = train_df[\"Store_id\"].astype(\"str\") + \"_\" + train_df[\"SKU_id\"].astype(\"str\") "
   ]
  },
  {
   "cell_type": "code",
   "execution_count": 5,
   "metadata": {},
   "outputs": [],
   "source": [
    "dataset_params = {\n",
    "    \"target\": {\n",
    "        \"columns\": [\"Demand\"],\n",
    "        \"type\": \"continious\",\n",
    "    },\n",
    "    \"date\": {\n",
    "        \"columns\": [\"Date\"],\n",
    "        \"type\": \"datetime\",\n",
    "    },\n",
    "    \"id\": {\n",
    "        \"columns\": [\"id\"],\n",
    "        \"type\": \"categorical\",\n",
    "    }\n",
    "}"
   ]
  },
  {
   "cell_type": "code",
   "execution_count": 6,
   "metadata": {},
   "outputs": [
    {
     "name": "stdout",
     "output_type": "stream",
     "text": [
      "freq: Day; period: 1\n"
     ]
    }
   ],
   "source": [
    "dataset = TSDataset(\n",
    "    data=train_df,\n",
    "    columns_params=dataset_params,\n",
    "    print_freq_period_info=True,\n",
    ")"
   ]
  },
  {
   "cell_type": "markdown",
   "metadata": {},
   "source": [
    "### Pipeline and Transformers"
   ]
  },
  {
   "cell_type": "markdown",
   "metadata": {},
   "source": [
    "#### What kind of transformers are there?"
   ]
  },
  {
   "cell_type": "markdown",
   "metadata": {},
   "source": [
    "Special attention should be paid to the `Transformer` class: the elements of the pipeline that are responsible for transforming the values of a series and generating features. `Pipeline` class is a wrapper over transformers which is needed to provide some additional methods and functions above them.\n",
    "\n",
    "There are two types of transformers that are used to collect pipelines:\n",
    "- `Union` transformers;\n",
    "- `Sequential` transformers.\n",
    "\n",
    "Below is a list of available Transformers: \n",
    "- `StandardScalerTransformer` *(Series4Series)*.\n",
    "- `DifferenceNormalizer` *(Series4Series)*: subtract the previous value or divide by it.\n",
    "- `LastKnownNormalizer` *(Features4Features)*: normalize all lags by the last known one: divide by it or subtract.\n",
    "\n",
    "This three transformers provide flags `transform_features` / `transform_target`, that allow you to manipulate traits and targets separately and get different results from them.\n",
    "\n",
    "Besides, __DifferenceNormalizer__ and __LastKnownNormalizer__ can be applied in two regimes: `delta` and `ratio`: in the first case, normalisation means subtracting the target value from the current value, and in the second, dividing by it.\n",
    "\n",
    "- `LabelEncodingTransformer` and `OneHotEncodingTransformer` *(Series4Series)* - encoders for categorical features.\n",
    "- `TimeToNumGenerator` and `DateSeasonsGenerator` *(Series4Series)* - generator for seasonal features by dates.\n",
    "- `LagTransformer` *(Series4Features) - generator for lags. \n",
    "\n",
    "__!!!The lag transformer must necessarily be present in the sequential transformer, otherwise the features will not be generated.!!!__\n",
    "\n",
    "Finally, to generate targets, you need to use `TargetGenerator`."
   ]
  },
  {
   "cell_type": "markdown",
   "metadata": {},
   "source": [
    "#### Transformers must be assembled in order!"
   ]
  },
  {
   "cell_type": "markdown",
   "metadata": {},
   "source": [
    "The __SeriesToSeries__ transformers should come first, followed by the LagTransformer and TargetGenerator (__SeriesToFeatures__), and then the __FeaturesToFeatures__ transformers.\n",
    "\n",
    "!!!Thus, `StandardScalerNormalizer` and `DifferenceNormalizer` should be before `LagTransformer` and `LastKnownNormalizer` after it!!!"
   ]
  },
  {
   "cell_type": "markdown",
   "metadata": {},
   "source": [
    "#### How to build a Pipeline?"
   ]
  },
  {
   "cell_type": "markdown",
   "metadata": {},
   "source": [
    "So, there are two ways to build a pipline from transformers: initialise the transformers of interest by hand or use a config in the form of a dictionary. Let's look at both ways."
   ]
  },
  {
   "cell_type": "code",
   "execution_count": 7,
   "metadata": {},
   "outputs": [],
   "source": [
    "standard_scaler = StandardScalerTransformer(\n",
    "    transform_features=True,\n",
    "    transform_target=True\n",
    ")\n",
    "\n",
    "lag = LagTransformer(lags=3)\n",
    "date_lag = LagTransformer(lags=3)\n",
    "id_lag = LagTransformer(lags=1)\n",
    "\n",
    "target_generator = TargetGenerator()\n",
    "\n",
    "date_seasons = DateSeasonsGenerator(\n",
    "    seasonalities=[\"doy\", \"m\", \"wd\"],\n",
    "    from_target_date=True,\n",
    ")"
   ]
  },
  {
   "cell_type": "code",
   "execution_count": 8,
   "metadata": {},
   "outputs": [],
   "source": [
    "union_1 = UnionTransformer(transformers_list=[lag, target_generator])\n",
    "\n",
    "seq_1 = SequentialTransformer(transformers_list=[standard_scaler, union_1], input_features=[\"Demand\"])\n",
    "seq_2 = SequentialTransformer(transformers_list=[date_seasons, date_lag], input_features=[\"Date\"])\n",
    "seq_3 = SequentialTransformer(transformers_list=[id_lag], input_features=[\"id\"])\n",
    "\n",
    "union = UnionTransformer(transformers_list=[seq_1, seq_2, seq_3])"
   ]
  },
  {
   "cell_type": "code",
   "execution_count": 9,
   "metadata": {},
   "outputs": [],
   "source": [
    "pipeline_1 = Pipeline(union, multivariate=False)"
   ]
  },
  {
   "cell_type": "code",
   "execution_count": 10,
   "metadata": {},
   "outputs": [
    {
     "data": {
      "text/plain": [
       "{'transformers': <tsururu.transformers.base.UnionTransformer at 0x1f2a2fe99d0>,\n",
       " 'multivariate': False,\n",
       " 'is_fitted': False,\n",
       " 'strategy_name': None,\n",
       " 'output_features': None,\n",
       " 'y_original_shape': None}"
      ]
     },
     "execution_count": 10,
     "metadata": {},
     "output_type": "execute_result"
    }
   ],
   "source": [
    "pipeline_1.__dict__"
   ]
  },
  {
   "cell_type": "markdown",
   "metadata": {},
   "source": [
    "Or:"
   ]
  },
  {
   "cell_type": "code",
   "execution_count": 11,
   "metadata": {},
   "outputs": [],
   "source": [
    "pipeline_params = {\n",
    "    \"target\": {\n",
    "        \"columns\": [\"Demand\"],\n",
    "        \"features\": {\n",
    "            \"StandardScalerTransformer\":\n",
    "                {\n",
    "                    \"transform_target\": True, \n",
    "                    \"transform_features\": True\n",
    "                },\n",
    "            \"LagTransformer\": {\"lags\": 7},\n",
    "        },\n",
    "    },\n",
    "    \"date\": {\n",
    "        \"columns\": [\"Date\"],\n",
    "        \"features\": {\n",
    "            \"DateSeasonsGenerator\": {\n",
    "                # Use seasonality features from the date column as \n",
    "                # features with datetime lags\n",
    "                # Possible values: [\n",
    "                #    \"y\": year, \"m\": month, \"d\": day, \n",
    "                #    \"wd\": weekday, \"doy\": dayofyear,\n",
    "                #    \"hour\": hour, \"min\": minute, \"sec\": second, \n",
    "                #    \"ms\": microsecond,  \"ns\": nanosecond\n",
    "                # ]\n",
    "                \"seasonalities\": ['doy', 'm', 'wd'], \n",
    "                # Use date from target point to make datetime features\n",
    "                \"from_target_date\": True,\n",
    "            },\n",
    "            \"LagTransformer\": {\"lags\": 3}\n",
    "        },\n",
    "    },\n",
    "    \"id\": {\n",
    "        \"columns\": [\"id\"],\n",
    "        \"features\": {\n",
    "            \"LabelEncodingTransformer\": {},\n",
    "            \"LagTransformer\": {\"lags\": 1},\n",
    "        },\n",
    "    }\n",
    "}"
   ]
  },
  {
   "cell_type": "code",
   "execution_count": 12,
   "metadata": {},
   "outputs": [],
   "source": [
    "pipeline = Pipeline.from_dict(pipeline_params, multivariate=False)"
   ]
  },
  {
   "cell_type": "markdown",
   "metadata": {},
   "source": [
    "Or:"
   ]
  },
  {
   "cell_type": "code",
   "execution_count": 13,
   "metadata": {},
   "outputs": [],
   "source": [
    "pipeline_easy_params = {\n",
    "    # One from [\"none\", \"standard_scaler\", \"difference_normalizer\", \"last_known_normalizer\"]\n",
    "    \"target_normalizer\": \"standard_scaler\",\n",
    "\n",
    "    # One from [\"none\", \"delta\", \"ratio\"]  (MUST BE \"none\" for \"standard_scaler\" and NOT \"none\" for others)\n",
    "    \"normalizer_regime\": \"none\",\n",
    "\n",
    "    # One from [\"features\", \"target\", \"features_target\"]\n",
    "    \"normalizer_transform_regime\": \"features_target\",\n",
    "\n",
    "    \"target_lags\": 3,\n",
    "    \"date_lags\": 1,\n",
    "#    \"exog_lags\": 1,\n",
    "}"
   ]
  },
  {
   "cell_type": "code",
   "execution_count": 14,
   "metadata": {},
   "outputs": [],
   "source": [
    "pipeline = Pipeline.easy_setup(dataset_params, pipeline_easy_params, multivariate=False)"
   ]
  },
  {
   "cell_type": "markdown",
   "metadata": {},
   "source": [
    "#### Can I use exogenous variables in the pipeline?"
   ]
  },
  {
   "cell_type": "markdown",
   "metadata": {},
   "source": [
    "Yes! Exogenous variables can also be specified here. Just include them in your pipeline.\n",
    "\n",
    "However, their operation is currently tested only for the `MIMOStrategy` in global-modelling. For other strategies support of additional variables is under development."
   ]
  },
  {
   "cell_type": "code",
   "execution_count": 15,
   "metadata": {},
   "outputs": [],
   "source": [
    "# pipeline_params[\"exog_group_1\"] = {\n",
    "#     \"columns\": [\"value\"],\n",
    "#     \"features\": {\n",
    "#         \"StandardScalerTransformer\":\n",
    "#             {\n",
    "#                 \"transform_target\": False, \n",
    "#                 \"transform_features\": True\n",
    "#             },\n",
    "#         \"LagTransformer\": {\"lags\": 7},\n",
    "#     },\n",
    "# }"
   ]
  },
  {
   "cell_type": "markdown",
   "metadata": {},
   "source": [
    "__Make sure you have the transform_target = False flag for exogenous features!__"
   ]
  },
  {
   "cell_type": "markdown",
   "metadata": {},
   "source": [
    "#### Model"
   ]
  },
  {
   "cell_type": "markdown",
   "metadata": {},
   "source": [
    "The model is separate from the strategy. Any model can be run in any strategy if it supports this input and output format"
   ]
  },
  {
   "cell_type": "markdown",
   "metadata": {},
   "source": [
    "One of the easiest options – is to use GBM."
   ]
  },
  {
   "cell_type": "code",
   "execution_count": 16,
   "metadata": {},
   "outputs": [],
   "source": [
    "# Configure the model parameters\n",
    "model_params = {\n",
    "    \"loss_function\": \"MultiRMSE\",\n",
    "    \"early_stopping_rounds\": 100,\n",
    "    \"verbose\": 500,\n",
    "}\n",
    "\n",
    "# Configure the validation parameters\n",
    "validation_params = {\n",
    "     \"n_splits\": 2,\n",
    "     \"shuffle\": True,\n",
    "     \"random_state\": 42,\n",
    " }"
   ]
  },
  {
   "cell_type": "code",
   "execution_count": 17,
   "metadata": {},
   "outputs": [],
   "source": [
    "model = CatBoost\n",
    "validation = KFoldCrossValidator"
   ]
  },
  {
   "cell_type": "code",
   "execution_count": 18,
   "metadata": {},
   "outputs": [],
   "source": [
    "trainer = MLTrainer(\n",
    "    model, \n",
    "    model_params, \n",
    "    validation,\n",
    "    validation_params,\n",
    ")"
   ]
  },
  {
   "cell_type": "markdown",
   "metadata": {},
   "source": [
    "#### Strategy"
   ]
  },
  {
   "cell_type": "markdown",
   "metadata": {},
   "source": [
    "- _Recursive:_ \n",
    "    - one model for all points of the forecast horizon;\n",
    "    - *training*: the model is trained to predict one point ahead;\n",
    "    - *prediction*: a prediction is iteratively made one point ahead, and then this prediction is used to further shape the features in the test data. \n",
    "- _Recursive-reduced:_\n",
    "    - one model for all points in the prediction horizon;\n",
    "    - *training*: the model is trained to predict one point ahead;\n",
    "    - *prediction*: features are generated for all test observations at once, unavailable values are replaced by NaN.\n",
    "- _Direct:_ \n",
    "    - individual models for each point in the prediction horizon. \n",
    "- _MultiOutput (MIMO - Multi-input-multi-output):_\n",
    "    - one model that learns to predict the entire prediction horizon. \n",
    "    - __Also, this strategy supports the presence of `exogenous features` (only for local- or global-modelling).__\n",
    "- _FlatWideMIMO:_.\n",
    "    - mixture of Direct and MIMO, fit one model, but uses deployed over horizon Direct's features.\n",
    "    - __Number of `lags for datetime features` should be equal to `horizon` while using this strategy.__"
   ]
  },
  {
   "cell_type": "code",
   "execution_count": 19,
   "metadata": {},
   "outputs": [],
   "source": [
    "horizon = 7\n",
    "model_horizon = 7\n",
    "history = 7\n",
    "step = 1\n",
    "\n",
    "strategy = RecursiveStrategy(\n",
    "    pipeline=pipeline,\n",
    "    trainer=trainer,\n",
    "    horizon=horizon,\n",
    "    history=history,\n",
    "    step=step,\n",
    ")"
   ]
  },
  {
   "cell_type": "code",
   "execution_count": 20,
   "metadata": {},
   "outputs": [
    {
     "ename": "ValueError",
     "evalue": "not enough values to unpack (expected 5, got 2)",
     "output_type": "error",
     "traceback": [
      "\u001b[1;31m---------------------------------------------------------------------------\u001b[0m",
      "\u001b[1;31mValueError\u001b[0m                                Traceback (most recent call last)",
      "Cell \u001b[1;32mIn[20], line 1\u001b[0m\n\u001b[1;32m----> 1\u001b[0m fit_time, _ \u001b[38;5;241m=\u001b[39m strategy\u001b[38;5;241m.\u001b[39mfit(dataset)\n",
      "File \u001b[1;32m~\\Desktop\\tsururu\\tsururu\\strategies\\utils.py:8\u001b[0m, in \u001b[0;36mtiming_decorator.<locals>.wrapper\u001b[1;34m(*args, **kwargs)\u001b[0m\n\u001b[0;32m      6\u001b[0m \u001b[38;5;28;01mdef\u001b[39;00m \u001b[38;5;21mwrapper\u001b[39m(\u001b[38;5;241m*\u001b[39margs, \u001b[38;5;241m*\u001b[39m\u001b[38;5;241m*\u001b[39mkwargs):\n\u001b[0;32m      7\u001b[0m     start_time \u001b[38;5;241m=\u001b[39m time\u001b[38;5;241m.\u001b[39mtime()\n\u001b[1;32m----> 8\u001b[0m     result \u001b[38;5;241m=\u001b[39m func(\u001b[38;5;241m*\u001b[39margs, \u001b[38;5;241m*\u001b[39m\u001b[38;5;241m*\u001b[39mkwargs)\n\u001b[0;32m      9\u001b[0m     end_time \u001b[38;5;241m=\u001b[39m time\u001b[38;5;241m.\u001b[39mtime()\n\u001b[0;32m     10\u001b[0m     execution_time \u001b[38;5;241m=\u001b[39m end_time \u001b[38;5;241m-\u001b[39m start_time\n",
      "File \u001b[1;32m~\\Desktop\\tsururu\\tsururu\\strategies\\recursive.py:123\u001b[0m, in \u001b[0;36mRecursiveStrategy.fit\u001b[1;34m(self, dataset)\u001b[0m\n\u001b[0;32m    120\u001b[0m     \u001b[38;5;28mself\u001b[39m\u001b[38;5;241m.\u001b[39mtrainer\u001b[38;5;241m.\u001b[39mhorizon \u001b[38;5;241m=\u001b[39m \u001b[38;5;28mself\u001b[39m\u001b[38;5;241m.\u001b[39mmodel_horizon\n\u001b[0;32m    121\u001b[0m     \u001b[38;5;28mself\u001b[39m\u001b[38;5;241m.\u001b[39mtrainer\u001b[38;5;241m.\u001b[39mhistory \u001b[38;5;241m=\u001b[39m \u001b[38;5;28mself\u001b[39m\u001b[38;5;241m.\u001b[39mhistory\n\u001b[1;32m--> 123\u001b[0m \u001b[38;5;28mself\u001b[39m\u001b[38;5;241m.\u001b[39mtrainer\u001b[38;5;241m.\u001b[39mfit(data, \u001b[38;5;28mself\u001b[39m\u001b[38;5;241m.\u001b[39mpipeline, val_data)\n\u001b[0;32m    125\u001b[0m \u001b[38;5;28mself\u001b[39m\u001b[38;5;241m.\u001b[39mtrainers\u001b[38;5;241m.\u001b[39mappend(\u001b[38;5;28mself\u001b[39m\u001b[38;5;241m.\u001b[39mtrainer)\n\u001b[0;32m    126\u001b[0m \u001b[38;5;28;01mreturn\u001b[39;00m \u001b[38;5;28mself\u001b[39m\n",
      "File \u001b[1;32m~\\Desktop\\tsururu\\tsururu\\model_training\\trainer.py:72\u001b[0m, in \u001b[0;36mMLTrainer.fit\u001b[1;34m(self, data, pipeline, val_data)\u001b[0m\n\u001b[0;32m     69\u001b[0m \u001b[38;5;28mself\u001b[39m\u001b[38;5;241m.\u001b[39mfeatures_argsort \u001b[38;5;241m=\u001b[39m np\u001b[38;5;241m.\u001b[39margsort(pipeline\u001b[38;5;241m.\u001b[39moutput_features)\n\u001b[0;32m     70\u001b[0m X \u001b[38;5;241m=\u001b[39m X[:, \u001b[38;5;28mself\u001b[39m\u001b[38;5;241m.\u001b[39mfeatures_argsort]\n\u001b[1;32m---> 72\u001b[0m \u001b[38;5;28;01mfor\u001b[39;00m fold_i, X_train, y_train, X_val, y_val \u001b[38;5;129;01min\u001b[39;00m \u001b[38;5;28menumerate\u001b[39m(\n\u001b[0;32m     73\u001b[0m     \u001b[38;5;28mself\u001b[39m\u001b[38;5;241m.\u001b[39mvalidator(\u001b[38;5;241m*\u001b[39m\u001b[38;5;241m*\u001b[39m\u001b[38;5;28mself\u001b[39m\u001b[38;5;241m.\u001b[39mvalidation_params)\u001b[38;5;241m.\u001b[39mget_split(X, y, X_val, y_val)\n\u001b[0;32m     74\u001b[0m ):\n\u001b[0;32m     75\u001b[0m     model \u001b[38;5;241m=\u001b[39m \u001b[38;5;28mself\u001b[39m\u001b[38;5;241m.\u001b[39mmodel(\u001b[38;5;241m*\u001b[39m\u001b[38;5;241m*\u001b[39m\u001b[38;5;28mself\u001b[39m\u001b[38;5;241m.\u001b[39mmodel_params[\u001b[38;5;124m\"\u001b[39m\u001b[38;5;124mparams\u001b[39m\u001b[38;5;124m\"\u001b[39m])\n\u001b[0;32m     76\u001b[0m     model\u001b[38;5;241m.\u001b[39mfit_one_fold(X_train, y_train, X_val, y_val)\n",
      "\u001b[1;31mValueError\u001b[0m: not enough values to unpack (expected 5, got 2)"
     ]
    }
   ],
   "source": [
    "fit_time, _ = strategy.fit(dataset)"
   ]
  },
  {
   "cell_type": "code",
   "execution_count": null,
   "metadata": {},
   "outputs": [],
   "source": [
    "forecast_time, current_pred = strategy.predict(dataset)"
   ]
  },
  {
   "cell_type": "code",
   "execution_count": null,
   "metadata": {},
   "outputs": [],
   "source": [
    "current_pred"
   ]
  },
  {
   "cell_type": "markdown",
   "metadata": {},
   "source": [
    "## Backtest validation of pipeline"
   ]
  },
  {
   "cell_type": "code",
   "execution_count": null,
   "metadata": {},
   "outputs": [],
   "source": [
    "ids, test, pred, fit_time, forecast_time = strategy.back_test(dataset, cv=1)"
   ]
  },
  {
   "cell_type": "code",
   "execution_count": null,
   "metadata": {},
   "outputs": [],
   "source": [
    "get_results(cv=1, regime=\"global\", y_true=test, y_pred=pred, ids=ids)"
   ]
  },
  {
   "cell_type": "markdown",
   "metadata": {},
   "source": [
    "## Working with raw time series' granularity"
   ]
  },
  {
   "cell_type": "markdown",
   "metadata": {},
   "source": [
    "Time series come in different granularities, from hourly and daily time series to more complex ones such as the end of each quarter.\n",
    "\n",
    "If the rows do not contain segments that are too short (that are shorter than history + horizon), then `tsururu` will try to extract the row granularity on its own. We currently support the following types:\n",
    "\n",
    "- Yearly (and YearlyEnd)\n",
    "- Quarterly (and Quarterly)\n",
    "- Monthly (and MonthlyEnd)\n",
    "- Weekly\n",
    "- Daily\n",
    "- Hourly\n",
    "- Minlutely\n",
    "- Secondly\n",
    "- Microsecondly\n",
    "\n",
    "There is also support for compound granularities (10 days, 15 minutes, 32 seconds, etc.). The correctness of the selected granularity can be checked from the output after the `Dataset` class has been created.\n",
    "\n",
    "However, there are tricky situations (e.g. 28 days) where the monthly granularity may be guessed incorrectly. Therefore, it is possible to set your own granularity using the `pd.DateOffset` class or related classes from `pandas.tseries.offsets`, which must be fed as `delta` parameter into the `Dataset` class. Then the time column will be processed according to the user's settings."
   ]
  },
  {
   "cell_type": "markdown",
   "metadata": {},
   "source": [
    "Consider a time series where each point is exactly __28 daily points away__ from each other"
   ]
  },
  {
   "cell_type": "code",
   "execution_count": null,
   "metadata": {},
   "outputs": [],
   "source": [
    "df_path_2 = \"datasets/global/simulated_data_to_check_28D.csv\"\n",
    "\n",
    "# Configure the features settings\n",
    "dataset_params_2 = {\n",
    "    \"target\": {\n",
    "        \"columns\": [\"value\"],\n",
    "        \"type\": \"continious\",\n",
    "    },\n",
    "    \"date\": {\n",
    "        \"columns\": [\"date\"],\n",
    "        \"type\": \"datetime\",\n",
    "    },\n",
    "    \"id\": {\n",
    "        \"columns\": [\"id\"],\n",
    "        \"type\": \"categorical\",\n",
    "    }\n",
    "}"
   ]
  },
  {
   "cell_type": "code",
   "execution_count": null,
   "metadata": {},
   "outputs": [],
   "source": [
    "dataset_2 = TSDataset(\n",
    "    data=pd.read_csv(df_path_2),\n",
    "    columns_params=dataset_params_2,\n",
    "    print_freq_period_info=True,\n",
    ")"
   ]
  },
  {
   "cell_type": "markdown",
   "metadata": {},
   "source": [
    "We see that the frequency of the series is incorrectly defined as monthly. Let's try to pass the `delta` parameter."
   ]
  },
  {
   "cell_type": "code",
   "execution_count": null,
   "metadata": {},
   "outputs": [],
   "source": [
    "dataset_2 = TSDataset(\n",
    "    data=pd.read_csv(df_path_2),\n",
    "    columns_params=dataset_params_2,\n",
    "    delta=pd.DateOffset(days=28),\n",
    "    print_freq_period_info=True,\n",
    ")"
   ]
  },
  {
   "cell_type": "markdown",
   "metadata": {},
   "source": [
    "Now it's all detected correctly."
   ]
  }
 ],
 "metadata": {
  "kernelspec": {
   "display_name": "Python 3 (ipykernel)",
   "language": "python",
   "name": "python3"
  },
  "language_info": {
   "codemirror_mode": {
    "name": "ipython",
    "version": 3
   },
   "file_extension": ".py",
   "mimetype": "text/x-python",
   "name": "python",
   "nbconvert_exporter": "python",
   "pygments_lexer": "ipython3",
   "version": "3.11.5"
  }
 },
 "nbformat": 4,
 "nbformat_minor": 2
}
